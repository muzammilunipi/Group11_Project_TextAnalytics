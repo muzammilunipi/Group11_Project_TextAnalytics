{
  "cells": [
    {
      "cell_type": "code",
      "execution_count": null,
      "metadata": {
        "colab": {
          "base_uri": "https://localhost:8080/"
        },
        "id": "b_ADmMjH35FB",
        "outputId": "d786f6bc-75d1-48c1-a6ad-2822e9200dcc"
      },
      "outputs": [
        {
          "output_type": "stream",
          "name": "stdout",
          "text": [
            "Drive already mounted at /content/drive; to attempt to forcibly remount, call drive.mount(\"/content/drive\", force_remount=True).\n"
          ]
        }
      ],
      "source": [
        "from google.colab import drive\n",
        "drive.mount('/content/drive')"
      ]
    },
    {
      "cell_type": "code",
      "execution_count": null,
      "metadata": {
        "colab": {
          "base_uri": "https://localhost:8080/",
          "height": 904
        },
        "id": "Ekco6zyWyhX-",
        "outputId": "abbe132d-b57e-4fce-9d8e-b2e7631ea8c9"
      },
      "outputs": [
        {
          "output_type": "stream",
          "name": "stdout",
          "text": [
            "Looking in indexes: https://pypi.org/simple, https://us-python.pkg.dev/colab-wheels/public/simple/\n",
            "Requirement already satisfied: seaborn in /usr/local/lib/python3.8/dist-packages (0.11.2)\n",
            "Collecting seaborn\n",
            "  Downloading seaborn-0.12.1-py3-none-any.whl (288 kB)\n",
            "\u001b[K     |████████████████████████████████| 288 kB 8.2 MB/s \n",
            "\u001b[?25hRequirement already satisfied: pandas>=0.25 in /usr/local/lib/python3.8/dist-packages (from seaborn) (1.3.5)\n",
            "Requirement already satisfied: numpy>=1.17 in /usr/local/lib/python3.8/dist-packages (from seaborn) (1.21.6)\n",
            "Requirement already satisfied: matplotlib!=3.6.1,>=3.1 in /usr/local/lib/python3.8/dist-packages (from seaborn) (3.2.2)\n",
            "Requirement already satisfied: python-dateutil>=2.1 in /usr/local/lib/python3.8/dist-packages (from matplotlib!=3.6.1,>=3.1->seaborn) (2.8.2)\n",
            "Requirement already satisfied: kiwisolver>=1.0.1 in /usr/local/lib/python3.8/dist-packages (from matplotlib!=3.6.1,>=3.1->seaborn) (1.4.4)\n",
            "Requirement already satisfied: cycler>=0.10 in /usr/local/lib/python3.8/dist-packages (from matplotlib!=3.6.1,>=3.1->seaborn) (0.11.0)\n",
            "Requirement already satisfied: pyparsing!=2.0.4,!=2.1.2,!=2.1.6,>=2.0.1 in /usr/local/lib/python3.8/dist-packages (from matplotlib!=3.6.1,>=3.1->seaborn) (3.0.9)\n",
            "Requirement already satisfied: pytz>=2017.3 in /usr/local/lib/python3.8/dist-packages (from pandas>=0.25->seaborn) (2022.6)\n",
            "Requirement already satisfied: six>=1.5 in /usr/local/lib/python3.8/dist-packages (from python-dateutil>=2.1->matplotlib!=3.6.1,>=3.1->seaborn) (1.15.0)\n",
            "Installing collected packages: seaborn\n",
            "  Attempting uninstall: seaborn\n",
            "    Found existing installation: seaborn 0.11.2\n",
            "    Uninstalling seaborn-0.11.2:\n",
            "      Successfully uninstalled seaborn-0.11.2\n",
            "Successfully installed seaborn-0.12.1\n",
            "Looking in indexes: https://pypi.org/simple, https://us-python.pkg.dev/colab-wheels/public/simple/\n",
            "Requirement already satisfied: matplotlib in /usr/local/lib/python3.8/dist-packages (3.2.2)\n",
            "Collecting matplotlib\n",
            "  Downloading matplotlib-3.6.2-cp38-cp38-manylinux_2_12_x86_64.manylinux2010_x86_64.whl (9.4 MB)\n",
            "\u001b[K     |████████████████████████████████| 9.4 MB 7.2 MB/s \n",
            "\u001b[?25hRequirement already satisfied: pillow>=6.2.0 in /usr/local/lib/python3.8/dist-packages (from matplotlib) (7.1.2)\n",
            "Requirement already satisfied: pyparsing>=2.2.1 in /usr/local/lib/python3.8/dist-packages (from matplotlib) (3.0.9)\n",
            "Requirement already satisfied: kiwisolver>=1.0.1 in /usr/local/lib/python3.8/dist-packages (from matplotlib) (1.4.4)\n",
            "Collecting contourpy>=1.0.1\n",
            "  Downloading contourpy-1.0.6-cp38-cp38-manylinux_2_17_x86_64.manylinux2014_x86_64.whl (295 kB)\n",
            "\u001b[K     |████████████████████████████████| 295 kB 52.2 MB/s \n",
            "\u001b[?25hRequirement already satisfied: packaging>=20.0 in /usr/local/lib/python3.8/dist-packages (from matplotlib) (21.3)\n",
            "Collecting fonttools>=4.22.0\n",
            "  Downloading fonttools-4.38.0-py3-none-any.whl (965 kB)\n",
            "\u001b[K     |████████████████████████████████| 965 kB 51.5 MB/s \n",
            "\u001b[?25hRequirement already satisfied: numpy>=1.19 in /usr/local/lib/python3.8/dist-packages (from matplotlib) (1.21.6)\n",
            "Requirement already satisfied: cycler>=0.10 in /usr/local/lib/python3.8/dist-packages (from matplotlib) (0.11.0)\n",
            "Requirement already satisfied: python-dateutil>=2.7 in /usr/local/lib/python3.8/dist-packages (from matplotlib) (2.8.2)\n",
            "Requirement already satisfied: six>=1.5 in /usr/local/lib/python3.8/dist-packages (from python-dateutil>=2.7->matplotlib) (1.15.0)\n",
            "Installing collected packages: fonttools, contourpy, matplotlib\n",
            "  Attempting uninstall: matplotlib\n",
            "    Found existing installation: matplotlib 3.2.2\n",
            "    Uninstalling matplotlib-3.2.2:\n",
            "      Successfully uninstalled matplotlib-3.2.2\n",
            "Successfully installed contourpy-1.0.6 fonttools-4.38.0 matplotlib-3.6.2\n"
          ]
        },
        {
          "output_type": "display_data",
          "data": {
            "application/vnd.colab-display-data+json": {
              "pip_warning": {
                "packages": [
                  "matplotlib",
                  "mpl_toolkits"
                ]
              }
            }
          },
          "metadata": {}
        }
      ],
      "source": [
        "!pip install seaborn --upgrade seaborn\n",
        "!pip install matplotlib --upgrade matplotlib"
      ]
    },
    {
      "cell_type": "code",
      "execution_count": null,
      "metadata": {
        "colab": {
          "base_uri": "https://localhost:8080/"
        },
        "id": "inXWnB-8pmj4",
        "outputId": "e3a38463-2a84-4677-af9a-27d019d550b7"
      },
      "outputs": [
        {
          "output_type": "stream",
          "name": "stdout",
          "text": [
            "Looking in indexes: https://pypi.org/simple, https://us-python.pkg.dev/colab-wheels/public/simple/\n",
            "Collecting text2emotion\n",
            "  Downloading text2emotion-0.0.5-py3-none-any.whl (57 kB)\n",
            "\u001b[K     |████████████████████████████████| 57 kB 3.4 MB/s \n",
            "\u001b[?25hCollecting emoji>=0.6.0\n",
            "  Downloading emoji-2.2.0.tar.gz (240 kB)\n",
            "\u001b[K     |████████████████████████████████| 240 kB 18.9 MB/s \n",
            "\u001b[?25hRequirement already satisfied: nltk in /usr/local/lib/python3.8/dist-packages (from text2emotion) (3.7)\n",
            "Requirement already satisfied: click in /usr/local/lib/python3.8/dist-packages (from nltk->text2emotion) (7.1.2)\n",
            "Requirement already satisfied: joblib in /usr/local/lib/python3.8/dist-packages (from nltk->text2emotion) (1.2.0)\n",
            "Requirement already satisfied: regex>=2021.8.3 in /usr/local/lib/python3.8/dist-packages (from nltk->text2emotion) (2022.6.2)\n",
            "Requirement already satisfied: tqdm in /usr/local/lib/python3.8/dist-packages (from nltk->text2emotion) (4.64.1)\n",
            "Building wheels for collected packages: emoji\n",
            "  Building wheel for emoji (setup.py) ... \u001b[?25l\u001b[?25hdone\n",
            "  Created wheel for emoji: filename=emoji-2.2.0-py3-none-any.whl size=234926 sha256=979ab0fd2111adffa28479941082da4c134f615c45aa49a853b7c05277af05ee\n",
            "  Stored in directory: /root/.cache/pip/wheels/86/62/9e/a6b27a681abcde69970dbc0326ff51955f3beac72f15696984\n",
            "Successfully built emoji\n",
            "Installing collected packages: emoji, text2emotion\n",
            "Successfully installed emoji-2.2.0 text2emotion-0.0.5\n"
          ]
        }
      ],
      "source": [
        "!pip install text2emotion"
      ]
    },
    {
      "cell_type": "code",
      "execution_count": null,
      "metadata": {
        "colab": {
          "base_uri": "https://localhost:8080/"
        },
        "id": "RYFTv0wdrW1h",
        "outputId": "6b89ab27-c058-4a73-f357-a7ec9ce7776b"
      },
      "outputs": [
        {
          "output_type": "stream",
          "name": "stdout",
          "text": [
            "Looking in indexes: https://pypi.org/simple, https://us-python.pkg.dev/colab-wheels/public/simple/\n",
            "Collecting emoji==1.7.0\n",
            "  Downloading emoji-1.7.0.tar.gz (175 kB)\n",
            "\u001b[K     |████████████████████████████████| 175 kB 9.2 MB/s \n",
            "\u001b[?25hBuilding wheels for collected packages: emoji\n",
            "  Building wheel for emoji (setup.py) ... \u001b[?25l\u001b[?25hdone\n",
            "  Created wheel for emoji: filename=emoji-1.7.0-py3-none-any.whl size=171046 sha256=db921255a005aa4d4aa05306b2791d85441b034f4938b401e03580a470ae329d\n",
            "  Stored in directory: /root/.cache/pip/wheels/5e/8c/80/c3646df8201ba6f5070297fe3779a4b70265d0bfd961c15302\n",
            "Successfully built emoji\n",
            "\u001b[31mERROR: Operation cancelled by user\u001b[0m\n",
            "Traceback (most recent call last):\n",
            "  File \"/usr/local/lib/python3.8/dist-packages/pip/_vendor/pkg_resources/__init__.py\", line 3021, in _dep_map\n",
            "    return self.__dep_map\n",
            "  File \"/usr/local/lib/python3.8/dist-packages/pip/_vendor/pkg_resources/__init__.py\", line 2815, in __getattr__\n",
            "    raise AttributeError(attr)\n",
            "AttributeError: _DistInfoDistribution__dep_map\n",
            "\n",
            "During handling of the above exception, another exception occurred:\n",
            "\n",
            "Traceback (most recent call last):\n",
            "  File \"/usr/local/lib/python3.8/dist-packages/pip/_internal/cli/base_command.py\", line 180, in _main\n",
            "    status = self.run(options, args)\n",
            "  File \"/usr/local/lib/python3.8/dist-packages/pip/_internal/cli/req_command.py\", line 199, in wrapper\n",
            "    return func(self, options, args)\n",
            "  File \"/usr/local/lib/python3.8/dist-packages/pip/_internal/commands/install.py\", line 385, in run\n",
            "    conflicts = self._determine_conflicts(to_install)\n",
            "  File \"/usr/local/lib/python3.8/dist-packages/pip/_internal/commands/install.py\", line 515, in _determine_conflicts\n",
            "    return check_install_conflicts(to_install)\n",
            "  File \"/usr/local/lib/python3.8/dist-packages/pip/_internal/operations/check.py\", line 103, in check_install_conflicts\n",
            "    package_set, _ = create_package_set_from_installed()\n",
            "  File \"/usr/local/lib/python3.8/dist-packages/pip/_internal/operations/check.py\", line 45, in create_package_set_from_installed\n",
            "    package_set[name] = PackageDetails(dist.version, dist.requires())\n",
            "  File \"/usr/local/lib/python3.8/dist-packages/pip/_vendor/pkg_resources/__init__.py\", line 2736, in requires\n",
            "    dm = self._dep_map\n",
            "  File \"/usr/local/lib/python3.8/dist-packages/pip/_vendor/pkg_resources/__init__.py\", line 3023, in _dep_map\n",
            "    self.__dep_map = self._compute_dependencies()\n",
            "  File \"/usr/local/lib/python3.8/dist-packages/pip/_vendor/pkg_resources/__init__.py\", line 3033, in _compute_dependencies\n",
            "    reqs.extend(parse_requirements(req))\n",
            "  File \"/usr/local/lib/python3.8/dist-packages/pip/_vendor/pkg_resources/__init__.py\", line 3094, in parse_requirements\n",
            "    yield Requirement(line)\n",
            "  File \"/usr/local/lib/python3.8/dist-packages/pip/_vendor/pkg_resources/__init__.py\", line 3101, in __init__\n",
            "    super(Requirement, self).__init__(requirement_string)\n",
            "  File \"/usr/local/lib/python3.8/dist-packages/pip/_vendor/packaging/requirements.py\", line 113, in __init__\n",
            "    req = REQUIREMENT.parseString(requirement_string)\n",
            "  File \"/usr/local/lib/python3.8/dist-packages/pip/_vendor/pyparsing.py\", line 1943, in parseString\n",
            "    loc, tokens = self._parse(instring, 0)\n",
            "  File \"/usr/local/lib/python3.8/dist-packages/pip/_vendor/pyparsing.py\", line 1683, in _parseNoCache\n",
            "    loc, tokens = self.parseImpl(instring, preloc, doActions)\n",
            "  File \"/usr/local/lib/python3.8/dist-packages/pip/_vendor/pyparsing.py\", line 4069, in parseImpl\n",
            "    loc, exprtokens = e._parse(instring, loc, doActions)\n",
            "  File \"/usr/local/lib/python3.8/dist-packages/pip/_vendor/pyparsing.py\", line 1683, in _parseNoCache\n",
            "    loc, tokens = self.parseImpl(instring, preloc, doActions)\n",
            "  File \"/usr/local/lib/python3.8/dist-packages/pip/_vendor/pyparsing.py\", line 4254, in parseImpl\n",
            "    ret = e._parse(instring, loc, doActions)\n",
            "  File \"/usr/local/lib/python3.8/dist-packages/pip/_vendor/pyparsing.py\", line 1683, in _parseNoCache\n",
            "    loc, tokens = self.parseImpl(instring, preloc, doActions)\n",
            "  File \"/usr/local/lib/python3.8/dist-packages/pip/_vendor/pyparsing.py\", line 4069, in parseImpl\n",
            "    loc, exprtokens = e._parse(instring, loc, doActions)\n",
            "  File \"/usr/local/lib/python3.8/dist-packages/pip/_vendor/pyparsing.py\", line 1683, in _parseNoCache\n",
            "    loc, tokens = self.parseImpl(instring, preloc, doActions)\n",
            "  File \"/usr/local/lib/python3.8/dist-packages/pip/_vendor/pyparsing.py\", line 4849, in parseImpl\n",
            "    loc, tokens = self.expr._parse(instring, loc, doActions, callPreParse=False)\n",
            "  File \"/usr/local/lib/python3.8/dist-packages/pip/_vendor/pyparsing.py\", line 1683, in _parseNoCache\n",
            "    loc, tokens = self.parseImpl(instring, preloc, doActions)\n",
            "  File \"/usr/local/lib/python3.8/dist-packages/pip/_vendor/pyparsing.py\", line 4069, in parseImpl\n",
            "    loc, exprtokens = e._parse(instring, loc, doActions)\n",
            "  File \"/usr/local/lib/python3.8/dist-packages/pip/_vendor/pyparsing.py\", line 1683, in _parseNoCache\n",
            "    loc, tokens = self.parseImpl(instring, preloc, doActions)\n",
            "  File \"/usr/local/lib/python3.8/dist-packages/pip/_vendor/pyparsing.py\", line 4052, in parseImpl\n",
            "    loc, resultlist = self.exprs[0]._parse(instring, loc, doActions, callPreParse=False)\n",
            "  File \"/usr/local/lib/python3.8/dist-packages/pip/_vendor/pyparsing.py\", line 1723, in _parseNoCache\n",
            "    retTokens = ParseResults(tokens,\n",
            "  File \"/usr/local/lib/python3.8/dist-packages/pip/_vendor/pyparsing.py\", line 566, in __init__\n",
            "    elif isinstance(toklist, _generatorType):\n",
            "KeyboardInterrupt\n",
            "\n",
            "During handling of the above exception, another exception occurred:\n",
            "\n",
            "Traceback (most recent call last):\n",
            "  File \"/usr/local/bin/pip3\", line 8, in <module>\n",
            "    sys.exit(main())\n",
            "  File \"/usr/local/lib/python3.8/dist-packages/pip/_internal/cli/main.py\", line 71, in main\n",
            "    return command.main(cmd_args)\n",
            "  File \"/usr/local/lib/python3.8/dist-packages/pip/_internal/cli/base_command.py\", line 104, in main\n",
            "    return self._main(args)\n",
            "  File \"/usr/local/lib/python3.8/dist-packages/pip/_internal/cli/base_command.py\", line 213, in _main\n",
            "    logger.debug(\"Exception information:\", exc_info=True)\n",
            "  File \"/usr/lib/python3.8/logging/__init__.py\", line 1434, in debug\n",
            "    self._log(DEBUG, msg, args, **kwargs)\n",
            "  File \"/usr/lib/python3.8/logging/__init__.py\", line 1589, in _log\n",
            "    self.handle(record)\n",
            "  File \"/usr/lib/python3.8/logging/__init__.py\", line 1599, in handle\n",
            "    self.callHandlers(record)\n",
            "  File \"/usr/lib/python3.8/logging/__init__.py\", line 1661, in callHandlers\n",
            "    hdlr.handle(record)\n",
            "  File \"/usr/lib/python3.8/logging/__init__.py\", line 954, in handle\n",
            "    self.emit(record)\n",
            "  File \"/usr/lib/python3.8/logging/handlers.py\", line 71, in emit\n",
            "    logging.FileHandler.emit(self, record)\n",
            "  File \"/usr/lib/python3.8/logging/__init__.py\", line 1187, in emit\n",
            "    StreamHandler.emit(self, record)\n",
            "  File \"/usr/lib/python3.8/logging/__init__.py\", line 1085, in emit\n",
            "    msg = self.format(record)\n",
            "  File \"/usr/lib/python3.8/logging/__init__.py\", line 929, in format\n",
            "    return fmt.format(record)\n",
            "  File \"/usr/local/lib/python3.8/dist-packages/pip/_internal/utils/logging.py\", line 130, in format\n",
            "    formatted = super().format(record)\n",
            "  File \"/usr/lib/python3.8/logging/__init__.py\", line 676, in format\n",
            "    record.exc_text = self.formatException(record.exc_info)\n",
            "  File \"/usr/lib/python3.8/logging/__init__.py\", line 626, in formatException\n",
            "    traceback.print_exception(ei[0], ei[1], tb, None, sio)\n",
            "  File \"/usr/lib/python3.8/traceback.py\", line 103, in print_exception\n",
            "    for line in TracebackException(\n",
            "  File \"/usr/lib/python3.8/traceback.py\", line 508, in __init__\n",
            "    self.stack = StackSummary.extract(\n",
            "  File \"/usr/lib/python3.8/traceback.py\", line 366, in extract\n",
            "    f.line\n",
            "  File \"/usr/lib/python3.8/traceback.py\", line 288, in line\n",
            "    self._line = linecache.getline(self.filename, self.lineno).strip()\n",
            "  File \"/usr/lib/python3.8/linecache.py\", line 16, in getline\n",
            "    lines = getlines(filename, module_globals)\n",
            "  File \"/usr/lib/python3.8/linecache.py\", line 47, in getlines\n",
            "    return updatecache(filename, module_globals)\n",
            "  File \"/usr/lib/python3.8/linecache.py\", line 136, in updatecache\n",
            "    with tokenize.open(fullname) as fp:\n",
            "  File \"/usr/lib/python3.8/tokenize.py\", line 394, in open\n",
            "    encoding, lines = detect_encoding(buffer.readline)\n",
            "  File \"/usr/lib/python3.8/tokenize.py\", line 363, in detect_encoding\n",
            "    first = read_or_stop()\n",
            "  File \"/usr/lib/python3.8/tokenize.py\", line 321, in read_or_stop\n",
            "    return readline()\n",
            "KeyboardInterrupt\n",
            "^C\n"
          ]
        }
      ],
      "source": [
        "!pip install  emoji==1.7.0"
      ]
    },
    {
      "cell_type": "code",
      "execution_count": null,
      "metadata": {
        "colab": {
          "base_uri": "https://localhost:8080/"
        },
        "id": "jz_ToA4u3Jg4",
        "outputId": "b58bf0c0-0d42-4ee2-ff79-9928e666ea5c"
      },
      "outputs": [
        {
          "output_type": "stream",
          "name": "stderr",
          "text": [
            "[nltk_data] Downloading package words to /root/nltk_data...\n",
            "[nltk_data]   Package words is already up-to-date!\n",
            "[nltk_data] Downloading package omw-1.4 to /root/nltk_data...\n",
            "[nltk_data]   Package omw-1.4 is already up-to-date!\n",
            "[nltk_data] Downloading package vader_lexicon to /root/nltk_data...\n",
            "[nltk_data]   Package vader_lexicon is already up-to-date!\n",
            "[nltk_data] Downloading package averaged_perceptron_tagger to\n",
            "[nltk_data]     /root/nltk_data...\n",
            "[nltk_data]   Package averaged_perceptron_tagger is already up-to-\n",
            "[nltk_data]       date!\n"
          ]
        },
        {
          "output_type": "execute_result",
          "data": {
            "text/plain": [
              "True"
            ]
          },
          "metadata": {},
          "execution_count": 137
        }
      ],
      "source": [
        "from matplotlib import pyplot as plt\n",
        "import pandas as pd\n",
        "import nltk\n",
        "from nltk import ngrams\n",
        "from nltk import word_tokenize\n",
        "import wordcloud\n",
        "import text2emotion as te\n",
        "import seaborn as sns\n",
        "\n",
        "# import the libraries\n",
        "import pandas as pd\n",
        "import numpy as np\n",
        "import matplotlib.pyplot as plt\n",
        "#%matplotlib inline\n",
        "import seaborn as sns\n",
        "import re, string\n",
        "import nltk, spacy\n",
        "import warnings\n",
        "warnings.filterwarnings('ignore')\n",
        "\n",
        "from nltk.sentiment import SentimentIntensityAnalyzer\n",
        "\n",
        "nltk.download('words')\n",
        "nltk.download('omw-1.4')\n",
        "\n",
        "\n",
        "\n",
        "\n",
        "\n",
        "## Classifiers\n",
        "\n",
        "# import the libraries\n",
        "from sklearn.metrics import accuracy_score, f1_score\n",
        "from sklearn.naive_bayes import MultinomialNB\n",
        "from sklearn.svm import SVC\n",
        "from sklearn.linear_model import LogisticRegression\n",
        "from sklearn.neighbors import KNeighborsClassifier\n",
        "from sklearn.ensemble import RandomForestClassifier\n",
        "from sklearn.ensemble import ExtraTreesClassifier\n",
        "from sklearn.ensemble import BaggingClassifier\n",
        "from xgboost import XGBClassifier\n",
        "nltk.download('vader_lexicon')\n",
        "nltk.download('averaged_perceptron_tagger')"
      ]
    },
    {
      "cell_type": "code",
      "execution_count": null,
      "metadata": {
        "id": "9Fa9kfKx3yf7"
      },
      "outputs": [],
      "source": [
        "df=pd.read_csv(\"/content/drive/Shareddrives/UnipiSharedDrive/IndvsPak_tweets.csv\")"
      ]
    },
    {
      "cell_type": "code",
      "execution_count": null,
      "metadata": {
        "colab": {
          "base_uri": "https://localhost:8080/",
          "height": 711
        },
        "id": "Uo1PV0wK31W2",
        "outputId": "00b2fb81-0a09-4084-b5bb-d416f7f7e624"
      },
      "outputs": [
        {
          "output_type": "execute_result",
          "data": {
            "text/plain": [
              "                         id  \\\n",
              "0       1584689793698791424   \n",
              "1       1584684371512291330   \n",
              "2       1584684147339296768   \n",
              "3       1584684139839905792   \n",
              "4       1584681884210319360   \n",
              "...                     ...   \n",
              "272265  1584171715977887744   \n",
              "272266  1584171715717783552   \n",
              "272267  1584171715583971330   \n",
              "272268  1584171714598285312   \n",
              "272269  1584171713948180482   \n",
              "\n",
              "                                                     text  \\\n",
              "0       Hangover of #INDvsPAK2022 is still around. #T2...   \n",
              "1       @TheBarmyArmy luv it \\n\\n❤️❤️❤️\\n\\n#INDvPAK \\n...   \n",
              "2                                           #INDvsPAK2022   \n",
              "3                               No ball thi #INDvsPAK2022   \n",
              "4       @mufaddal_vohra @ImRo45 \\n@BCCI \\n\\nWhen will\\...   \n",
              "...                                                   ...   \n",
              "272265             @imVkohli Use this as a dislike button   \n",
              "272266  @HSajwanization @imVkohli .. and massive #Hear...   \n",
              "272267  @imVkohli Well played king your Father would b...   \n",
              "272268      @imVkohli #GOAT #Kingkohli #Kingisalwaysaking   \n",
              "272269                    @imVkohli Thank you kingggg 🙌🏼💙   \n",
              "\n",
              "                                            hashtags  \\\n",
              "0                    ['INDvsPAK2022', 'T20WorldCup']   \n",
              "1       ['INDvPAK', 'indvspakmatch', 'INDvsPAK2022']   \n",
              "2                                   ['INDvsPAK2022']   \n",
              "3                                   ['INDvsPAK2022']   \n",
              "4          ['INDvPAK', 'INDvsPAK2022', 'T20Cricket']   \n",
              "...                                              ...   \n",
              "272265                                           NaN   \n",
              "272266                                ['HeartBreak']   \n",
              "272267                                           NaN   \n",
              "272268    ['GOAT', 'Kingkohli', 'Kingisalwaysaking']   \n",
              "272269                                           NaN   \n",
              "\n",
              "                       created_at  user followers count  replycount  \n",
              "0       2022-10-24 23:34:23+00:00                   538           0  \n",
              "1       2022-10-24 23:12:50+00:00                    24           0  \n",
              "2       2022-10-24 23:11:57+00:00                    56           0  \n",
              "3       2022-10-24 23:11:55+00:00                    56           0  \n",
              "4       2022-10-24 23:02:57+00:00                    24           1  \n",
              "...                           ...                   ...         ...  \n",
              "272265  2022-10-23 13:15:44+00:00                  2281           0  \n",
              "272266  2022-10-23 13:15:44+00:00                    11           0  \n",
              "272267  2022-10-23 13:15:44+00:00                    55           0  \n",
              "272268  2022-10-23 13:15:43+00:00                    47           0  \n",
              "272269  2022-10-23 13:15:43+00:00                    20           0  \n",
              "\n",
              "[272270 rows x 6 columns]"
            ],
            "text/html": [
              "\n",
              "  <div id=\"df-9c430f98-ec69-478e-abaa-591ad8bc0853\">\n",
              "    <div class=\"colab-df-container\">\n",
              "      <div>\n",
              "<style scoped>\n",
              "    .dataframe tbody tr th:only-of-type {\n",
              "        vertical-align: middle;\n",
              "    }\n",
              "\n",
              "    .dataframe tbody tr th {\n",
              "        vertical-align: top;\n",
              "    }\n",
              "\n",
              "    .dataframe thead th {\n",
              "        text-align: right;\n",
              "    }\n",
              "</style>\n",
              "<table border=\"1\" class=\"dataframe\">\n",
              "  <thead>\n",
              "    <tr style=\"text-align: right;\">\n",
              "      <th></th>\n",
              "      <th>id</th>\n",
              "      <th>text</th>\n",
              "      <th>hashtags</th>\n",
              "      <th>created_at</th>\n",
              "      <th>user followers count</th>\n",
              "      <th>replycount</th>\n",
              "    </tr>\n",
              "  </thead>\n",
              "  <tbody>\n",
              "    <tr>\n",
              "      <th>0</th>\n",
              "      <td>1584689793698791424</td>\n",
              "      <td>Hangover of #INDvsPAK2022 is still around. #T2...</td>\n",
              "      <td>['INDvsPAK2022', 'T20WorldCup']</td>\n",
              "      <td>2022-10-24 23:34:23+00:00</td>\n",
              "      <td>538</td>\n",
              "      <td>0</td>\n",
              "    </tr>\n",
              "    <tr>\n",
              "      <th>1</th>\n",
              "      <td>1584684371512291330</td>\n",
              "      <td>@TheBarmyArmy luv it \\n\\n❤️❤️❤️\\n\\n#INDvPAK \\n...</td>\n",
              "      <td>['INDvPAK', 'indvspakmatch', 'INDvsPAK2022']</td>\n",
              "      <td>2022-10-24 23:12:50+00:00</td>\n",
              "      <td>24</td>\n",
              "      <td>0</td>\n",
              "    </tr>\n",
              "    <tr>\n",
              "      <th>2</th>\n",
              "      <td>1584684147339296768</td>\n",
              "      <td>#INDvsPAK2022</td>\n",
              "      <td>['INDvsPAK2022']</td>\n",
              "      <td>2022-10-24 23:11:57+00:00</td>\n",
              "      <td>56</td>\n",
              "      <td>0</td>\n",
              "    </tr>\n",
              "    <tr>\n",
              "      <th>3</th>\n",
              "      <td>1584684139839905792</td>\n",
              "      <td>No ball thi #INDvsPAK2022</td>\n",
              "      <td>['INDvsPAK2022']</td>\n",
              "      <td>2022-10-24 23:11:55+00:00</td>\n",
              "      <td>56</td>\n",
              "      <td>0</td>\n",
              "    </tr>\n",
              "    <tr>\n",
              "      <th>4</th>\n",
              "      <td>1584681884210319360</td>\n",
              "      <td>@mufaddal_vohra @ImRo45 \\n@BCCI \\n\\nWhen will\\...</td>\n",
              "      <td>['INDvPAK', 'INDvsPAK2022', 'T20Cricket']</td>\n",
              "      <td>2022-10-24 23:02:57+00:00</td>\n",
              "      <td>24</td>\n",
              "      <td>1</td>\n",
              "    </tr>\n",
              "    <tr>\n",
              "      <th>...</th>\n",
              "      <td>...</td>\n",
              "      <td>...</td>\n",
              "      <td>...</td>\n",
              "      <td>...</td>\n",
              "      <td>...</td>\n",
              "      <td>...</td>\n",
              "    </tr>\n",
              "    <tr>\n",
              "      <th>272265</th>\n",
              "      <td>1584171715977887744</td>\n",
              "      <td>@imVkohli Use this as a dislike button</td>\n",
              "      <td>NaN</td>\n",
              "      <td>2022-10-23 13:15:44+00:00</td>\n",
              "      <td>2281</td>\n",
              "      <td>0</td>\n",
              "    </tr>\n",
              "    <tr>\n",
              "      <th>272266</th>\n",
              "      <td>1584171715717783552</td>\n",
              "      <td>@HSajwanization @imVkohli .. and massive #Hear...</td>\n",
              "      <td>['HeartBreak']</td>\n",
              "      <td>2022-10-23 13:15:44+00:00</td>\n",
              "      <td>11</td>\n",
              "      <td>0</td>\n",
              "    </tr>\n",
              "    <tr>\n",
              "      <th>272267</th>\n",
              "      <td>1584171715583971330</td>\n",
              "      <td>@imVkohli Well played king your Father would b...</td>\n",
              "      <td>NaN</td>\n",
              "      <td>2022-10-23 13:15:44+00:00</td>\n",
              "      <td>55</td>\n",
              "      <td>0</td>\n",
              "    </tr>\n",
              "    <tr>\n",
              "      <th>272268</th>\n",
              "      <td>1584171714598285312</td>\n",
              "      <td>@imVkohli #GOAT #Kingkohli #Kingisalwaysaking</td>\n",
              "      <td>['GOAT', 'Kingkohli', 'Kingisalwaysaking']</td>\n",
              "      <td>2022-10-23 13:15:43+00:00</td>\n",
              "      <td>47</td>\n",
              "      <td>0</td>\n",
              "    </tr>\n",
              "    <tr>\n",
              "      <th>272269</th>\n",
              "      <td>1584171713948180482</td>\n",
              "      <td>@imVkohli Thank you kingggg 🙌🏼💙</td>\n",
              "      <td>NaN</td>\n",
              "      <td>2022-10-23 13:15:43+00:00</td>\n",
              "      <td>20</td>\n",
              "      <td>0</td>\n",
              "    </tr>\n",
              "  </tbody>\n",
              "</table>\n",
              "<p>272270 rows × 6 columns</p>\n",
              "</div>\n",
              "      <button class=\"colab-df-convert\" onclick=\"convertToInteractive('df-9c430f98-ec69-478e-abaa-591ad8bc0853')\"\n",
              "              title=\"Convert this dataframe to an interactive table.\"\n",
              "              style=\"display:none;\">\n",
              "        \n",
              "  <svg xmlns=\"http://www.w3.org/2000/svg\" height=\"24px\"viewBox=\"0 0 24 24\"\n",
              "       width=\"24px\">\n",
              "    <path d=\"M0 0h24v24H0V0z\" fill=\"none\"/>\n",
              "    <path d=\"M18.56 5.44l.94 2.06.94-2.06 2.06-.94-2.06-.94-.94-2.06-.94 2.06-2.06.94zm-11 1L8.5 8.5l.94-2.06 2.06-.94-2.06-.94L8.5 2.5l-.94 2.06-2.06.94zm10 10l.94 2.06.94-2.06 2.06-.94-2.06-.94-.94-2.06-.94 2.06-2.06.94z\"/><path d=\"M17.41 7.96l-1.37-1.37c-.4-.4-.92-.59-1.43-.59-.52 0-1.04.2-1.43.59L10.3 9.45l-7.72 7.72c-.78.78-.78 2.05 0 2.83L4 21.41c.39.39.9.59 1.41.59.51 0 1.02-.2 1.41-.59l7.78-7.78 2.81-2.81c.8-.78.8-2.07 0-2.86zM5.41 20L4 18.59l7.72-7.72 1.47 1.35L5.41 20z\"/>\n",
              "  </svg>\n",
              "      </button>\n",
              "      \n",
              "  <style>\n",
              "    .colab-df-container {\n",
              "      display:flex;\n",
              "      flex-wrap:wrap;\n",
              "      gap: 12px;\n",
              "    }\n",
              "\n",
              "    .colab-df-convert {\n",
              "      background-color: #E8F0FE;\n",
              "      border: none;\n",
              "      border-radius: 50%;\n",
              "      cursor: pointer;\n",
              "      display: none;\n",
              "      fill: #1967D2;\n",
              "      height: 32px;\n",
              "      padding: 0 0 0 0;\n",
              "      width: 32px;\n",
              "    }\n",
              "\n",
              "    .colab-df-convert:hover {\n",
              "      background-color: #E2EBFA;\n",
              "      box-shadow: 0px 1px 2px rgba(60, 64, 67, 0.3), 0px 1px 3px 1px rgba(60, 64, 67, 0.15);\n",
              "      fill: #174EA6;\n",
              "    }\n",
              "\n",
              "    [theme=dark] .colab-df-convert {\n",
              "      background-color: #3B4455;\n",
              "      fill: #D2E3FC;\n",
              "    }\n",
              "\n",
              "    [theme=dark] .colab-df-convert:hover {\n",
              "      background-color: #434B5C;\n",
              "      box-shadow: 0px 1px 3px 1px rgba(0, 0, 0, 0.15);\n",
              "      filter: drop-shadow(0px 1px 2px rgba(0, 0, 0, 0.3));\n",
              "      fill: #FFFFFF;\n",
              "    }\n",
              "  </style>\n",
              "\n",
              "      <script>\n",
              "        const buttonEl =\n",
              "          document.querySelector('#df-9c430f98-ec69-478e-abaa-591ad8bc0853 button.colab-df-convert');\n",
              "        buttonEl.style.display =\n",
              "          google.colab.kernel.accessAllowed ? 'block' : 'none';\n",
              "\n",
              "        async function convertToInteractive(key) {\n",
              "          const element = document.querySelector('#df-9c430f98-ec69-478e-abaa-591ad8bc0853');\n",
              "          const dataTable =\n",
              "            await google.colab.kernel.invokeFunction('convertToInteractive',\n",
              "                                                     [key], {});\n",
              "          if (!dataTable) return;\n",
              "\n",
              "          const docLinkHtml = 'Like what you see? Visit the ' +\n",
              "            '<a target=\"_blank\" href=https://colab.research.google.com/notebooks/data_table.ipynb>data table notebook</a>'\n",
              "            + ' to learn more about interactive tables.';\n",
              "          element.innerHTML = '';\n",
              "          dataTable['output_type'] = 'display_data';\n",
              "          await google.colab.output.renderOutput(dataTable, element);\n",
              "          const docLink = document.createElement('div');\n",
              "          docLink.innerHTML = docLinkHtml;\n",
              "          element.appendChild(docLink);\n",
              "        }\n",
              "      </script>\n",
              "    </div>\n",
              "  </div>\n",
              "  "
            ]
          },
          "metadata": {},
          "execution_count": 140
        }
      ],
      "source": [
        "df[[\"id\",\"text\",\"hashtags\",\"created_at\",\"user followers count\",\"replycount\"]]"
      ]
    },
    {
      "cell_type": "code",
      "execution_count": null,
      "metadata": {
        "colab": {
          "base_uri": "https://localhost:8080/",
          "height": 426
        },
        "id": "CkhxJyG0j10K",
        "outputId": "eb7ff3c0-c3c9-435c-f91c-16041d668ee9"
      },
      "outputs": [
        {
          "output_type": "execute_result",
          "data": {
            "text/plain": [
              "                     id                                               text  \\\n",
              "10  1584658980982251520  Here are a few tips for link building:\\n 1. Cr...   \n",
              "11  1584656953678012416  TYPES OF #CRICKET\\nPLAY WELL OR PAY WELL\\nRAND...   \n",
              "12  1584656552241217536  @ICC @cricketworldcup @BCCI Can you recheck @R...   \n",
              "13  1584655400171106304  #INDvsPAK2022\\n#ViratKohli \\nPuri mehfil hi lo...   \n",
              "14  1584653777713639424  @Brad_Hogg Where wer your pearls of wisdom whe...   \n",
              "\n",
              "           username                                 hashtags  \\\n",
              "10     serpbeginner      ['seo', 'PakVsInd', 'INDvsPAK2022']   \n",
              "11      LJV08092001  ['CRICKET', 'Cheating', 'INDvsPAK2022']   \n",
              "12     AmitBarman07                         ['INDvsPAK2022']   \n",
              "13  Santosh13759826           ['INDvsPAK2022', 'ViratKohli']   \n",
              "14  Vkrajpu72226015                         ['INDvsPAK2022']   \n",
              "\n",
              "                   created_at  user followers count  replycount  retweetcount  \\\n",
              "10  2022-10-24 21:31:57+00:00                     8           0             0   \n",
              "11  2022-10-24 21:23:53+00:00                   466           0             0   \n",
              "12  2022-10-24 21:22:18+00:00                    11           0             0   \n",
              "13  2022-10-24 21:17:43+00:00                     1           0             0   \n",
              "14  2022-10-24 21:11:16+00:00                     8           0             0   \n",
              "\n",
              "    likecount  quotecount language  quotedtweet  inReplyToTweetId  \\\n",
              "10          1           0       en          NaN               NaN   \n",
              "11          0           0       en          NaN               NaN   \n",
              "12          0           0       en          NaN               NaN   \n",
              "13          0           0       hi          NaN               NaN   \n",
              "14          0           0       en          NaN      1.584399e+18   \n",
              "\n",
              "                    inReplyToUser  \\\n",
              "10                            NaN   \n",
              "11                            NaN   \n",
              "12                            NaN   \n",
              "13                            NaN   \n",
              "14  https://twitter.com/Brad_Hogg   \n",
              "\n",
              "                                       mentionedUsers  \n",
              "10  Here are a few tips for link building:\\n 1. Cr...  \n",
              "11  TYPES OF #CRICKET\\nPLAY WELL OR PAY WELL\\nRAND...  \n",
              "12  @ICC @cricketworldcup @BCCI Can you recheck @R...  \n",
              "13  #INDvsPAK2022\\n#ViratKohli \\nPuri mehfil hi lo...  \n",
              "14  @Brad_Hogg Where wer your pearls of wisdom whe...  "
            ],
            "text/html": [
              "\n",
              "  <div id=\"df-80108422-c3a3-41fb-9196-4bb3c7e06c1e\">\n",
              "    <div class=\"colab-df-container\">\n",
              "      <div>\n",
              "<style scoped>\n",
              "    .dataframe tbody tr th:only-of-type {\n",
              "        vertical-align: middle;\n",
              "    }\n",
              "\n",
              "    .dataframe tbody tr th {\n",
              "        vertical-align: top;\n",
              "    }\n",
              "\n",
              "    .dataframe thead th {\n",
              "        text-align: right;\n",
              "    }\n",
              "</style>\n",
              "<table border=\"1\" class=\"dataframe\">\n",
              "  <thead>\n",
              "    <tr style=\"text-align: right;\">\n",
              "      <th></th>\n",
              "      <th>id</th>\n",
              "      <th>text</th>\n",
              "      <th>username</th>\n",
              "      <th>hashtags</th>\n",
              "      <th>created_at</th>\n",
              "      <th>user followers count</th>\n",
              "      <th>replycount</th>\n",
              "      <th>retweetcount</th>\n",
              "      <th>likecount</th>\n",
              "      <th>quotecount</th>\n",
              "      <th>language</th>\n",
              "      <th>quotedtweet</th>\n",
              "      <th>inReplyToTweetId</th>\n",
              "      <th>inReplyToUser</th>\n",
              "      <th>mentionedUsers</th>\n",
              "    </tr>\n",
              "  </thead>\n",
              "  <tbody>\n",
              "    <tr>\n",
              "      <th>10</th>\n",
              "      <td>1584658980982251520</td>\n",
              "      <td>Here are a few tips for link building:\\n 1. Cr...</td>\n",
              "      <td>serpbeginner</td>\n",
              "      <td>['seo', 'PakVsInd', 'INDvsPAK2022']</td>\n",
              "      <td>2022-10-24 21:31:57+00:00</td>\n",
              "      <td>8</td>\n",
              "      <td>0</td>\n",
              "      <td>0</td>\n",
              "      <td>1</td>\n",
              "      <td>0</td>\n",
              "      <td>en</td>\n",
              "      <td>NaN</td>\n",
              "      <td>NaN</td>\n",
              "      <td>NaN</td>\n",
              "      <td>Here are a few tips for link building:\\n 1. Cr...</td>\n",
              "    </tr>\n",
              "    <tr>\n",
              "      <th>11</th>\n",
              "      <td>1584656953678012416</td>\n",
              "      <td>TYPES OF #CRICKET\\nPLAY WELL OR PAY WELL\\nRAND...</td>\n",
              "      <td>LJV08092001</td>\n",
              "      <td>['CRICKET', 'Cheating', 'INDvsPAK2022']</td>\n",
              "      <td>2022-10-24 21:23:53+00:00</td>\n",
              "      <td>466</td>\n",
              "      <td>0</td>\n",
              "      <td>0</td>\n",
              "      <td>0</td>\n",
              "      <td>0</td>\n",
              "      <td>en</td>\n",
              "      <td>NaN</td>\n",
              "      <td>NaN</td>\n",
              "      <td>NaN</td>\n",
              "      <td>TYPES OF #CRICKET\\nPLAY WELL OR PAY WELL\\nRAND...</td>\n",
              "    </tr>\n",
              "    <tr>\n",
              "      <th>12</th>\n",
              "      <td>1584656552241217536</td>\n",
              "      <td>@ICC @cricketworldcup @BCCI Can you recheck @R...</td>\n",
              "      <td>AmitBarman07</td>\n",
              "      <td>['INDvsPAK2022']</td>\n",
              "      <td>2022-10-24 21:22:18+00:00</td>\n",
              "      <td>11</td>\n",
              "      <td>0</td>\n",
              "      <td>0</td>\n",
              "      <td>0</td>\n",
              "      <td>0</td>\n",
              "      <td>en</td>\n",
              "      <td>NaN</td>\n",
              "      <td>NaN</td>\n",
              "      <td>NaN</td>\n",
              "      <td>@ICC @cricketworldcup @BCCI Can you recheck @R...</td>\n",
              "    </tr>\n",
              "    <tr>\n",
              "      <th>13</th>\n",
              "      <td>1584655400171106304</td>\n",
              "      <td>#INDvsPAK2022\\n#ViratKohli \\nPuri mehfil hi lo...</td>\n",
              "      <td>Santosh13759826</td>\n",
              "      <td>['INDvsPAK2022', 'ViratKohli']</td>\n",
              "      <td>2022-10-24 21:17:43+00:00</td>\n",
              "      <td>1</td>\n",
              "      <td>0</td>\n",
              "      <td>0</td>\n",
              "      <td>0</td>\n",
              "      <td>0</td>\n",
              "      <td>hi</td>\n",
              "      <td>NaN</td>\n",
              "      <td>NaN</td>\n",
              "      <td>NaN</td>\n",
              "      <td>#INDvsPAK2022\\n#ViratKohli \\nPuri mehfil hi lo...</td>\n",
              "    </tr>\n",
              "    <tr>\n",
              "      <th>14</th>\n",
              "      <td>1584653777713639424</td>\n",
              "      <td>@Brad_Hogg Where wer your pearls of wisdom whe...</td>\n",
              "      <td>Vkrajpu72226015</td>\n",
              "      <td>['INDvsPAK2022']</td>\n",
              "      <td>2022-10-24 21:11:16+00:00</td>\n",
              "      <td>8</td>\n",
              "      <td>0</td>\n",
              "      <td>0</td>\n",
              "      <td>0</td>\n",
              "      <td>0</td>\n",
              "      <td>en</td>\n",
              "      <td>NaN</td>\n",
              "      <td>1.584399e+18</td>\n",
              "      <td>https://twitter.com/Brad_Hogg</td>\n",
              "      <td>@Brad_Hogg Where wer your pearls of wisdom whe...</td>\n",
              "    </tr>\n",
              "  </tbody>\n",
              "</table>\n",
              "</div>\n",
              "      <button class=\"colab-df-convert\" onclick=\"convertToInteractive('df-80108422-c3a3-41fb-9196-4bb3c7e06c1e')\"\n",
              "              title=\"Convert this dataframe to an interactive table.\"\n",
              "              style=\"display:none;\">\n",
              "        \n",
              "  <svg xmlns=\"http://www.w3.org/2000/svg\" height=\"24px\"viewBox=\"0 0 24 24\"\n",
              "       width=\"24px\">\n",
              "    <path d=\"M0 0h24v24H0V0z\" fill=\"none\"/>\n",
              "    <path d=\"M18.56 5.44l.94 2.06.94-2.06 2.06-.94-2.06-.94-.94-2.06-.94 2.06-2.06.94zm-11 1L8.5 8.5l.94-2.06 2.06-.94-2.06-.94L8.5 2.5l-.94 2.06-2.06.94zm10 10l.94 2.06.94-2.06 2.06-.94-2.06-.94-.94-2.06-.94 2.06-2.06.94z\"/><path d=\"M17.41 7.96l-1.37-1.37c-.4-.4-.92-.59-1.43-.59-.52 0-1.04.2-1.43.59L10.3 9.45l-7.72 7.72c-.78.78-.78 2.05 0 2.83L4 21.41c.39.39.9.59 1.41.59.51 0 1.02-.2 1.41-.59l7.78-7.78 2.81-2.81c.8-.78.8-2.07 0-2.86zM5.41 20L4 18.59l7.72-7.72 1.47 1.35L5.41 20z\"/>\n",
              "  </svg>\n",
              "      </button>\n",
              "      \n",
              "  <style>\n",
              "    .colab-df-container {\n",
              "      display:flex;\n",
              "      flex-wrap:wrap;\n",
              "      gap: 12px;\n",
              "    }\n",
              "\n",
              "    .colab-df-convert {\n",
              "      background-color: #E8F0FE;\n",
              "      border: none;\n",
              "      border-radius: 50%;\n",
              "      cursor: pointer;\n",
              "      display: none;\n",
              "      fill: #1967D2;\n",
              "      height: 32px;\n",
              "      padding: 0 0 0 0;\n",
              "      width: 32px;\n",
              "    }\n",
              "\n",
              "    .colab-df-convert:hover {\n",
              "      background-color: #E2EBFA;\n",
              "      box-shadow: 0px 1px 2px rgba(60, 64, 67, 0.3), 0px 1px 3px 1px rgba(60, 64, 67, 0.15);\n",
              "      fill: #174EA6;\n",
              "    }\n",
              "\n",
              "    [theme=dark] .colab-df-convert {\n",
              "      background-color: #3B4455;\n",
              "      fill: #D2E3FC;\n",
              "    }\n",
              "\n",
              "    [theme=dark] .colab-df-convert:hover {\n",
              "      background-color: #434B5C;\n",
              "      box-shadow: 0px 1px 3px 1px rgba(0, 0, 0, 0.15);\n",
              "      filter: drop-shadow(0px 1px 2px rgba(0, 0, 0, 0.3));\n",
              "      fill: #FFFFFF;\n",
              "    }\n",
              "  </style>\n",
              "\n",
              "      <script>\n",
              "        const buttonEl =\n",
              "          document.querySelector('#df-80108422-c3a3-41fb-9196-4bb3c7e06c1e button.colab-df-convert');\n",
              "        buttonEl.style.display =\n",
              "          google.colab.kernel.accessAllowed ? 'block' : 'none';\n",
              "\n",
              "        async function convertToInteractive(key) {\n",
              "          const element = document.querySelector('#df-80108422-c3a3-41fb-9196-4bb3c7e06c1e');\n",
              "          const dataTable =\n",
              "            await google.colab.kernel.invokeFunction('convertToInteractive',\n",
              "                                                     [key], {});\n",
              "          if (!dataTable) return;\n",
              "\n",
              "          const docLinkHtml = 'Like what you see? Visit the ' +\n",
              "            '<a target=\"_blank\" href=https://colab.research.google.com/notebooks/data_table.ipynb>data table notebook</a>'\n",
              "            + ' to learn more about interactive tables.';\n",
              "          element.innerHTML = '';\n",
              "          dataTable['output_type'] = 'display_data';\n",
              "          await google.colab.output.renderOutput(dataTable, element);\n",
              "          const docLink = document.createElement('div');\n",
              "          docLink.innerHTML = docLinkHtml;\n",
              "          element.appendChild(docLink);\n",
              "        }\n",
              "      </script>\n",
              "    </div>\n",
              "  </div>\n",
              "  "
            ]
          },
          "metadata": {},
          "execution_count": 4
        }
      ],
      "source": [
        "df.iloc[10:15]"
      ]
    },
    {
      "cell_type": "code",
      "execution_count": null,
      "metadata": {
        "colab": {
          "base_uri": "https://localhost:8080/"
        },
        "id": "MNRNHCs3UFMY",
        "outputId": "1ff6dde3-3ef5-42db-ee23-c2a288ab9422"
      },
      "outputs": [
        {
          "data": {
            "text/plain": [
              "54"
            ]
          },
          "execution_count": 14,
          "metadata": {},
          "output_type": "execute_result"
        }
      ],
      "source": [
        "df['language'].nunique()"
      ]
    },
    {
      "cell_type": "code",
      "execution_count": null,
      "metadata": {
        "colab": {
          "base_uri": "https://localhost:8080/",
          "height": 35
        },
        "id": "EuYjULXP4DzU",
        "outputId": "4f14a988-617b-4537-9bf2-58d61db22930"
      },
      "outputs": [
        {
          "data": {
            "application/vnd.google.colaboratory.intrinsic+json": {
              "type": "string"
            },
            "text/plain": [
              "'2022-10-18 00:07:02+00:00'"
            ]
          },
          "execution_count": 15,
          "metadata": {},
          "output_type": "execute_result"
        }
      ],
      "source": [
        "df[\"created_at\"].min()"
      ]
    },
    {
      "cell_type": "code",
      "execution_count": null,
      "metadata": {
        "colab": {
          "base_uri": "https://localhost:8080/",
          "height": 35
        },
        "id": "8AYaUoTH4QZv",
        "outputId": "2166cb90-7885-47b4-f0a4-dfd6d354853d"
      },
      "outputs": [
        {
          "data": {
            "application/vnd.google.colaboratory.intrinsic+json": {
              "type": "string"
            },
            "text/plain": [
              "'2022-10-24 23:59:58+00:00'"
            ]
          },
          "execution_count": 16,
          "metadata": {},
          "output_type": "execute_result"
        }
      ],
      "source": [
        "df[\"created_at\"].max()"
      ]
    },
    {
      "cell_type": "code",
      "execution_count": null,
      "metadata": {
        "colab": {
          "base_uri": "https://localhost:8080/"
        },
        "id": "De6VZblvW9JO",
        "outputId": "f9c9ee5a-c36c-4f89-e6ba-b72032f10b6b"
      },
      "outputs": [
        {
          "data": {
            "text/plain": [
              "260884"
            ]
          },
          "execution_count": 17,
          "metadata": {},
          "output_type": "execute_result"
        }
      ],
      "source": [
        "df[\"text\"].nunique()"
      ]
    },
    {
      "cell_type": "code",
      "execution_count": null,
      "metadata": {
        "colab": {
          "base_uri": "https://localhost:8080/"
        },
        "id": "qUX8xrl44R1M",
        "outputId": "c0bff812-a51c-4eab-a298-5213bde9aad6"
      },
      "outputs": [
        {
          "data": {
            "text/plain": [
              "11386"
            ]
          },
          "execution_count": 18,
          "metadata": {},
          "output_type": "execute_result"
        }
      ],
      "source": [
        "df[\"text\"].duplicated().sum()"
      ]
    },
    {
      "cell_type": "code",
      "execution_count": null,
      "metadata": {
        "colab": {
          "base_uri": "https://localhost:8080/"
        },
        "id": "wi1lKm2tVD56",
        "outputId": "356f98fc-09cb-4246-9795-ff4132f3b335"
      },
      "outputs": [
        {
          "data": {
            "text/plain": [
              "0"
            ]
          },
          "execution_count": 19,
          "metadata": {},
          "output_type": "execute_result"
        }
      ],
      "source": [
        "df[\"text\"].isna().sum()"
      ]
    },
    {
      "cell_type": "code",
      "execution_count": null,
      "metadata": {
        "colab": {
          "base_uri": "https://localhost:8080/"
        },
        "id": "MW8Eb_XeVt1i",
        "outputId": "0efbbe83-9bb2-49c0-8afe-0ae01c5fa08f"
      },
      "outputs": [
        {
          "data": {
            "text/plain": [
              "143879"
            ]
          },
          "execution_count": 20,
          "metadata": {},
          "output_type": "execute_result"
        }
      ],
      "source": [
        "df[\"username\"].nunique()"
      ]
    },
    {
      "cell_type": "code",
      "execution_count": null,
      "metadata": {
        "colab": {
          "base_uri": "https://localhost:8080/",
          "height": 35
        },
        "id": "Phj7QpWGV2z1",
        "outputId": "5c9866cb-f05f-4534-8ccc-da1ca7b01550"
      },
      "outputs": [
        {
          "data": {
            "application/vnd.google.colaboratory.intrinsic+json": {
              "type": "string"
            },
            "text/plain": [
              "'@mufaddal_vohra @ImRo45 \\n@BCCI \\n\\nWhen will\\n\\n@klrahul \\n\\never learn ?? 🤯🤯\\n\\n#INDvPAK \\n#INDvsPAK2022 \\n#T20Cricket'"
            ]
          },
          "execution_count": 21,
          "metadata": {},
          "output_type": "execute_result"
        }
      ],
      "source": [
        "df[\"text\"][4]"
      ]
    },
    {
      "cell_type": "code",
      "execution_count": null,
      "metadata": {
        "colab": {
          "base_uri": "https://localhost:8080/",
          "height": 818
        },
        "id": "RxpDjhUAXMr_",
        "outputId": "f21d6638-3d1a-4a23-b7ff-d6a6b279f2f4"
      },
      "outputs": [
        {
          "data": {
            "text/html": [
              "\n",
              "  <div id=\"df-b48ef758-8ddd-42b6-b9e7-cea1e3aa900f\">\n",
              "    <div class=\"colab-df-container\">\n",
              "      <div>\n",
              "<style scoped>\n",
              "    .dataframe tbody tr th:only-of-type {\n",
              "        vertical-align: middle;\n",
              "    }\n",
              "\n",
              "    .dataframe tbody tr th {\n",
              "        vertical-align: top;\n",
              "    }\n",
              "\n",
              "    .dataframe thead th {\n",
              "        text-align: right;\n",
              "    }\n",
              "</style>\n",
              "<table border=\"1\" class=\"dataframe\">\n",
              "  <thead>\n",
              "    <tr style=\"text-align: right;\">\n",
              "      <th></th>\n",
              "      <th>id</th>\n",
              "      <th>text</th>\n",
              "      <th>username</th>\n",
              "      <th>hashtags</th>\n",
              "      <th>created_at</th>\n",
              "      <th>user followers count</th>\n",
              "      <th>replycount</th>\n",
              "      <th>retweetcount</th>\n",
              "      <th>likecount</th>\n",
              "      <th>quotecount</th>\n",
              "      <th>language</th>\n",
              "      <th>quotedtweet</th>\n",
              "      <th>inReplyToTweetId</th>\n",
              "      <th>inReplyToUser</th>\n",
              "      <th>mentionedUsers</th>\n",
              "    </tr>\n",
              "  </thead>\n",
              "  <tbody>\n",
              "    <tr>\n",
              "      <th>0</th>\n",
              "      <td>1584689793698791424</td>\n",
              "      <td>Hangover of #INDvsPAK2022 is still around. #T2...</td>\n",
              "      <td>drivesnflicks</td>\n",
              "      <td>['INDvsPAK2022', 'T20WorldCup']</td>\n",
              "      <td>2022-10-24 23:34:23+00:00</td>\n",
              "      <td>538</td>\n",
              "      <td>0</td>\n",
              "      <td>0</td>\n",
              "      <td>6</td>\n",
              "      <td>0</td>\n",
              "      <td>en</td>\n",
              "      <td>NaN</td>\n",
              "      <td>NaN</td>\n",
              "      <td>NaN</td>\n",
              "      <td>Hangover of #INDvsPAK2022 is still around. #T2...</td>\n",
              "    </tr>\n",
              "    <tr>\n",
              "      <th>1</th>\n",
              "      <td>1584684371512291330</td>\n",
              "      <td>@TheBarmyArmy luv it \\n\\n❤️❤️❤️\\n\\n#INDvPAK \\n...</td>\n",
              "      <td>Krishna59638949</td>\n",
              "      <td>['INDvPAK', 'indvspakmatch', 'INDvsPAK2022']</td>\n",
              "      <td>2022-10-24 23:12:50+00:00</td>\n",
              "      <td>24</td>\n",
              "      <td>0</td>\n",
              "      <td>0</td>\n",
              "      <td>0</td>\n",
              "      <td>0</td>\n",
              "      <td>en</td>\n",
              "      <td>NaN</td>\n",
              "      <td>1.584539e+18</td>\n",
              "      <td>https://twitter.com/TheBarmyArmy</td>\n",
              "      <td>@TheBarmyArmy luv it \\n\\n❤️❤️❤️\\n\\n#INDvPAK \\n...</td>\n",
              "    </tr>\n",
              "    <tr>\n",
              "      <th>2</th>\n",
              "      <td>1584684147339296768</td>\n",
              "      <td>#INDvsPAK2022</td>\n",
              "      <td>kingbabar__</td>\n",
              "      <td>['INDvsPAK2022']</td>\n",
              "      <td>2022-10-24 23:11:57+00:00</td>\n",
              "      <td>56</td>\n",
              "      <td>0</td>\n",
              "      <td>0</td>\n",
              "      <td>0</td>\n",
              "      <td>0</td>\n",
              "      <td>qht</td>\n",
              "      <td>NaN</td>\n",
              "      <td>NaN</td>\n",
              "      <td>NaN</td>\n",
              "      <td>#INDvsPAK2022</td>\n",
              "    </tr>\n",
              "    <tr>\n",
              "      <th>3</th>\n",
              "      <td>1584684139839905792</td>\n",
              "      <td>No ball thi #INDvsPAK2022</td>\n",
              "      <td>kingbabar__</td>\n",
              "      <td>['INDvsPAK2022']</td>\n",
              "      <td>2022-10-24 23:11:55+00:00</td>\n",
              "      <td>56</td>\n",
              "      <td>0</td>\n",
              "      <td>0</td>\n",
              "      <td>0</td>\n",
              "      <td>0</td>\n",
              "      <td>en</td>\n",
              "      <td>NaN</td>\n",
              "      <td>NaN</td>\n",
              "      <td>NaN</td>\n",
              "      <td>No ball thi #INDvsPAK2022</td>\n",
              "    </tr>\n",
              "    <tr>\n",
              "      <th>4</th>\n",
              "      <td>1584681884210319360</td>\n",
              "      <td>@mufaddal_vohra @ImRo45 \\n@BCCI \\n\\nWhen will\\...</td>\n",
              "      <td>Krishna59638949</td>\n",
              "      <td>['INDvPAK', 'INDvsPAK2022', 'T20Cricket']</td>\n",
              "      <td>2022-10-24 23:02:57+00:00</td>\n",
              "      <td>24</td>\n",
              "      <td>1</td>\n",
              "      <td>0</td>\n",
              "      <td>0</td>\n",
              "      <td>0</td>\n",
              "      <td>en</td>\n",
              "      <td>NaN</td>\n",
              "      <td>1.584460e+18</td>\n",
              "      <td>https://twitter.com/mufaddal_vohra</td>\n",
              "      <td>@mufaddal_vohra @ImRo45 \\n@BCCI \\n\\nWhen will\\...</td>\n",
              "    </tr>\n",
              "    <tr>\n",
              "      <th>...</th>\n",
              "      <td>...</td>\n",
              "      <td>...</td>\n",
              "      <td>...</td>\n",
              "      <td>...</td>\n",
              "      <td>...</td>\n",
              "      <td>...</td>\n",
              "      <td>...</td>\n",
              "      <td>...</td>\n",
              "      <td>...</td>\n",
              "      <td>...</td>\n",
              "      <td>...</td>\n",
              "      <td>...</td>\n",
              "      <td>...</td>\n",
              "      <td>...</td>\n",
              "      <td>...</td>\n",
              "    </tr>\n",
              "    <tr>\n",
              "      <th>272265</th>\n",
              "      <td>1584171715977887744</td>\n",
              "      <td>@imVkohli Use this as a dislike button</td>\n",
              "      <td>Labeed_Siddiqui</td>\n",
              "      <td>NaN</td>\n",
              "      <td>2022-10-23 13:15:44+00:00</td>\n",
              "      <td>2281</td>\n",
              "      <td>0</td>\n",
              "      <td>0</td>\n",
              "      <td>5</td>\n",
              "      <td>0</td>\n",
              "      <td>en</td>\n",
              "      <td>NaN</td>\n",
              "      <td>1.584170e+18</td>\n",
              "      <td>https://twitter.com/imVkohli</td>\n",
              "      <td>@imVkohli Use this as a dislike button</td>\n",
              "    </tr>\n",
              "    <tr>\n",
              "      <th>272266</th>\n",
              "      <td>1584171715717783552</td>\n",
              "      <td>@HSajwanization @imVkohli .. and massive #Hear...</td>\n",
              "      <td>karanpanjwani84</td>\n",
              "      <td>['HeartBreak']</td>\n",
              "      <td>2022-10-23 13:15:44+00:00</td>\n",
              "      <td>11</td>\n",
              "      <td>0</td>\n",
              "      <td>0</td>\n",
              "      <td>1</td>\n",
              "      <td>0</td>\n",
              "      <td>en</td>\n",
              "      <td>NaN</td>\n",
              "      <td>1.584157e+18</td>\n",
              "      <td>https://twitter.com/HSajwanization</td>\n",
              "      <td>@HSajwanization @imVkohli .. and massive #Hear...</td>\n",
              "    </tr>\n",
              "    <tr>\n",
              "      <th>272267</th>\n",
              "      <td>1584171715583971330</td>\n",
              "      <td>@imVkohli Well played king your Father would b...</td>\n",
              "      <td>karansingh6780</td>\n",
              "      <td>NaN</td>\n",
              "      <td>2022-10-23 13:15:44+00:00</td>\n",
              "      <td>55</td>\n",
              "      <td>0</td>\n",
              "      <td>0</td>\n",
              "      <td>0</td>\n",
              "      <td>0</td>\n",
              "      <td>en</td>\n",
              "      <td>NaN</td>\n",
              "      <td>1.584170e+18</td>\n",
              "      <td>https://twitter.com/imVkohli</td>\n",
              "      <td>@imVkohli Well played king your Father would b...</td>\n",
              "    </tr>\n",
              "    <tr>\n",
              "      <th>272268</th>\n",
              "      <td>1584171714598285312</td>\n",
              "      <td>@imVkohli #GOAT #Kingkohli #Kingisalwaysaking</td>\n",
              "      <td>Kartikagarwal0</td>\n",
              "      <td>['GOAT', 'Kingkohli', 'Kingisalwaysaking']</td>\n",
              "      <td>2022-10-23 13:15:43+00:00</td>\n",
              "      <td>47</td>\n",
              "      <td>0</td>\n",
              "      <td>0</td>\n",
              "      <td>0</td>\n",
              "      <td>0</td>\n",
              "      <td>qme</td>\n",
              "      <td>NaN</td>\n",
              "      <td>1.584170e+18</td>\n",
              "      <td>https://twitter.com/imVkohli</td>\n",
              "      <td>@imVkohli #GOAT #Kingkohli #Kingisalwaysaking</td>\n",
              "    </tr>\n",
              "    <tr>\n",
              "      <th>272269</th>\n",
              "      <td>1584171713948180482</td>\n",
              "      <td>@imVkohli Thank you kingggg 🙌🏼💙</td>\n",
              "      <td>flexandchilll</td>\n",
              "      <td>NaN</td>\n",
              "      <td>2022-10-23 13:15:43+00:00</td>\n",
              "      <td>20</td>\n",
              "      <td>0</td>\n",
              "      <td>0</td>\n",
              "      <td>0</td>\n",
              "      <td>0</td>\n",
              "      <td>en</td>\n",
              "      <td>NaN</td>\n",
              "      <td>1.584170e+18</td>\n",
              "      <td>https://twitter.com/imVkohli</td>\n",
              "      <td>@imVkohli Thank you kingggg 🙌🏼💙</td>\n",
              "    </tr>\n",
              "  </tbody>\n",
              "</table>\n",
              "<p>272257 rows × 15 columns</p>\n",
              "</div>\n",
              "      <button class=\"colab-df-convert\" onclick=\"convertToInteractive('df-b48ef758-8ddd-42b6-b9e7-cea1e3aa900f')\"\n",
              "              title=\"Convert this dataframe to an interactive table.\"\n",
              "              style=\"display:none;\">\n",
              "        \n",
              "  <svg xmlns=\"http://www.w3.org/2000/svg\" height=\"24px\"viewBox=\"0 0 24 24\"\n",
              "       width=\"24px\">\n",
              "    <path d=\"M0 0h24v24H0V0z\" fill=\"none\"/>\n",
              "    <path d=\"M18.56 5.44l.94 2.06.94-2.06 2.06-.94-2.06-.94-.94-2.06-.94 2.06-2.06.94zm-11 1L8.5 8.5l.94-2.06 2.06-.94-2.06-.94L8.5 2.5l-.94 2.06-2.06.94zm10 10l.94 2.06.94-2.06 2.06-.94-2.06-.94-.94-2.06-.94 2.06-2.06.94z\"/><path d=\"M17.41 7.96l-1.37-1.37c-.4-.4-.92-.59-1.43-.59-.52 0-1.04.2-1.43.59L10.3 9.45l-7.72 7.72c-.78.78-.78 2.05 0 2.83L4 21.41c.39.39.9.59 1.41.59.51 0 1.02-.2 1.41-.59l7.78-7.78 2.81-2.81c.8-.78.8-2.07 0-2.86zM5.41 20L4 18.59l7.72-7.72 1.47 1.35L5.41 20z\"/>\n",
              "  </svg>\n",
              "      </button>\n",
              "      \n",
              "  <style>\n",
              "    .colab-df-container {\n",
              "      display:flex;\n",
              "      flex-wrap:wrap;\n",
              "      gap: 12px;\n",
              "    }\n",
              "\n",
              "    .colab-df-convert {\n",
              "      background-color: #E8F0FE;\n",
              "      border: none;\n",
              "      border-radius: 50%;\n",
              "      cursor: pointer;\n",
              "      display: none;\n",
              "      fill: #1967D2;\n",
              "      height: 32px;\n",
              "      padding: 0 0 0 0;\n",
              "      width: 32px;\n",
              "    }\n",
              "\n",
              "    .colab-df-convert:hover {\n",
              "      background-color: #E2EBFA;\n",
              "      box-shadow: 0px 1px 2px rgba(60, 64, 67, 0.3), 0px 1px 3px 1px rgba(60, 64, 67, 0.15);\n",
              "      fill: #174EA6;\n",
              "    }\n",
              "\n",
              "    [theme=dark] .colab-df-convert {\n",
              "      background-color: #3B4455;\n",
              "      fill: #D2E3FC;\n",
              "    }\n",
              "\n",
              "    [theme=dark] .colab-df-convert:hover {\n",
              "      background-color: #434B5C;\n",
              "      box-shadow: 0px 1px 3px 1px rgba(0, 0, 0, 0.15);\n",
              "      filter: drop-shadow(0px 1px 2px rgba(0, 0, 0, 0.3));\n",
              "      fill: #FFFFFF;\n",
              "    }\n",
              "  </style>\n",
              "\n",
              "      <script>\n",
              "        const buttonEl =\n",
              "          document.querySelector('#df-b48ef758-8ddd-42b6-b9e7-cea1e3aa900f button.colab-df-convert');\n",
              "        buttonEl.style.display =\n",
              "          google.colab.kernel.accessAllowed ? 'block' : 'none';\n",
              "\n",
              "        async function convertToInteractive(key) {\n",
              "          const element = document.querySelector('#df-b48ef758-8ddd-42b6-b9e7-cea1e3aa900f');\n",
              "          const dataTable =\n",
              "            await google.colab.kernel.invokeFunction('convertToInteractive',\n",
              "                                                     [key], {});\n",
              "          if (!dataTable) return;\n",
              "\n",
              "          const docLinkHtml = 'Like what you see? Visit the ' +\n",
              "            '<a target=\"_blank\" href=https://colab.research.google.com/notebooks/data_table.ipynb>data table notebook</a>'\n",
              "            + ' to learn more about interactive tables.';\n",
              "          element.innerHTML = '';\n",
              "          dataTable['output_type'] = 'display_data';\n",
              "          await google.colab.output.renderOutput(dataTable, element);\n",
              "          const docLink = document.createElement('div');\n",
              "          docLink.innerHTML = docLinkHtml;\n",
              "          element.appendChild(docLink);\n",
              "        }\n",
              "      </script>\n",
              "    </div>\n",
              "  </div>\n",
              "  "
            ],
            "text/plain": [
              "                         id  \\\n",
              "0       1584689793698791424   \n",
              "1       1584684371512291330   \n",
              "2       1584684147339296768   \n",
              "3       1584684139839905792   \n",
              "4       1584681884210319360   \n",
              "...                     ...   \n",
              "272265  1584171715977887744   \n",
              "272266  1584171715717783552   \n",
              "272267  1584171715583971330   \n",
              "272268  1584171714598285312   \n",
              "272269  1584171713948180482   \n",
              "\n",
              "                                                     text         username  \\\n",
              "0       Hangover of #INDvsPAK2022 is still around. #T2...    drivesnflicks   \n",
              "1       @TheBarmyArmy luv it \\n\\n❤️❤️❤️\\n\\n#INDvPAK \\n...  Krishna59638949   \n",
              "2                                           #INDvsPAK2022      kingbabar__   \n",
              "3                               No ball thi #INDvsPAK2022      kingbabar__   \n",
              "4       @mufaddal_vohra @ImRo45 \\n@BCCI \\n\\nWhen will\\...  Krishna59638949   \n",
              "...                                                   ...              ...   \n",
              "272265             @imVkohli Use this as a dislike button  Labeed_Siddiqui   \n",
              "272266  @HSajwanization @imVkohli .. and massive #Hear...  karanpanjwani84   \n",
              "272267  @imVkohli Well played king your Father would b...   karansingh6780   \n",
              "272268      @imVkohli #GOAT #Kingkohli #Kingisalwaysaking   Kartikagarwal0   \n",
              "272269                    @imVkohli Thank you kingggg 🙌🏼💙    flexandchilll   \n",
              "\n",
              "                                            hashtags  \\\n",
              "0                    ['INDvsPAK2022', 'T20WorldCup']   \n",
              "1       ['INDvPAK', 'indvspakmatch', 'INDvsPAK2022']   \n",
              "2                                   ['INDvsPAK2022']   \n",
              "3                                   ['INDvsPAK2022']   \n",
              "4          ['INDvPAK', 'INDvsPAK2022', 'T20Cricket']   \n",
              "...                                              ...   \n",
              "272265                                           NaN   \n",
              "272266                                ['HeartBreak']   \n",
              "272267                                           NaN   \n",
              "272268    ['GOAT', 'Kingkohli', 'Kingisalwaysaking']   \n",
              "272269                                           NaN   \n",
              "\n",
              "                       created_at  user followers count  replycount  \\\n",
              "0       2022-10-24 23:34:23+00:00                   538           0   \n",
              "1       2022-10-24 23:12:50+00:00                    24           0   \n",
              "2       2022-10-24 23:11:57+00:00                    56           0   \n",
              "3       2022-10-24 23:11:55+00:00                    56           0   \n",
              "4       2022-10-24 23:02:57+00:00                    24           1   \n",
              "...                           ...                   ...         ...   \n",
              "272265  2022-10-23 13:15:44+00:00                  2281           0   \n",
              "272266  2022-10-23 13:15:44+00:00                    11           0   \n",
              "272267  2022-10-23 13:15:44+00:00                    55           0   \n",
              "272268  2022-10-23 13:15:43+00:00                    47           0   \n",
              "272269  2022-10-23 13:15:43+00:00                    20           0   \n",
              "\n",
              "        retweetcount  likecount  quotecount language  quotedtweet  \\\n",
              "0                  0          6           0       en          NaN   \n",
              "1                  0          0           0       en          NaN   \n",
              "2                  0          0           0      qht          NaN   \n",
              "3                  0          0           0       en          NaN   \n",
              "4                  0          0           0       en          NaN   \n",
              "...              ...        ...         ...      ...          ...   \n",
              "272265             0          5           0       en          NaN   \n",
              "272266             0          1           0       en          NaN   \n",
              "272267             0          0           0       en          NaN   \n",
              "272268             0          0           0      qme          NaN   \n",
              "272269             0          0           0       en          NaN   \n",
              "\n",
              "        inReplyToTweetId                       inReplyToUser  \\\n",
              "0                    NaN                                 NaN   \n",
              "1           1.584539e+18    https://twitter.com/TheBarmyArmy   \n",
              "2                    NaN                                 NaN   \n",
              "3                    NaN                                 NaN   \n",
              "4           1.584460e+18  https://twitter.com/mufaddal_vohra   \n",
              "...                  ...                                 ...   \n",
              "272265      1.584170e+18        https://twitter.com/imVkohli   \n",
              "272266      1.584157e+18  https://twitter.com/HSajwanization   \n",
              "272267      1.584170e+18        https://twitter.com/imVkohli   \n",
              "272268      1.584170e+18        https://twitter.com/imVkohli   \n",
              "272269      1.584170e+18        https://twitter.com/imVkohli   \n",
              "\n",
              "                                           mentionedUsers  \n",
              "0       Hangover of #INDvsPAK2022 is still around. #T2...  \n",
              "1       @TheBarmyArmy luv it \\n\\n❤️❤️❤️\\n\\n#INDvPAK \\n...  \n",
              "2                                           #INDvsPAK2022  \n",
              "3                               No ball thi #INDvsPAK2022  \n",
              "4       @mufaddal_vohra @ImRo45 \\n@BCCI \\n\\nWhen will\\...  \n",
              "...                                                   ...  \n",
              "272265             @imVkohli Use this as a dislike button  \n",
              "272266  @HSajwanization @imVkohli .. and massive #Hear...  \n",
              "272267  @imVkohli Well played king your Father would b...  \n",
              "272268      @imVkohli #GOAT #Kingkohli #Kingisalwaysaking  \n",
              "272269                    @imVkohli Thank you kingggg 🙌🏼💙  \n",
              "\n",
              "[272257 rows x 15 columns]"
            ]
          },
          "execution_count": 22,
          "metadata": {},
          "output_type": "execute_result"
        }
      ],
      "source": [
        "df[df['text'].str.contains('RT @')==False]"
      ]
    },
    {
      "cell_type": "code",
      "execution_count": null,
      "metadata": {
        "id": "_RE2s_SAh_lp"
      },
      "outputs": [],
      "source": [
        "words = set(nltk.corpus.words.words())"
      ]
    },
    {
      "cell_type": "code",
      "execution_count": null,
      "metadata": {
        "id": "T7zZbM_ZiS0g"
      },
      "outputs": [],
      "source": [
        "# importing all necessary modules\n",
        "from wordcloud import WordCloud, STOPWORDS\n",
        "stopwords = set(STOPWORDS)\n",
        "comment_words = ''"
      ]
    },
    {
      "cell_type": "code",
      "execution_count": null,
      "metadata": {
        "id": "9NCyrA2ko82V"
      },
      "outputs": [],
      "source": [
        "for val in df['text']:\n",
        "     \n",
        "    # typecaste each val to string\n",
        "    val = str(val)\n",
        " \n",
        "    # split the value\n",
        "    tokens = val.split()\n",
        "     \n",
        "    # Converts each token into lowercase\n",
        "    for i in range(len(tokens)):\n",
        "        tokens[i] = tokens[i].lower()\n",
        "     \n",
        "    comment_words += \" \".join(tokens)+\" \""
      ]
    },
    {
      "cell_type": "code",
      "execution_count": null,
      "metadata": {
        "colab": {
          "base_uri": "https://localhost:8080/",
          "height": 607
        },
        "id": "jusMWy2woxPj",
        "outputId": "b21cfd22-ae7e-4b4a-f2ae-0b04ab5ad752"
      },
      "outputs": [
        {
          "data": {
            "image/png": "[encoded data removed]",
            "text/plain": [
              "<Figure size 576x576 with 1 Axes>"
            ]
          },
          "metadata": {},
          "output_type": "display_data"
        }
      ],
      "source": [
        "wordcloud = WordCloud(width = 800, height = 800,\n",
        "                background_color ='white',\n",
        "                stopwords = stopwords,\n",
        "                min_font_size = 10).generate(comment_words)\n",
        " \n",
        "# plot the WordCloud image                      \n",
        "plt.figure(figsize = (8, 8), facecolor = None)\n",
        "plt.imshow(wordcloud)\n",
        "plt.axis(\"off\")\n",
        "plt.tight_layout(pad = 0)\n",
        " \n",
        "plt.show()"
      ]
    },
    {
      "cell_type": "code",
      "execution_count": null,
      "metadata": {
        "colab": {
          "base_uri": "https://localhost:8080/"
        },
        "id": "NlzRmW69PHe3",
        "outputId": "d93dbe29-95c9-4bf1-97b0-60b668e3a183"
      },
      "outputs": [
        {
          "output_type": "execute_result",
          "data": {
            "text/plain": [
              "(272270, 15)"
            ]
          },
          "metadata": {},
          "execution_count": 8
        }
      ],
      "source": [
        "df.shape"
      ]
    },
    {
      "cell_type": "code",
      "execution_count": null,
      "metadata": {
        "id": "E8bFMjHos2sn"
      },
      "outputs": [],
      "source": [
        "df_small=df[1:27227]"
      ]
    },
    {
      "cell_type": "code",
      "execution_count": null,
      "metadata": {
        "colab": {
          "background_save": true
        },
        "id": "3GSp8EItpHfB"
      },
      "outputs": [],
      "source": [
        "emotion=df_small['text'].apply(lambda x: te.get_emotion(x))"
      ]
    },
    {
      "cell_type": "code",
      "execution_count": null,
      "metadata": {
        "colab": {
          "base_uri": "https://localhost:8080/"
        },
        "id": "CFpBaYLOvj_5",
        "outputId": "69b5a16a-1ae7-4b6b-eda1-d169457617f1"
      },
      "outputs": [
        {
          "data": {
            "text/plain": [
              "1        {'Happy': 0, 'Angry': 0, 'Surprise': 0, 'Sad':...\n",
              "2        {'Happy': 0, 'Angry': 0, 'Surprise': 0, 'Sad':...\n",
              "3        {'Happy': 0, 'Angry': 0, 'Surprise': 0, 'Sad':...\n",
              "4        {'Happy': 0, 'Angry': 0, 'Surprise': 0, 'Sad':...\n",
              "5        {'Happy': 0.0, 'Angry': 0.0, 'Surprise': 0.0, ...\n",
              "                               ...                        \n",
              "27222    {'Happy': 0.0, 'Angry': 0.0, 'Surprise': 1.0, ...\n",
              "27223    {'Happy': 0.0, 'Angry': 0.0, 'Surprise': 0.0, ...\n",
              "27224    {'Happy': 0, 'Angry': 0, 'Surprise': 0, 'Sad':...\n",
              "27225    {'Happy': 1.0, 'Angry': 0.0, 'Surprise': 0.0, ...\n",
              "27226    {'Happy': 0, 'Angry': 0, 'Surprise': 0, 'Sad':...\n",
              "Name: text, Length: 27226, dtype: object"
            ]
          },
          "execution_count": 28,
          "metadata": {},
          "output_type": "execute_result"
        }
      ],
      "source": [
        "emotion"
      ]
    },
    {
      "cell_type": "code",
      "execution_count": null,
      "metadata": {
        "id": "6KfR4OqySI9Q"
      },
      "outputs": [],
      "source": [
        "emotions_all=df['text'].apply(lambda x: te.get_emotion(x))"
      ]
    },
    {
      "cell_type": "code",
      "execution_count": null,
      "metadata": {
        "id": "1rG1S5nSqpiY"
      },
      "outputs": [],
      "source": [
        "emotion_cat=[]\n",
        "for em in emotion:\n",
        "  if all(value == 0 for value in em.values()):\n",
        "    emotion_cat.append(\"Not classified\")\n",
        "  else:\n",
        "    max_value = max(em, key=em.get)\n",
        "    emotion_cat.append(max_value)"
      ]
    },
    {
      "cell_type": "code",
      "execution_count": null,
      "metadata": {
        "id": "mGFHau7ftszD"
      },
      "outputs": [],
      "source": [
        "# Writing a function to output count plot \n",
        "def countplot_sns(attribute,title):\n",
        "  _=plt.figure(figsize=(12,7))\n",
        "  ax = sns.countplot(x=attribute,\n",
        "                     order=attribute.value_counts(ascending=False).index);\n",
        "  abs_values = attribute.value_counts(ascending=False)\n",
        "  rel_values = attribute.value_counts(ascending=False, normalize=True).values * 100\n",
        "  lbls = [f'{p[0]} ({p[1]:.0f}%)' for p in zip(abs_values, rel_values)]\n",
        "\n",
        "  _=ax.bar_label(container=ax.containers[0], labels=lbls)\n",
        "  _=plt.title(title)"
      ]
    },
    {
      "cell_type": "code",
      "execution_count": null,
      "metadata": {
        "id": "HHfbqWTiyKBn"
      },
      "outputs": [],
      "source": [
        "df_cat=pd.DataFrame(emotion_cat)"
      ]
    },
    {
      "cell_type": "code",
      "execution_count": null,
      "metadata": {
        "colab": {
          "base_uri": "https://localhost:8080/"
        },
        "id": "5Hlk0Np1vY37",
        "outputId": "71acde1e-c128-4dd9-e48c-033bf8e7ef93"
      },
      "outputs": [
        {
          "name": "stderr",
          "output_type": "stream",
          "text": [
            "<ipython-input-33-c7886fda9323>:1: SettingWithCopyWarning: \n",
            "A value is trying to be set on a copy of a slice from a DataFrame.\n",
            "Try using .loc[row_indexer,col_indexer] = value instead\n",
            "\n",
            "See the caveats in the documentation: https://pandas.pydata.org/pandas-docs/stable/user_guide/indexing.html#returning-a-view-versus-a-copy\n",
            "  df_small[\"emotion\"]=emotion_cat\n"
          ]
        }
      ],
      "source": [
        "df_small[\"emotion\"]=emotion_cat"
      ]
    },
    {
      "cell_type": "code",
      "execution_count": null,
      "metadata": {
        "id": "hhehm6RXvg-o"
      },
      "outputs": [],
      "source": [
        "df_small[\"emotion\"].to_csv(\"labelled.csv\")"
      ]
    },
    {
      "cell_type": "code",
      "execution_count": null,
      "metadata": {
        "id": "Nuvua0x8xA50"
      },
      "outputs": [],
      "source": [
        "countplot_sns(df_cat[0],\"COUNT\")"
      ]
    },
    {
      "cell_type": "markdown",
      "metadata": {
        "id": "gH2umB5NnsoF"
      },
      "source": [
        "## Sentiment Intensity Analyzer using NLTK"
      ]
    },
    {
      "cell_type": "code",
      "source": [
        "df_labelled=pd.read_csv(\"/content/drive/Shareddrives/UnipiSharedDrive/labelled.csv\")"
      ],
      "metadata": {
        "id": "KbWqAGgAwF7C"
      },
      "execution_count": null,
      "outputs": []
    },
    {
      "cell_type": "code",
      "source": [
        "df_labelled=df_labelled.drop([\"Unnamed: 0\"],axis=1)"
      ],
      "metadata": {
        "id": "TrqXJ0CGwMBa"
      },
      "execution_count": null,
      "outputs": []
    },
    {
      "cell_type": "code",
      "source": [
        "df_small['emotion']=df_labelled[\"emotion\"]"
      ],
      "metadata": {
        "id": "ksO8LMUewbpn"
      },
      "execution_count": null,
      "outputs": []
    },
    {
      "cell_type": "code",
      "execution_count": null,
      "metadata": {
        "id": "xTQlOmZGn-pi"
      },
      "outputs": [],
      "source": [
        "train_df=df_small"
      ]
    },
    {
      "cell_type": "code",
      "execution_count": null,
      "metadata": {
        "id": "Om1PdCWNuiPz"
      },
      "outputs": [],
      "source": [
        "from nltk.sentiment import SentimentIntensityAnalyzer"
      ]
    },
    {
      "cell_type": "code",
      "execution_count": null,
      "metadata": {
        "id": "iTf8BwOCnzC2"
      },
      "outputs": [],
      "source": [
        "sia = SentimentIntensityAnalyzer()\n",
        "sentiment=train_df['text'].apply(lambda x: sia.polarity_scores(x)[\"compound\"])"
      ]
    },
    {
      "cell_type": "code",
      "source": [
        "train_df[\"sentiment_score\"]=sentiment"
      ],
      "metadata": {
        "id": "6SwMAtMNxWBF"
      },
      "execution_count": null,
      "outputs": []
    },
    {
      "cell_type": "code",
      "source": [
        "train_df['sentiment'] = np.where(train_df['sentiment_score'] > 0, 'Positive', 'Negative')"
      ],
      "metadata": {
        "id": "ka_I2GqRxzeU"
      },
      "execution_count": null,
      "outputs": []
    },
    {
      "cell_type": "code",
      "source": [
        "train_df['sentiment'].value_counts()"
      ],
      "metadata": {
        "colab": {
          "base_uri": "https://localhost:8080/"
        },
        "id": "xwundCy_zLSv",
        "outputId": "490ad264-ce67-4597-cf89-3f78f03a9e38"
      },
      "execution_count": null,
      "outputs": [
        {
          "output_type": "execute_result",
          "data": {
            "text/plain": [
              "Negative    15142\n",
              "Positive    12084\n",
              "Name: sentiment, dtype: int64"
            ]
          },
          "metadata": {},
          "execution_count": 16
        }
      ]
    },
    {
      "cell_type": "code",
      "source": [
        "countplot_sns(train_df['sentiment'],\"Sentiment Polarity\")"
      ],
      "metadata": {
        "colab": {
          "base_uri": "https://localhost:8080/",
          "height": 165
        },
        "id": "8LlqtnHvzTUw",
        "outputId": "92e1bf1c-45b9-4837-824b-823858eab9b4"
      },
      "execution_count": null,
      "outputs": [
        {
          "output_type": "error",
          "ename": "NameError",
          "evalue": "ignored",
          "traceback": [
            "\u001b[0;31m---------------------------------------------------------------------------\u001b[0m",
            "\u001b[0;31mNameError\u001b[0m                                 Traceback (most recent call last)",
            "\u001b[0;32m<ipython-input-17-460efee3cd0e>\u001b[0m in \u001b[0;36m<module>\u001b[0;34m\u001b[0m\n\u001b[0;32m----> 1\u001b[0;31m \u001b[0mcountplot_sns\u001b[0m\u001b[0;34m(\u001b[0m\u001b[0mtrain_df\u001b[0m\u001b[0;34m[\u001b[0m\u001b[0;34m'sentiment'\u001b[0m\u001b[0;34m]\u001b[0m\u001b[0;34m,\u001b[0m\u001b[0;34m\"Sentiment Polarity\"\u001b[0m\u001b[0;34m)\u001b[0m\u001b[0;34m\u001b[0m\u001b[0;34m\u001b[0m\u001b[0m\n\u001b[0m",
            "\u001b[0;31mNameError\u001b[0m: name 'countplot_sns' is not defined"
          ]
        }
      ]
    },
    {
      "cell_type": "code",
      "source": [
        "type(sentiment)"
      ],
      "metadata": {
        "colab": {
          "base_uri": "https://localhost:8080/"
        },
        "id": "aOKjhwySxf7_",
        "outputId": "4c1bad04-415d-4ec2-e93c-60246a13cdbd"
      },
      "execution_count": null,
      "outputs": [
        {
          "output_type": "execute_result",
          "data": {
            "text/plain": [
              "pandas.core.series.Series"
            ]
          },
          "metadata": {},
          "execution_count": 31
        }
      ]
    },
    {
      "cell_type": "code",
      "source": [
        "train_df"
      ],
      "metadata": {
        "colab": {
          "base_uri": "https://localhost:8080/",
          "height": 887
        },
        "id": "Z_ryI9IZxaaH",
        "outputId": "c2035b23-0eb3-4283-8b1e-6bd8d9a2e6a2"
      },
      "execution_count": null,
      "outputs": [
        {
          "output_type": "execute_result",
          "data": {
            "text/plain": [
              "                        id                                               text  \\\n",
              "1      1584684371512291330  @TheBarmyArmy luv it \\n\\n❤️❤️❤️\\n\\n#INDvPAK \\n...   \n",
              "2      1584684147339296768                                      #INDvsPAK2022   \n",
              "3      1584684139839905792                          No ball thi #INDvsPAK2022   \n",
              "4      1584681884210319360  @mufaddal_vohra @ImRo45 \\n@BCCI \\n\\nWhen will\\...   \n",
              "5      1584680546005037056  What’s your zodiac sign ?And what’s your Fav S...   \n",
              "...                    ...                                                ...   \n",
              "27222  1584151780190871553              God was with us today 🤣 #INDvsPAK2022   \n",
              "27223  1584151779910254593  Never ever doubt about a quality player like V...   \n",
              "27224  1584151779872473089  Don't ever insult him comparing with anyone. #...   \n",
              "27225  1584151779863764992  What a match 😭😭.. Last over ne to dil jeet lia...   \n",
              "27226  1584151779562119172           Welldone Team India 🇮🇳 \\n\\n#INDvsPAK2022   \n",
              "\n",
              "              username                                           hashtags  \\\n",
              "1      Krishna59638949       ['INDvPAK', 'indvspakmatch', 'INDvsPAK2022']   \n",
              "2          kingbabar__                                   ['INDvsPAK2022']   \n",
              "3          kingbabar__                                   ['INDvsPAK2022']   \n",
              "4      Krishna59638949          ['INDvPAK', 'INDvsPAK2022', 'T20Cricket']   \n",
              "5       Chinab71816809  ['MAMA2022', 'TweetOfTheDay', 'T20WorldCup', '...   \n",
              "...                ...                                                ...   \n",
              "27222     MirchiLaddoo                                   ['INDvsPAK2022']   \n",
              "27223      Thisis_Anku                                   ['INDvsPAK2022']   \n",
              "27224      Bihari_Boy_                          ['Kohli', 'INDvsPAK2022']   \n",
              "27225          reeti_r                                   ['INDvsPAK2022']   \n",
              "27226       RinkuMedia                                   ['INDvsPAK2022']   \n",
              "\n",
              "                      created_at  user followers count  replycount  \\\n",
              "1      2022-10-24 23:12:50+00:00                    24           0   \n",
              "2      2022-10-24 23:11:57+00:00                    56           0   \n",
              "3      2022-10-24 23:11:55+00:00                    56           0   \n",
              "4      2022-10-24 23:02:57+00:00                    24           1   \n",
              "5      2022-10-24 22:57:38+00:00                     9           0   \n",
              "...                          ...                   ...         ...   \n",
              "27222  2022-10-23 11:56:31+00:00                  3844           1   \n",
              "27223  2022-10-23 11:56:31+00:00                   144           0   \n",
              "27224  2022-10-23 11:56:31+00:00                   173           0   \n",
              "27225  2022-10-23 11:56:31+00:00                   480           0   \n",
              "27226  2022-10-23 11:56:31+00:00                   674           0   \n",
              "\n",
              "       retweetcount  likecount  quotecount language  quotedtweet  \\\n",
              "1                 0          0           0       en          NaN   \n",
              "2                 0          0           0      qht          NaN   \n",
              "3                 0          0           0       en          NaN   \n",
              "4                 0          0           0       en          NaN   \n",
              "5                 0          0           0       en          NaN   \n",
              "...             ...        ...         ...      ...          ...   \n",
              "27222             0          0           0       en          NaN   \n",
              "27223             0          0           0       en          NaN   \n",
              "27224             0          1           0       en          NaN   \n",
              "27225             0          0           0       en          NaN   \n",
              "27226             0          1           0       en          NaN   \n",
              "\n",
              "       inReplyToTweetId                       inReplyToUser  \\\n",
              "1          1.584539e+18    https://twitter.com/TheBarmyArmy   \n",
              "2                   NaN                                 NaN   \n",
              "3                   NaN                                 NaN   \n",
              "4          1.584460e+18  https://twitter.com/mufaddal_vohra   \n",
              "5                   NaN                                 NaN   \n",
              "...                 ...                                 ...   \n",
              "27222               NaN                                 NaN   \n",
              "27223               NaN                                 NaN   \n",
              "27224               NaN                                 NaN   \n",
              "27225               NaN                                 NaN   \n",
              "27226               NaN                                 NaN   \n",
              "\n",
              "                                          mentionedUsers         emotion  \\\n",
              "1      @TheBarmyArmy luv it \\n\\n❤️❤️❤️\\n\\n#INDvPAK \\n...  Not classified   \n",
              "2                                          #INDvsPAK2022  Not classified   \n",
              "3                              No ball thi #INDvsPAK2022  Not classified   \n",
              "4      @mufaddal_vohra @ImRo45 \\n@BCCI \\n\\nWhen will\\...            Fear   \n",
              "5      What’s your zodiac sign ?And what’s your Fav S...        Surprise   \n",
              "...                                                  ...             ...   \n",
              "27222              God was with us today 🤣 #INDvsPAK2022            Fear   \n",
              "27223  Never ever doubt about a quality player like V...  Not classified   \n",
              "27224  Don't ever insult him comparing with anyone. #...           Happy   \n",
              "27225  What a match 😭😭.. Last over ne to dil jeet lia...  Not classified   \n",
              "27226           Welldone Team India 🇮🇳 \\n\\n#INDvsPAK2022             NaN   \n",
              "\n",
              "                                         sentiment_score  \n",
              "1      {'neg': 0.0, 'neu': 1.0, 'pos': 0.0, 'compound...  \n",
              "2      {'neg': 0.0, 'neu': 1.0, 'pos': 0.0, 'compound...  \n",
              "3      {'neg': 0.423, 'neu': 0.577, 'pos': 0.0, 'comp...  \n",
              "4      {'neg': 0.0, 'neu': 1.0, 'pos': 0.0, 'compound...  \n",
              "5      {'neg': 0.0, 'neu': 0.868, 'pos': 0.132, 'comp...  \n",
              "...                                                  ...  \n",
              "27222  {'neg': 0.0, 'neu': 0.704, 'pos': 0.296, 'comp...  \n",
              "27223  {'neg': 0.0, 'neu': 0.634, 'pos': 0.366, 'comp...  \n",
              "27224  {'neg': 0.0, 'neu': 0.748, 'pos': 0.252, 'comp...  \n",
              "27225  {'neg': 0.0, 'neu': 0.778, 'pos': 0.222, 'comp...  \n",
              "27226  {'neg': 0.0, 'neu': 1.0, 'pos': 0.0, 'compound...  \n",
              "\n",
              "[27226 rows x 17 columns]"
            ],
            "text/html": [
              "\n",
              "  <div id=\"df-e2b71a0a-c846-4846-8615-48ec6ffefb8b\">\n",
              "    <div class=\"colab-df-container\">\n",
              "      <div>\n",
              "<style scoped>\n",
              "    .dataframe tbody tr th:only-of-type {\n",
              "        vertical-align: middle;\n",
              "    }\n",
              "\n",
              "    .dataframe tbody tr th {\n",
              "        vertical-align: top;\n",
              "    }\n",
              "\n",
              "    .dataframe thead th {\n",
              "        text-align: right;\n",
              "    }\n",
              "</style>\n",
              "<table border=\"1\" class=\"dataframe\">\n",
              "  <thead>\n",
              "    <tr style=\"text-align: right;\">\n",
              "      <th></th>\n",
              "      <th>id</th>\n",
              "      <th>text</th>\n",
              "      <th>username</th>\n",
              "      <th>hashtags</th>\n",
              "      <th>created_at</th>\n",
              "      <th>user followers count</th>\n",
              "      <th>replycount</th>\n",
              "      <th>retweetcount</th>\n",
              "      <th>likecount</th>\n",
              "      <th>quotecount</th>\n",
              "      <th>language</th>\n",
              "      <th>quotedtweet</th>\n",
              "      <th>inReplyToTweetId</th>\n",
              "      <th>inReplyToUser</th>\n",
              "      <th>mentionedUsers</th>\n",
              "      <th>emotion</th>\n",
              "      <th>sentiment_score</th>\n",
              "    </tr>\n",
              "  </thead>\n",
              "  <tbody>\n",
              "    <tr>\n",
              "      <th>1</th>\n",
              "      <td>1584684371512291330</td>\n",
              "      <td>@TheBarmyArmy luv it \\n\\n❤️❤️❤️\\n\\n#INDvPAK \\n...</td>\n",
              "      <td>Krishna59638949</td>\n",
              "      <td>['INDvPAK', 'indvspakmatch', 'INDvsPAK2022']</td>\n",
              "      <td>2022-10-24 23:12:50+00:00</td>\n",
              "      <td>24</td>\n",
              "      <td>0</td>\n",
              "      <td>0</td>\n",
              "      <td>0</td>\n",
              "      <td>0</td>\n",
              "      <td>en</td>\n",
              "      <td>NaN</td>\n",
              "      <td>1.584539e+18</td>\n",
              "      <td>https://twitter.com/TheBarmyArmy</td>\n",
              "      <td>@TheBarmyArmy luv it \\n\\n❤️❤️❤️\\n\\n#INDvPAK \\n...</td>\n",
              "      <td>Not classified</td>\n",
              "      <td>{'neg': 0.0, 'neu': 1.0, 'pos': 0.0, 'compound...</td>\n",
              "    </tr>\n",
              "    <tr>\n",
              "      <th>2</th>\n",
              "      <td>1584684147339296768</td>\n",
              "      <td>#INDvsPAK2022</td>\n",
              "      <td>kingbabar__</td>\n",
              "      <td>['INDvsPAK2022']</td>\n",
              "      <td>2022-10-24 23:11:57+00:00</td>\n",
              "      <td>56</td>\n",
              "      <td>0</td>\n",
              "      <td>0</td>\n",
              "      <td>0</td>\n",
              "      <td>0</td>\n",
              "      <td>qht</td>\n",
              "      <td>NaN</td>\n",
              "      <td>NaN</td>\n",
              "      <td>NaN</td>\n",
              "      <td>#INDvsPAK2022</td>\n",
              "      <td>Not classified</td>\n",
              "      <td>{'neg': 0.0, 'neu': 1.0, 'pos': 0.0, 'compound...</td>\n",
              "    </tr>\n",
              "    <tr>\n",
              "      <th>3</th>\n",
              "      <td>1584684139839905792</td>\n",
              "      <td>No ball thi #INDvsPAK2022</td>\n",
              "      <td>kingbabar__</td>\n",
              "      <td>['INDvsPAK2022']</td>\n",
              "      <td>2022-10-24 23:11:55+00:00</td>\n",
              "      <td>56</td>\n",
              "      <td>0</td>\n",
              "      <td>0</td>\n",
              "      <td>0</td>\n",
              "      <td>0</td>\n",
              "      <td>en</td>\n",
              "      <td>NaN</td>\n",
              "      <td>NaN</td>\n",
              "      <td>NaN</td>\n",
              "      <td>No ball thi #INDvsPAK2022</td>\n",
              "      <td>Not classified</td>\n",
              "      <td>{'neg': 0.423, 'neu': 0.577, 'pos': 0.0, 'comp...</td>\n",
              "    </tr>\n",
              "    <tr>\n",
              "      <th>4</th>\n",
              "      <td>1584681884210319360</td>\n",
              "      <td>@mufaddal_vohra @ImRo45 \\n@BCCI \\n\\nWhen will\\...</td>\n",
              "      <td>Krishna59638949</td>\n",
              "      <td>['INDvPAK', 'INDvsPAK2022', 'T20Cricket']</td>\n",
              "      <td>2022-10-24 23:02:57+00:00</td>\n",
              "      <td>24</td>\n",
              "      <td>1</td>\n",
              "      <td>0</td>\n",
              "      <td>0</td>\n",
              "      <td>0</td>\n",
              "      <td>en</td>\n",
              "      <td>NaN</td>\n",
              "      <td>1.584460e+18</td>\n",
              "      <td>https://twitter.com/mufaddal_vohra</td>\n",
              "      <td>@mufaddal_vohra @ImRo45 \\n@BCCI \\n\\nWhen will\\...</td>\n",
              "      <td>Fear</td>\n",
              "      <td>{'neg': 0.0, 'neu': 1.0, 'pos': 0.0, 'compound...</td>\n",
              "    </tr>\n",
              "    <tr>\n",
              "      <th>5</th>\n",
              "      <td>1584680546005037056</td>\n",
              "      <td>What’s your zodiac sign ?And what’s your Fav S...</td>\n",
              "      <td>Chinab71816809</td>\n",
              "      <td>['MAMA2022', 'TweetOfTheDay', 'T20WorldCup', '...</td>\n",
              "      <td>2022-10-24 22:57:38+00:00</td>\n",
              "      <td>9</td>\n",
              "      <td>0</td>\n",
              "      <td>0</td>\n",
              "      <td>0</td>\n",
              "      <td>0</td>\n",
              "      <td>en</td>\n",
              "      <td>NaN</td>\n",
              "      <td>NaN</td>\n",
              "      <td>NaN</td>\n",
              "      <td>What’s your zodiac sign ?And what’s your Fav S...</td>\n",
              "      <td>Surprise</td>\n",
              "      <td>{'neg': 0.0, 'neu': 0.868, 'pos': 0.132, 'comp...</td>\n",
              "    </tr>\n",
              "    <tr>\n",
              "      <th>...</th>\n",
              "      <td>...</td>\n",
              "      <td>...</td>\n",
              "      <td>...</td>\n",
              "      <td>...</td>\n",
              "      <td>...</td>\n",
              "      <td>...</td>\n",
              "      <td>...</td>\n",
              "      <td>...</td>\n",
              "      <td>...</td>\n",
              "      <td>...</td>\n",
              "      <td>...</td>\n",
              "      <td>...</td>\n",
              "      <td>...</td>\n",
              "      <td>...</td>\n",
              "      <td>...</td>\n",
              "      <td>...</td>\n",
              "      <td>...</td>\n",
              "    </tr>\n",
              "    <tr>\n",
              "      <th>27222</th>\n",
              "      <td>1584151780190871553</td>\n",
              "      <td>God was with us today 🤣 #INDvsPAK2022</td>\n",
              "      <td>MirchiLaddoo</td>\n",
              "      <td>['INDvsPAK2022']</td>\n",
              "      <td>2022-10-23 11:56:31+00:00</td>\n",
              "      <td>3844</td>\n",
              "      <td>1</td>\n",
              "      <td>0</td>\n",
              "      <td>0</td>\n",
              "      <td>0</td>\n",
              "      <td>en</td>\n",
              "      <td>NaN</td>\n",
              "      <td>NaN</td>\n",
              "      <td>NaN</td>\n",
              "      <td>God was with us today 🤣 #INDvsPAK2022</td>\n",
              "      <td>Fear</td>\n",
              "      <td>{'neg': 0.0, 'neu': 0.704, 'pos': 0.296, 'comp...</td>\n",
              "    </tr>\n",
              "    <tr>\n",
              "      <th>27223</th>\n",
              "      <td>1584151779910254593</td>\n",
              "      <td>Never ever doubt about a quality player like V...</td>\n",
              "      <td>Thisis_Anku</td>\n",
              "      <td>['INDvsPAK2022']</td>\n",
              "      <td>2022-10-23 11:56:31+00:00</td>\n",
              "      <td>144</td>\n",
              "      <td>0</td>\n",
              "      <td>0</td>\n",
              "      <td>0</td>\n",
              "      <td>0</td>\n",
              "      <td>en</td>\n",
              "      <td>NaN</td>\n",
              "      <td>NaN</td>\n",
              "      <td>NaN</td>\n",
              "      <td>Never ever doubt about a quality player like V...</td>\n",
              "      <td>Not classified</td>\n",
              "      <td>{'neg': 0.0, 'neu': 0.634, 'pos': 0.366, 'comp...</td>\n",
              "    </tr>\n",
              "    <tr>\n",
              "      <th>27224</th>\n",
              "      <td>1584151779872473089</td>\n",
              "      <td>Don't ever insult him comparing with anyone. #...</td>\n",
              "      <td>Bihari_Boy_</td>\n",
              "      <td>['Kohli', 'INDvsPAK2022']</td>\n",
              "      <td>2022-10-23 11:56:31+00:00</td>\n",
              "      <td>173</td>\n",
              "      <td>0</td>\n",
              "      <td>0</td>\n",
              "      <td>1</td>\n",
              "      <td>0</td>\n",
              "      <td>en</td>\n",
              "      <td>NaN</td>\n",
              "      <td>NaN</td>\n",
              "      <td>NaN</td>\n",
              "      <td>Don't ever insult him comparing with anyone. #...</td>\n",
              "      <td>Happy</td>\n",
              "      <td>{'neg': 0.0, 'neu': 0.748, 'pos': 0.252, 'comp...</td>\n",
              "    </tr>\n",
              "    <tr>\n",
              "      <th>27225</th>\n",
              "      <td>1584151779863764992</td>\n",
              "      <td>What a match 😭😭.. Last over ne to dil jeet lia...</td>\n",
              "      <td>reeti_r</td>\n",
              "      <td>['INDvsPAK2022']</td>\n",
              "      <td>2022-10-23 11:56:31+00:00</td>\n",
              "      <td>480</td>\n",
              "      <td>0</td>\n",
              "      <td>0</td>\n",
              "      <td>0</td>\n",
              "      <td>0</td>\n",
              "      <td>en</td>\n",
              "      <td>NaN</td>\n",
              "      <td>NaN</td>\n",
              "      <td>NaN</td>\n",
              "      <td>What a match 😭😭.. Last over ne to dil jeet lia...</td>\n",
              "      <td>Not classified</td>\n",
              "      <td>{'neg': 0.0, 'neu': 0.778, 'pos': 0.222, 'comp...</td>\n",
              "    </tr>\n",
              "    <tr>\n",
              "      <th>27226</th>\n",
              "      <td>1584151779562119172</td>\n",
              "      <td>Welldone Team India 🇮🇳 \\n\\n#INDvsPAK2022</td>\n",
              "      <td>RinkuMedia</td>\n",
              "      <td>['INDvsPAK2022']</td>\n",
              "      <td>2022-10-23 11:56:31+00:00</td>\n",
              "      <td>674</td>\n",
              "      <td>0</td>\n",
              "      <td>0</td>\n",
              "      <td>1</td>\n",
              "      <td>0</td>\n",
              "      <td>en</td>\n",
              "      <td>NaN</td>\n",
              "      <td>NaN</td>\n",
              "      <td>NaN</td>\n",
              "      <td>Welldone Team India 🇮🇳 \\n\\n#INDvsPAK2022</td>\n",
              "      <td>NaN</td>\n",
              "      <td>{'neg': 0.0, 'neu': 1.0, 'pos': 0.0, 'compound...</td>\n",
              "    </tr>\n",
              "  </tbody>\n",
              "</table>\n",
              "<p>27226 rows × 17 columns</p>\n",
              "</div>\n",
              "      <button class=\"colab-df-convert\" onclick=\"convertToInteractive('df-e2b71a0a-c846-4846-8615-48ec6ffefb8b')\"\n",
              "              title=\"Convert this dataframe to an interactive table.\"\n",
              "              style=\"display:none;\">\n",
              "        \n",
              "  <svg xmlns=\"http://www.w3.org/2000/svg\" height=\"24px\"viewBox=\"0 0 24 24\"\n",
              "       width=\"24px\">\n",
              "    <path d=\"M0 0h24v24H0V0z\" fill=\"none\"/>\n",
              "    <path d=\"M18.56 5.44l.94 2.06.94-2.06 2.06-.94-2.06-.94-.94-2.06-.94 2.06-2.06.94zm-11 1L8.5 8.5l.94-2.06 2.06-.94-2.06-.94L8.5 2.5l-.94 2.06-2.06.94zm10 10l.94 2.06.94-2.06 2.06-.94-2.06-.94-.94-2.06-.94 2.06-2.06.94z\"/><path d=\"M17.41 7.96l-1.37-1.37c-.4-.4-.92-.59-1.43-.59-.52 0-1.04.2-1.43.59L10.3 9.45l-7.72 7.72c-.78.78-.78 2.05 0 2.83L4 21.41c.39.39.9.59 1.41.59.51 0 1.02-.2 1.41-.59l7.78-7.78 2.81-2.81c.8-.78.8-2.07 0-2.86zM5.41 20L4 18.59l7.72-7.72 1.47 1.35L5.41 20z\"/>\n",
              "  </svg>\n",
              "      </button>\n",
              "      \n",
              "  <style>\n",
              "    .colab-df-container {\n",
              "      display:flex;\n",
              "      flex-wrap:wrap;\n",
              "      gap: 12px;\n",
              "    }\n",
              "\n",
              "    .colab-df-convert {\n",
              "      background-color: #E8F0FE;\n",
              "      border: none;\n",
              "      border-radius: 50%;\n",
              "      cursor: pointer;\n",
              "      display: none;\n",
              "      fill: #1967D2;\n",
              "      height: 32px;\n",
              "      padding: 0 0 0 0;\n",
              "      width: 32px;\n",
              "    }\n",
              "\n",
              "    .colab-df-convert:hover {\n",
              "      background-color: #E2EBFA;\n",
              "      box-shadow: 0px 1px 2px rgba(60, 64, 67, 0.3), 0px 1px 3px 1px rgba(60, 64, 67, 0.15);\n",
              "      fill: #174EA6;\n",
              "    }\n",
              "\n",
              "    [theme=dark] .colab-df-convert {\n",
              "      background-color: #3B4455;\n",
              "      fill: #D2E3FC;\n",
              "    }\n",
              "\n",
              "    [theme=dark] .colab-df-convert:hover {\n",
              "      background-color: #434B5C;\n",
              "      box-shadow: 0px 1px 3px 1px rgba(0, 0, 0, 0.15);\n",
              "      filter: drop-shadow(0px 1px 2px rgba(0, 0, 0, 0.3));\n",
              "      fill: #FFFFFF;\n",
              "    }\n",
              "  </style>\n",
              "\n",
              "      <script>\n",
              "        const buttonEl =\n",
              "          document.querySelector('#df-e2b71a0a-c846-4846-8615-48ec6ffefb8b button.colab-df-convert');\n",
              "        buttonEl.style.display =\n",
              "          google.colab.kernel.accessAllowed ? 'block' : 'none';\n",
              "\n",
              "        async function convertToInteractive(key) {\n",
              "          const element = document.querySelector('#df-e2b71a0a-c846-4846-8615-48ec6ffefb8b');\n",
              "          const dataTable =\n",
              "            await google.colab.kernel.invokeFunction('convertToInteractive',\n",
              "                                                     [key], {});\n",
              "          if (!dataTable) return;\n",
              "\n",
              "          const docLinkHtml = 'Like what you see? Visit the ' +\n",
              "            '<a target=\"_blank\" href=https://colab.research.google.com/notebooks/data_table.ipynb>data table notebook</a>'\n",
              "            + ' to learn more about interactive tables.';\n",
              "          element.innerHTML = '';\n",
              "          dataTable['output_type'] = 'display_data';\n",
              "          await google.colab.output.renderOutput(dataTable, element);\n",
              "          const docLink = document.createElement('div');\n",
              "          docLink.innerHTML = docLinkHtml;\n",
              "          element.appendChild(docLink);\n",
              "        }\n",
              "      </script>\n",
              "    </div>\n",
              "  </div>\n",
              "  "
            ]
          },
          "metadata": {},
          "execution_count": 25
        }
      ]
    },
    {
      "cell_type": "code",
      "execution_count": null,
      "metadata": {
        "id": "gITHpiV8oHfQ"
      },
      "outputs": [],
      "source": [
        "# import Profile_Report\n",
        "from pandas_profiling import ProfileReport\n",
        "# generate profile report\n",
        "train_profile = ProfileReport(train_df, title='Pandas Profiling Report')"
      ]
    },
    {
      "cell_type": "code",
      "execution_count": null,
      "metadata": {
        "id": "28hHM6hDtETm",
        "colab": {
          "base_uri": "https://localhost:8080/",
          "height": 165
        },
        "outputId": "f707edb9-303f-4012-a740-e9d34d216176"
      },
      "outputs": [
        {
          "output_type": "error",
          "ename": "NameError",
          "evalue": "ignored",
          "traceback": [
            "\u001b[0;31m---------------------------------------------------------------------------\u001b[0m",
            "\u001b[0;31mNameError\u001b[0m                                 Traceback (most recent call last)",
            "\u001b[0;32m<ipython-input-42-d6b5505952dd>\u001b[0m in \u001b[0;36m<module>\u001b[0;34m\u001b[0m\n\u001b[0;32m----> 1\u001b[0;31m \u001b[0mtrain_profile\u001b[0m\u001b[0;34m.\u001b[0m\u001b[0mto_notebook_iframe\u001b[0m\u001b[0;34m(\u001b[0m\u001b[0;34m)\u001b[0m\u001b[0;34m\u001b[0m\u001b[0;34m\u001b[0m\u001b[0m\n\u001b[0m",
            "\u001b[0;31mNameError\u001b[0m: name 'train_profile' is not defined"
          ]
        }
      ],
      "source": [
        "train_profile.to_notebook_iframe()"
      ]
    },
    {
      "cell_type": "code",
      "execution_count": null,
      "metadata": {
        "id": "hlFstRvltGCm"
      },
      "outputs": [],
      "source": [
        "# define a function that removes urls from the text\n",
        "def remove_url(text):\n",
        "    text=re.sub(r'((?:https?|ftp|file)://[-\\w\\d+=&@#/%?~|!:;\\.,]*)', '', text)\n",
        "    return text\n",
        "\n",
        "# remove URLs from the text and show the modified text in a new column\n",
        "train_df['text_cleaned'] = train_df['text'].apply(remove_url)"
      ]
    },
    {
      "cell_type": "code",
      "execution_count": null,
      "metadata": {
        "id": "fXlxUhGptI_o"
      },
      "outputs": [],
      "source": [
        "# define a function that removes html tags from the text\n",
        "def remove_html(text):\n",
        "    text=re.sub(r'<.*?>', '', text)\n",
        "    return text\n",
        "\n",
        "# remove html tags from the text\n",
        "train_df['text_cleaned'] = train_df['text_cleaned'].apply(remove_html)"
      ]
    },
    {
      "cell_type": "code",
      "execution_count": null,
      "metadata": {
        "id": "wVZhxw_btMtS"
      },
      "outputs": [],
      "source": [
        "# define a function that removes character references from the text\n",
        "def remove_references(text):\n",
        "    text=re.sub(r'&[a-zA-Z]+;?', '', text)\n",
        "    return text\n",
        "\n",
        "# remove character references from the text\n",
        "train_df['text_cleaned'] = train_df['text_cleaned'].apply(remove_references)"
      ]
    },
    {
      "cell_type": "code",
      "execution_count": null,
      "metadata": {
        "id": "WCa0pyX6tQLI",
        "colab": {
          "base_uri": "https://localhost:8080/",
          "height": 35
        },
        "outputId": "a021bb33-f9a2-4e55-9969-f145640a4c61"
      },
      "outputs": [
        {
          "output_type": "execute_result",
          "data": {
            "text/plain": [
              "'0123456789abcdefghijklmnopqrstuvwxyzABCDEFGHIJKLMNOPQRSTUVWXYZ!\"#$%&\\'()*+,-./:;<=>?@[\\\\]^_`{|}~ \\t\\n\\r\\x0b\\x0c'"
            ],
            "application/vnd.google.colaboratory.intrinsic+json": {
              "type": "string"
            }
          },
          "metadata": {},
          "execution_count": 50
        }
      ],
      "source": [
        "# check which characters are printable (ASCII)\n",
        "string.printable"
      ]
    },
    {
      "cell_type": "code",
      "execution_count": null,
      "metadata": {
        "id": "jX3WdjLntV6J"
      },
      "outputs": [],
      "source": [
        "# define a function that removes non-printable characters from the text\n",
        "def remove_non_printable(text):\n",
        "    text = ''.join([word for word in text if word in string.printable])\n",
        "    return text\n",
        "\n",
        "# remove non-printable characters from the text\n",
        "train_df['text_cleaned'] = train_df['text_cleaned'].apply(remove_non_printable)"
      ]
    },
    {
      "cell_type": "code",
      "execution_count": null,
      "metadata": {
        "id": "eA7SN1JAtW6g"
      },
      "outputs": [],
      "source": [
        "# define a function that removes numeric values from the text\n",
        "def remove_alphanum(text):\n",
        "    text = re.sub(r'\\w*\\d+\\w*', '', text)\n",
        "    return text\n",
        "\n",
        "# remove numeric vlaues from the text\n",
        "train_df['text_cleaned'] = train_df['text_cleaned'].apply(remove_alphanum)"
      ]
    },
    {
      "cell_type": "code",
      "execution_count": null,
      "metadata": {
        "id": "vanuBA33ta4s"
      },
      "outputs": [],
      "source": [
        "# create a new feature for the number of sentences in each tweet\n",
        "train_df['sent_count'] = train_df['text_cleaned'].apply(nltk.tokenize.sent_tokenize).apply(len)"
      ]
    },
    {
      "cell_type": "code",
      "execution_count": null,
      "metadata": {
        "id": "X1GIsy67tvXq"
      },
      "outputs": [],
      "source": [
        "# create a new feature for the number of words in each tweet\n",
        "train_df['word_count'] = train_df['text_cleaned'].apply(nltk.tokenize.word_tokenize).apply(len)"
      ]
    },
    {
      "cell_type": "code",
      "execution_count": null,
      "metadata": {
        "id": "IbJpV68OtyCu"
      },
      "outputs": [],
      "source": [
        "# create a new feature for the number of characters in each tweet\n",
        "train_df['char_count'] = train_df['text_cleaned'].apply(lambda x: len(x)-x.count(' '))\n"
      ]
    },
    {
      "cell_type": "code",
      "execution_count": null,
      "metadata": {
        "id": "Gt89LPDltx6x"
      },
      "outputs": [],
      "source": [
        "# define a function that returns the number of hashtags in a string\n",
        "def hash_count(string):\n",
        "    words = string.split()\n",
        "    hashtags = [w for w in words if w.startswith('#')]\n",
        "    return len(hashtags)\n",
        "\n",
        "# create a new feature for the number of hashtags in each tweet\n",
        "train_df['hash_count'] = train_df['text_cleaned'].apply(hash_count)"
      ]
    },
    {
      "cell_type": "code",
      "execution_count": null,
      "metadata": {
        "id": "9hZ-BhKvt22K"
      },
      "outputs": [],
      "source": [
        "# define a function that returns the number of mentions in a string\n",
        "def ment_count(string):\n",
        "    words = string.split()\n",
        "    mentions = [w for w in words if w.startswith('@')]\n",
        "    return len(mentions)\n",
        "\n",
        "# create a new feature for the number of mentions in each tweet\n",
        "train_df['ment_count'] = train_df['text_cleaned'].apply(ment_count)"
      ]
    },
    {
      "cell_type": "code",
      "execution_count": null,
      "metadata": {
        "id": "xyAi3JmRt4Mk"
      },
      "outputs": [],
      "source": [
        "# define a function that returns the number of word in all CAPS in a string\n",
        "def all_caps_count(string):\n",
        "    words = string.split()\n",
        "    pattern = re.compile(r'\\b[A-z]+[A-Z]+\\b')\n",
        "    capswords = [w for w in words if w in re.findall(pattern, string)]\n",
        "    return len(capswords)\n",
        "\n",
        "# create a new feature for the number of word in all CAPS in each tweet\n",
        "train_df['all_caps_count'] = train_df['text_cleaned'].apply(all_caps_count)"
      ]
    },
    {
      "cell_type": "code",
      "execution_count": null,
      "metadata": {
        "id": "Zj8_3pyUt7ob"
      },
      "outputs": [],
      "source": [
        "# define a function that returns the average length of words in a string\n",
        "def word_avg(string):\n",
        "    words = string.split()\n",
        "    total_len = sum([len(words[i]) for i in range(len(words))])\n",
        "    avg_len = round(total_len/len(words), 2)\n",
        "    return avg_len\n",
        "\n",
        "# create a new feature for the average length of words in each tweet\n",
        "train_df['word_avg'] = train_df['text_cleaned'].apply(word_avg)"
      ]
    },
    {
      "cell_type": "code",
      "execution_count": null,
      "metadata": {
        "id": "jj__IBBiuDTr"
      },
      "outputs": [],
      "source": [
        "# define a function using nltk that returns the number of proper nouns in a string\n",
        "def propn_count(text):\n",
        "    tokens = nltk.tokenize.word_tokenize(text)\n",
        "    tagged =[token for token in nltk.pos_tag(tokens)]\n",
        "    propn = [token for (token, tag) in tagged if tag=='NNP' or tag=='NNPS']\n",
        "    return len(propn)\n",
        "\n",
        "# create a new feature for the number of proper noun in each tweet\n",
        "train_df['propn_count'] = train_df['text_cleaned'].apply(propn_count)"
      ]
    },
    {
      "cell_type": "code",
      "execution_count": null,
      "metadata": {
        "id": "soep2oPDuEzP",
        "colab": {
          "base_uri": "https://localhost:8080/",
          "height": 302
        },
        "outputId": "4a2a25d4-9b65-4586-ae13-6120337e7ab4"
      },
      "outputs": [
        {
          "output_type": "execute_result",
          "data": {
            "text/plain": [
              "                    id                                               text  \\\n",
              "1  1584684371512291330  @TheBarmyArmy luv it \\n\\n❤️❤️❤️\\n\\n#INDvPAK \\n...   \n",
              "2  1584684147339296768                                      #INDvsPAK2022   \n",
              "3  1584684139839905792                          No ball thi #INDvsPAK2022   \n",
              "4  1584681884210319360  @mufaddal_vohra @ImRo45 \\n@BCCI \\n\\nWhen will\\...   \n",
              "5  1584680546005037056  What’s your zodiac sign ?And what’s your Fav S...   \n",
              "\n",
              "                                        text_cleaned  propn_count  \n",
              "1  @TheBarmyArmy luv it \\n\\n\\n\\n#INDvPAK \\n#indvs...            2  \n",
              "2                                                  #            0  \n",
              "3                                      No ball thi #            0  \n",
              "4  @mufaddal_vohra @ \\n@BCCI \\n\\nWhen will\\n\\n@kl...            4  \n",
              "5  Whats your zodiac sign ?And whats your Fav Sig...            8  "
            ],
            "text/html": [
              "\n",
              "  <div id=\"df-ee66916a-4fbc-438b-a46a-452b7611eb12\">\n",
              "    <div class=\"colab-df-container\">\n",
              "      <div>\n",
              "<style scoped>\n",
              "    .dataframe tbody tr th:only-of-type {\n",
              "        vertical-align: middle;\n",
              "    }\n",
              "\n",
              "    .dataframe tbody tr th {\n",
              "        vertical-align: top;\n",
              "    }\n",
              "\n",
              "    .dataframe thead th {\n",
              "        text-align: right;\n",
              "    }\n",
              "</style>\n",
              "<table border=\"1\" class=\"dataframe\">\n",
              "  <thead>\n",
              "    <tr style=\"text-align: right;\">\n",
              "      <th></th>\n",
              "      <th>id</th>\n",
              "      <th>text</th>\n",
              "      <th>text_cleaned</th>\n",
              "      <th>propn_count</th>\n",
              "    </tr>\n",
              "  </thead>\n",
              "  <tbody>\n",
              "    <tr>\n",
              "      <th>1</th>\n",
              "      <td>1584684371512291330</td>\n",
              "      <td>@TheBarmyArmy luv it \\n\\n❤️❤️❤️\\n\\n#INDvPAK \\n...</td>\n",
              "      <td>@TheBarmyArmy luv it \\n\\n\\n\\n#INDvPAK \\n#indvs...</td>\n",
              "      <td>2</td>\n",
              "    </tr>\n",
              "    <tr>\n",
              "      <th>2</th>\n",
              "      <td>1584684147339296768</td>\n",
              "      <td>#INDvsPAK2022</td>\n",
              "      <td>#</td>\n",
              "      <td>0</td>\n",
              "    </tr>\n",
              "    <tr>\n",
              "      <th>3</th>\n",
              "      <td>1584684139839905792</td>\n",
              "      <td>No ball thi #INDvsPAK2022</td>\n",
              "      <td>No ball thi #</td>\n",
              "      <td>0</td>\n",
              "    </tr>\n",
              "    <tr>\n",
              "      <th>4</th>\n",
              "      <td>1584681884210319360</td>\n",
              "      <td>@mufaddal_vohra @ImRo45 \\n@BCCI \\n\\nWhen will\\...</td>\n",
              "      <td>@mufaddal_vohra @ \\n@BCCI \\n\\nWhen will\\n\\n@kl...</td>\n",
              "      <td>4</td>\n",
              "    </tr>\n",
              "    <tr>\n",
              "      <th>5</th>\n",
              "      <td>1584680546005037056</td>\n",
              "      <td>What’s your zodiac sign ?And what’s your Fav S...</td>\n",
              "      <td>Whats your zodiac sign ?And whats your Fav Sig...</td>\n",
              "      <td>8</td>\n",
              "    </tr>\n",
              "  </tbody>\n",
              "</table>\n",
              "</div>\n",
              "      <button class=\"colab-df-convert\" onclick=\"convertToInteractive('df-ee66916a-4fbc-438b-a46a-452b7611eb12')\"\n",
              "              title=\"Convert this dataframe to an interactive table.\"\n",
              "              style=\"display:none;\">\n",
              "        \n",
              "  <svg xmlns=\"http://www.w3.org/2000/svg\" height=\"24px\"viewBox=\"0 0 24 24\"\n",
              "       width=\"24px\">\n",
              "    <path d=\"M0 0h24v24H0V0z\" fill=\"none\"/>\n",
              "    <path d=\"M18.56 5.44l.94 2.06.94-2.06 2.06-.94-2.06-.94-.94-2.06-.94 2.06-2.06.94zm-11 1L8.5 8.5l.94-2.06 2.06-.94-2.06-.94L8.5 2.5l-.94 2.06-2.06.94zm10 10l.94 2.06.94-2.06 2.06-.94-2.06-.94-.94-2.06-.94 2.06-2.06.94z\"/><path d=\"M17.41 7.96l-1.37-1.37c-.4-.4-.92-.59-1.43-.59-.52 0-1.04.2-1.43.59L10.3 9.45l-7.72 7.72c-.78.78-.78 2.05 0 2.83L4 21.41c.39.39.9.59 1.41.59.51 0 1.02-.2 1.41-.59l7.78-7.78 2.81-2.81c.8-.78.8-2.07 0-2.86zM5.41 20L4 18.59l7.72-7.72 1.47 1.35L5.41 20z\"/>\n",
              "  </svg>\n",
              "      </button>\n",
              "      \n",
              "  <style>\n",
              "    .colab-df-container {\n",
              "      display:flex;\n",
              "      flex-wrap:wrap;\n",
              "      gap: 12px;\n",
              "    }\n",
              "\n",
              "    .colab-df-convert {\n",
              "      background-color: #E8F0FE;\n",
              "      border: none;\n",
              "      border-radius: 50%;\n",
              "      cursor: pointer;\n",
              "      display: none;\n",
              "      fill: #1967D2;\n",
              "      height: 32px;\n",
              "      padding: 0 0 0 0;\n",
              "      width: 32px;\n",
              "    }\n",
              "\n",
              "    .colab-df-convert:hover {\n",
              "      background-color: #E2EBFA;\n",
              "      box-shadow: 0px 1px 2px rgba(60, 64, 67, 0.3), 0px 1px 3px 1px rgba(60, 64, 67, 0.15);\n",
              "      fill: #174EA6;\n",
              "    }\n",
              "\n",
              "    [theme=dark] .colab-df-convert {\n",
              "      background-color: #3B4455;\n",
              "      fill: #D2E3FC;\n",
              "    }\n",
              "\n",
              "    [theme=dark] .colab-df-convert:hover {\n",
              "      background-color: #434B5C;\n",
              "      box-shadow: 0px 1px 3px 1px rgba(0, 0, 0, 0.15);\n",
              "      filter: drop-shadow(0px 1px 2px rgba(0, 0, 0, 0.3));\n",
              "      fill: #FFFFFF;\n",
              "    }\n",
              "  </style>\n",
              "\n",
              "      <script>\n",
              "        const buttonEl =\n",
              "          document.querySelector('#df-ee66916a-4fbc-438b-a46a-452b7611eb12 button.colab-df-convert');\n",
              "        buttonEl.style.display =\n",
              "          google.colab.kernel.accessAllowed ? 'block' : 'none';\n",
              "\n",
              "        async function convertToInteractive(key) {\n",
              "          const element = document.querySelector('#df-ee66916a-4fbc-438b-a46a-452b7611eb12');\n",
              "          const dataTable =\n",
              "            await google.colab.kernel.invokeFunction('convertToInteractive',\n",
              "                                                     [key], {});\n",
              "          if (!dataTable) return;\n",
              "\n",
              "          const docLinkHtml = 'Like what you see? Visit the ' +\n",
              "            '<a target=\"_blank\" href=https://colab.research.google.com/notebooks/data_table.ipynb>data table notebook</a>'\n",
              "            + ' to learn more about interactive tables.';\n",
              "          element.innerHTML = '';\n",
              "          dataTable['output_type'] = 'display_data';\n",
              "          await google.colab.output.renderOutput(dataTable, element);\n",
              "          const docLink = document.createElement('div');\n",
              "          docLink.innerHTML = docLinkHtml;\n",
              "          element.appendChild(docLink);\n",
              "        }\n",
              "      </script>\n",
              "    </div>\n",
              "  </div>\n",
              "  "
            ]
          },
          "metadata": {},
          "execution_count": 32
        }
      ],
      "source": [
        "# check the results\n",
        "train_df[['id', 'text', 'text_cleaned', 'propn_count']].head()"
      ]
    },
    {
      "cell_type": "code",
      "execution_count": null,
      "metadata": {
        "id": "9f6mnG31uIBi",
        "colab": {
          "base_uri": "https://localhost:8080/"
        },
        "outputId": "f87a82b4-baf4-46bd-a8db-93d56525e918"
      },
      "outputs": [
        {
          "output_type": "stream",
          "name": "stdout",
          "text": [
            "[('Reason', 'NNP'), ('May', 'NNP'), ('ALLAH', 'NNP'), ('Forgive', 'NNP')]\n"
          ]
        }
      ],
      "source": [
        "# test how nltk worked with the first text\n",
        "string = \"Our Deeds are the Reason of this #earthquake May ALLAH Forgive us all\"\n",
        "print([(token, tag) for (token, tag) in nltk.pos_tag(nltk.word_tokenize(string)) if tag == 'NNP'])"
      ]
    },
    {
      "cell_type": "code",
      "execution_count": null,
      "metadata": {
        "id": "m2UUBwaVuKjI",
        "colab": {
          "base_uri": "https://localhost:8080/"
        },
        "outputId": "c1093b0a-7b0e-43c8-d9d1-59c90be8d025"
      },
      "outputs": [
        {
          "output_type": "stream",
          "name": "stdout",
          "text": [
            "[]\n"
          ]
        }
      ],
      "source": [
        "# test how nltk works with the first text after lowercasing it\n",
        "string = \"Our Deeds are the Reason of this #earthquake May ALLAH Forgive us all\"\n",
        "print([(token, tag) for (token, tag) in nltk.pos_tag(nltk.word_tokenize(string.lower())) if tag == 'NNP'])"
      ]
    },
    {
      "cell_type": "code",
      "execution_count": null,
      "metadata": {
        "id": "55rdYffruQel",
        "colab": {
          "base_uri": "https://localhost:8080/"
        },
        "outputId": "aad46dca-3601-4f4b-8073-b54272ae31f8"
      },
      "outputs": [
        {
          "output_type": "stream",
          "name": "stdout",
          "text": [
            "[('ALLAH', 'PROPN')]\n"
          ]
        }
      ],
      "source": [
        "# load the model\n",
        "nlp = spacy.load('en_core_web_sm')\n",
        "\n",
        "# check the same string with spaCy\n",
        "string = \"Our Deeds are the Reason of this #earthquake May ALLAH Forgive us all\"\n",
        "print([(token.text, token.pos_) for token in nlp(string) if token.pos_=='PROPN'])"
      ]
    },
    {
      "cell_type": "code",
      "execution_count": null,
      "metadata": {
        "id": "c1yCwzmXuWpJ"
      },
      "outputs": [],
      "source": [
        "# define a function that returns number of proper nouns with spaCy\n",
        "def propn_count(text, model=nlp):\n",
        "    doc = model(text)\n",
        "    pos = [token.pos_ for token in doc]\n",
        "    return pos.count('PROPN')\n",
        "\n",
        "# create a new feature for the number of proper noun in each tweet\n",
        "train_df['propn_count'] = train_df['text_cleaned'].apply(propn_count)"
      ]
    },
    {
      "cell_type": "code",
      "execution_count": null,
      "metadata": {
        "id": "smmIkZq7uZPd",
        "colab": {
          "base_uri": "https://localhost:8080/",
          "height": 345
        },
        "outputId": "816428e1-2b8b-485c-8378-1987954c10f9"
      },
      "outputs": [
        {
          "output_type": "error",
          "ename": "KeyboardInterrupt",
          "evalue": "ignored",
          "traceback": [
            "\u001b[0;31m---------------------------------------------------------------------------\u001b[0m",
            "\u001b[0;31mKeyboardInterrupt\u001b[0m                         Traceback (most recent call last)",
            "\u001b[0;32m<ipython-input-65-472198d72e01>\u001b[0m in \u001b[0;36m<module>\u001b[0;34m\u001b[0m\n\u001b[1;32m      7\u001b[0m \u001b[0;34m\u001b[0m\u001b[0m\n\u001b[1;32m      8\u001b[0m \u001b[0;31m# create a new feature for the number of non-proper noun in each tweet\u001b[0m\u001b[0;34m\u001b[0m\u001b[0;34m\u001b[0m\u001b[0;34m\u001b[0m\u001b[0m\n\u001b[0;32m----> 9\u001b[0;31m \u001b[0mtrain_df\u001b[0m\u001b[0;34m[\u001b[0m\u001b[0;34m'noun_count'\u001b[0m\u001b[0;34m]\u001b[0m \u001b[0;34m=\u001b[0m \u001b[0mtrain_df\u001b[0m\u001b[0;34m[\u001b[0m\u001b[0;34m'text_cleaned'\u001b[0m\u001b[0;34m]\u001b[0m\u001b[0;34m.\u001b[0m\u001b[0mapply\u001b[0m\u001b[0;34m(\u001b[0m\u001b[0mnoun_count\u001b[0m\u001b[0;34m)\u001b[0m\u001b[0;34m\u001b[0m\u001b[0;34m\u001b[0m\u001b[0m\n\u001b[0m",
            "\u001b[0;32m/usr/local/lib/python3.8/dist-packages/pandas/core/series.py\u001b[0m in \u001b[0;36mapply\u001b[0;34m(self, func, convert_dtype, args, **kwargs)\u001b[0m\n\u001b[1;32m   4355\u001b[0m         \u001b[0mdtype\u001b[0m\u001b[0;34m:\u001b[0m \u001b[0mfloat64\u001b[0m\u001b[0;34m\u001b[0m\u001b[0;34m\u001b[0m\u001b[0m\n\u001b[1;32m   4356\u001b[0m         \"\"\"\n\u001b[0;32m-> 4357\u001b[0;31m         \u001b[0;32mreturn\u001b[0m \u001b[0mSeriesApply\u001b[0m\u001b[0;34m(\u001b[0m\u001b[0mself\u001b[0m\u001b[0;34m,\u001b[0m \u001b[0mfunc\u001b[0m\u001b[0;34m,\u001b[0m \u001b[0mconvert_dtype\u001b[0m\u001b[0;34m,\u001b[0m \u001b[0margs\u001b[0m\u001b[0;34m,\u001b[0m \u001b[0mkwargs\u001b[0m\u001b[0;34m)\u001b[0m\u001b[0;34m.\u001b[0m\u001b[0mapply\u001b[0m\u001b[0;34m(\u001b[0m\u001b[0;34m)\u001b[0m\u001b[0;34m\u001b[0m\u001b[0;34m\u001b[0m\u001b[0m\n\u001b[0m\u001b[1;32m   4358\u001b[0m \u001b[0;34m\u001b[0m\u001b[0m\n\u001b[1;32m   4359\u001b[0m     def _reduce(\n",
            "\u001b[0;32m/usr/local/lib/python3.8/dist-packages/pandas/core/apply.py\u001b[0m in \u001b[0;36mapply\u001b[0;34m(self)\u001b[0m\n\u001b[1;32m   1041\u001b[0m             \u001b[0;32mreturn\u001b[0m \u001b[0mself\u001b[0m\u001b[0;34m.\u001b[0m\u001b[0mapply_str\u001b[0m\u001b[0;34m(\u001b[0m\u001b[0;34m)\u001b[0m\u001b[0;34m\u001b[0m\u001b[0;34m\u001b[0m\u001b[0m\n\u001b[1;32m   1042\u001b[0m \u001b[0;34m\u001b[0m\u001b[0m\n\u001b[0;32m-> 1043\u001b[0;31m         \u001b[0;32mreturn\u001b[0m \u001b[0mself\u001b[0m\u001b[0;34m.\u001b[0m\u001b[0mapply_standard\u001b[0m\u001b[0;34m(\u001b[0m\u001b[0;34m)\u001b[0m\u001b[0;34m\u001b[0m\u001b[0;34m\u001b[0m\u001b[0m\n\u001b[0m\u001b[1;32m   1044\u001b[0m \u001b[0;34m\u001b[0m\u001b[0m\n\u001b[1;32m   1045\u001b[0m     \u001b[0;32mdef\u001b[0m \u001b[0magg\u001b[0m\u001b[0;34m(\u001b[0m\u001b[0mself\u001b[0m\u001b[0;34m)\u001b[0m\u001b[0;34m:\u001b[0m\u001b[0;34m\u001b[0m\u001b[0;34m\u001b[0m\u001b[0m\n",
            "\u001b[0;32m/usr/local/lib/python3.8/dist-packages/pandas/core/apply.py\u001b[0m in \u001b[0;36mapply_standard\u001b[0;34m(self)\u001b[0m\n\u001b[1;32m   1096\u001b[0m                 \u001b[0;31m# List[Union[Callable[..., Any], str]]]]]\"; expected\u001b[0m\u001b[0;34m\u001b[0m\u001b[0;34m\u001b[0m\u001b[0;34m\u001b[0m\u001b[0m\n\u001b[1;32m   1097\u001b[0m                 \u001b[0;31m# \"Callable[[Any], Any]\"\u001b[0m\u001b[0;34m\u001b[0m\u001b[0;34m\u001b[0m\u001b[0;34m\u001b[0m\u001b[0m\n\u001b[0;32m-> 1098\u001b[0;31m                 mapped = lib.map_infer(\n\u001b[0m\u001b[1;32m   1099\u001b[0m                     \u001b[0mvalues\u001b[0m\u001b[0;34m,\u001b[0m\u001b[0;34m\u001b[0m\u001b[0;34m\u001b[0m\u001b[0m\n\u001b[1;32m   1100\u001b[0m                     \u001b[0mf\u001b[0m\u001b[0;34m,\u001b[0m  \u001b[0;31m# type: ignore[arg-type]\u001b[0m\u001b[0;34m\u001b[0m\u001b[0;34m\u001b[0m\u001b[0m\n",
            "\u001b[0;32m/usr/local/lib/python3.8/dist-packages/pandas/_libs/lib.pyx\u001b[0m in \u001b[0;36mpandas._libs.lib.map_infer\u001b[0;34m()\u001b[0m\n",
            "\u001b[0;32m<ipython-input-65-472198d72e01>\u001b[0m in \u001b[0;36mnoun_count\u001b[0;34m(text, model)\u001b[0m\n\u001b[1;32m      1\u001b[0m \u001b[0;31m# define a function that returns number of non-proper nouns\u001b[0m\u001b[0;34m\u001b[0m\u001b[0;34m\u001b[0m\u001b[0;34m\u001b[0m\u001b[0m\n\u001b[1;32m      2\u001b[0m \u001b[0;32mdef\u001b[0m \u001b[0mnoun_count\u001b[0m\u001b[0;34m(\u001b[0m\u001b[0mtext\u001b[0m\u001b[0;34m,\u001b[0m \u001b[0mmodel\u001b[0m\u001b[0;34m=\u001b[0m\u001b[0mnlp\u001b[0m\u001b[0;34m)\u001b[0m\u001b[0;34m:\u001b[0m\u001b[0;34m\u001b[0m\u001b[0;34m\u001b[0m\u001b[0m\n\u001b[0;32m----> 3\u001b[0;31m     \u001b[0mdoc\u001b[0m \u001b[0;34m=\u001b[0m \u001b[0mmodel\u001b[0m\u001b[0;34m(\u001b[0m\u001b[0mtext\u001b[0m\u001b[0;34m)\u001b[0m\u001b[0;34m\u001b[0m\u001b[0;34m\u001b[0m\u001b[0m\n\u001b[0m\u001b[1;32m      4\u001b[0m     \u001b[0mpos\u001b[0m\u001b[0;34m=\u001b[0m \u001b[0;34m[\u001b[0m\u001b[0mtoken\u001b[0m\u001b[0;34m.\u001b[0m\u001b[0mpos_\u001b[0m \u001b[0;32mfor\u001b[0m \u001b[0mtoken\u001b[0m \u001b[0;32min\u001b[0m \u001b[0mdoc\u001b[0m\u001b[0;34m]\u001b[0m\u001b[0;34m\u001b[0m\u001b[0;34m\u001b[0m\u001b[0m\n\u001b[1;32m      5\u001b[0m     \u001b[0;32mreturn\u001b[0m  \u001b[0mpos\u001b[0m\u001b[0;34m.\u001b[0m\u001b[0mcount\u001b[0m\u001b[0;34m(\u001b[0m\u001b[0;34m'NOUN'\u001b[0m\u001b[0;34m)\u001b[0m\u001b[0;34m\u001b[0m\u001b[0;34m\u001b[0m\u001b[0m\n",
            "\u001b[0;32m/usr/local/lib/python3.8/dist-packages/spacy/language.py\u001b[0m in \u001b[0;36m__call__\u001b[0;34m(self, text, disable, component_cfg)\u001b[0m\n\u001b[1;32m   1024\u001b[0m                 \u001b[0merror_handler\u001b[0m \u001b[0;34m=\u001b[0m \u001b[0mproc\u001b[0m\u001b[0;34m.\u001b[0m\u001b[0mget_error_handler\u001b[0m\u001b[0;34m(\u001b[0m\u001b[0;34m)\u001b[0m\u001b[0;34m\u001b[0m\u001b[0;34m\u001b[0m\u001b[0m\n\u001b[1;32m   1025\u001b[0m             \u001b[0;32mtry\u001b[0m\u001b[0;34m:\u001b[0m\u001b[0;34m\u001b[0m\u001b[0;34m\u001b[0m\u001b[0m\n\u001b[0;32m-> 1026\u001b[0;31m                 \u001b[0mdoc\u001b[0m \u001b[0;34m=\u001b[0m \u001b[0mproc\u001b[0m\u001b[0;34m(\u001b[0m\u001b[0mdoc\u001b[0m\u001b[0;34m,\u001b[0m \u001b[0;34m**\u001b[0m\u001b[0mcomponent_cfg\u001b[0m\u001b[0;34m.\u001b[0m\u001b[0mget\u001b[0m\u001b[0;34m(\u001b[0m\u001b[0mname\u001b[0m\u001b[0;34m,\u001b[0m \u001b[0;34m{\u001b[0m\u001b[0;34m}\u001b[0m\u001b[0;34m)\u001b[0m\u001b[0;34m)\u001b[0m  \u001b[0;31m# type: ignore[call-arg]\u001b[0m\u001b[0;34m\u001b[0m\u001b[0;34m\u001b[0m\u001b[0m\n\u001b[0m\u001b[1;32m   1027\u001b[0m             \u001b[0;32mexcept\u001b[0m \u001b[0mKeyError\u001b[0m \u001b[0;32mas\u001b[0m \u001b[0me\u001b[0m\u001b[0;34m:\u001b[0m\u001b[0;34m\u001b[0m\u001b[0;34m\u001b[0m\u001b[0m\n\u001b[1;32m   1028\u001b[0m                 \u001b[0;31m# This typically happens if a component is not initialized\u001b[0m\u001b[0;34m\u001b[0m\u001b[0;34m\u001b[0m\u001b[0;34m\u001b[0m\u001b[0m\n",
            "\u001b[0;32m/usr/local/lib/python3.8/dist-packages/spacy/pipeline/trainable_pipe.pyx\u001b[0m in \u001b[0;36mspacy.pipeline.trainable_pipe.TrainablePipe.__call__\u001b[0;34m()\u001b[0m\n",
            "\u001b[0;32m/usr/local/lib/python3.8/dist-packages/spacy/pipeline/tok2vec.py\u001b[0m in \u001b[0;36mpredict\u001b[0;34m(self, docs)\u001b[0m\n\u001b[1;32m    123\u001b[0m             \u001b[0mwidth\u001b[0m \u001b[0;34m=\u001b[0m \u001b[0mself\u001b[0m\u001b[0;34m.\u001b[0m\u001b[0mmodel\u001b[0m\u001b[0;34m.\u001b[0m\u001b[0mget_dim\u001b[0m\u001b[0;34m(\u001b[0m\u001b[0;34m\"nO\"\u001b[0m\u001b[0;34m)\u001b[0m\u001b[0;34m\u001b[0m\u001b[0;34m\u001b[0m\u001b[0m\n\u001b[1;32m    124\u001b[0m             \u001b[0;32mreturn\u001b[0m \u001b[0;34m[\u001b[0m\u001b[0mself\u001b[0m\u001b[0;34m.\u001b[0m\u001b[0mmodel\u001b[0m\u001b[0;34m.\u001b[0m\u001b[0mops\u001b[0m\u001b[0;34m.\u001b[0m\u001b[0malloc\u001b[0m\u001b[0;34m(\u001b[0m\u001b[0;34m(\u001b[0m\u001b[0;36m0\u001b[0m\u001b[0;34m,\u001b[0m \u001b[0mwidth\u001b[0m\u001b[0;34m)\u001b[0m\u001b[0;34m)\u001b[0m \u001b[0;32mfor\u001b[0m \u001b[0mdoc\u001b[0m \u001b[0;32min\u001b[0m \u001b[0mdocs\u001b[0m\u001b[0;34m]\u001b[0m\u001b[0;34m\u001b[0m\u001b[0;34m\u001b[0m\u001b[0m\n\u001b[0;32m--> 125\u001b[0;31m         \u001b[0mtokvecs\u001b[0m \u001b[0;34m=\u001b[0m \u001b[0mself\u001b[0m\u001b[0;34m.\u001b[0m\u001b[0mmodel\u001b[0m\u001b[0;34m.\u001b[0m\u001b[0mpredict\u001b[0m\u001b[0;34m(\u001b[0m\u001b[0mdocs\u001b[0m\u001b[0;34m)\u001b[0m\u001b[0;34m\u001b[0m\u001b[0;34m\u001b[0m\u001b[0m\n\u001b[0m\u001b[1;32m    126\u001b[0m         \u001b[0mbatch_id\u001b[0m \u001b[0;34m=\u001b[0m \u001b[0mTok2VecListener\u001b[0m\u001b[0;34m.\u001b[0m\u001b[0mget_batch_id\u001b[0m\u001b[0;34m(\u001b[0m\u001b[0mdocs\u001b[0m\u001b[0;34m)\u001b[0m\u001b[0;34m\u001b[0m\u001b[0;34m\u001b[0m\u001b[0m\n\u001b[1;32m    127\u001b[0m         \u001b[0;32mfor\u001b[0m \u001b[0mlistener\u001b[0m \u001b[0;32min\u001b[0m \u001b[0mself\u001b[0m\u001b[0;34m.\u001b[0m\u001b[0mlisteners\u001b[0m\u001b[0;34m:\u001b[0m\u001b[0;34m\u001b[0m\u001b[0;34m\u001b[0m\u001b[0m\n",
            "\u001b[0;32m/usr/local/lib/python3.8/dist-packages/thinc/model.py\u001b[0m in \u001b[0;36mpredict\u001b[0;34m(self, X)\u001b[0m\n\u001b[1;32m    313\u001b[0m         \u001b[0monly\u001b[0m \u001b[0mthe\u001b[0m \u001b[0moutput\u001b[0m\u001b[0;34m,\u001b[0m \u001b[0minstead\u001b[0m \u001b[0mof\u001b[0m \u001b[0mthe\u001b[0m\u001b[0;31m \u001b[0m\u001b[0;31m`\u001b[0m\u001b[0;34m(\u001b[0m\u001b[0moutput\u001b[0m\u001b[0;34m,\u001b[0m \u001b[0mcallback\u001b[0m\u001b[0;34m)\u001b[0m\u001b[0;31m`\u001b[0m \u001b[0mtuple\u001b[0m\u001b[0;34m.\u001b[0m\u001b[0;34m\u001b[0m\u001b[0;34m\u001b[0m\u001b[0m\n\u001b[1;32m    314\u001b[0m         \"\"\"\n\u001b[0;32m--> 315\u001b[0;31m         \u001b[0;32mreturn\u001b[0m \u001b[0mself\u001b[0m\u001b[0;34m.\u001b[0m\u001b[0m_func\u001b[0m\u001b[0;34m(\u001b[0m\u001b[0mself\u001b[0m\u001b[0;34m,\u001b[0m \u001b[0mX\u001b[0m\u001b[0;34m,\u001b[0m \u001b[0mis_train\u001b[0m\u001b[0;34m=\u001b[0m\u001b[0;32mFalse\u001b[0m\u001b[0;34m)\u001b[0m\u001b[0;34m[\u001b[0m\u001b[0;36m0\u001b[0m\u001b[0;34m]\u001b[0m\u001b[0;34m\u001b[0m\u001b[0;34m\u001b[0m\u001b[0m\n\u001b[0m\u001b[1;32m    316\u001b[0m \u001b[0;34m\u001b[0m\u001b[0m\n\u001b[1;32m    317\u001b[0m     \u001b[0;32mdef\u001b[0m \u001b[0mfinish_update\u001b[0m\u001b[0;34m(\u001b[0m\u001b[0mself\u001b[0m\u001b[0;34m,\u001b[0m \u001b[0moptimizer\u001b[0m\u001b[0;34m:\u001b[0m \u001b[0mOptimizer\u001b[0m\u001b[0;34m)\u001b[0m \u001b[0;34m->\u001b[0m \u001b[0;32mNone\u001b[0m\u001b[0;34m:\u001b[0m\u001b[0;34m\u001b[0m\u001b[0;34m\u001b[0m\u001b[0m\n",
            "\u001b[0;32m/usr/local/lib/python3.8/dist-packages/thinc/layers/chain.py\u001b[0m in \u001b[0;36mforward\u001b[0;34m(model, X, is_train)\u001b[0m\n\u001b[1;32m     53\u001b[0m     \u001b[0mcallbacks\u001b[0m \u001b[0;34m=\u001b[0m \u001b[0;34m[\u001b[0m\u001b[0;34m]\u001b[0m\u001b[0;34m\u001b[0m\u001b[0;34m\u001b[0m\u001b[0m\n\u001b[1;32m     54\u001b[0m     \u001b[0;32mfor\u001b[0m \u001b[0mlayer\u001b[0m \u001b[0;32min\u001b[0m \u001b[0mmodel\u001b[0m\u001b[0;34m.\u001b[0m\u001b[0mlayers\u001b[0m\u001b[0;34m:\u001b[0m\u001b[0;34m\u001b[0m\u001b[0;34m\u001b[0m\u001b[0m\n\u001b[0;32m---> 55\u001b[0;31m         \u001b[0mY\u001b[0m\u001b[0;34m,\u001b[0m \u001b[0minc_layer_grad\u001b[0m \u001b[0;34m=\u001b[0m \u001b[0mlayer\u001b[0m\u001b[0;34m(\u001b[0m\u001b[0mX\u001b[0m\u001b[0;34m,\u001b[0m \u001b[0mis_train\u001b[0m\u001b[0;34m=\u001b[0m\u001b[0mis_train\u001b[0m\u001b[0;34m)\u001b[0m\u001b[0;34m\u001b[0m\u001b[0;34m\u001b[0m\u001b[0m\n\u001b[0m\u001b[1;32m     56\u001b[0m         \u001b[0mcallbacks\u001b[0m\u001b[0;34m.\u001b[0m\u001b[0mappend\u001b[0m\u001b[0;34m(\u001b[0m\u001b[0minc_layer_grad\u001b[0m\u001b[0;34m)\u001b[0m\u001b[0;34m\u001b[0m\u001b[0;34m\u001b[0m\u001b[0m\n\u001b[1;32m     57\u001b[0m         \u001b[0mX\u001b[0m \u001b[0;34m=\u001b[0m \u001b[0mY\u001b[0m\u001b[0;34m\u001b[0m\u001b[0;34m\u001b[0m\u001b[0m\n",
            "\u001b[0;32m/usr/local/lib/python3.8/dist-packages/thinc/model.py\u001b[0m in \u001b[0;36m__call__\u001b[0;34m(self, X, is_train)\u001b[0m\n\u001b[1;32m    289\u001b[0m         \"\"\"Call the model's `forward` function, returning the output and a\n\u001b[1;32m    290\u001b[0m         callback to compute the gradients via backpropagation.\"\"\"\n\u001b[0;32m--> 291\u001b[0;31m         \u001b[0;32mreturn\u001b[0m \u001b[0mself\u001b[0m\u001b[0;34m.\u001b[0m\u001b[0m_func\u001b[0m\u001b[0;34m(\u001b[0m\u001b[0mself\u001b[0m\u001b[0;34m,\u001b[0m \u001b[0mX\u001b[0m\u001b[0;34m,\u001b[0m \u001b[0mis_train\u001b[0m\u001b[0;34m=\u001b[0m\u001b[0mis_train\u001b[0m\u001b[0;34m)\u001b[0m\u001b[0;34m\u001b[0m\u001b[0;34m\u001b[0m\u001b[0m\n\u001b[0m\u001b[1;32m    292\u001b[0m \u001b[0;34m\u001b[0m\u001b[0m\n\u001b[1;32m    293\u001b[0m     \u001b[0;32mdef\u001b[0m \u001b[0minitialize\u001b[0m\u001b[0;34m(\u001b[0m\u001b[0mself\u001b[0m\u001b[0;34m,\u001b[0m \u001b[0mX\u001b[0m\u001b[0;34m:\u001b[0m \u001b[0mOptional\u001b[0m\u001b[0;34m[\u001b[0m\u001b[0mInT\u001b[0m\u001b[0;34m]\u001b[0m \u001b[0;34m=\u001b[0m \u001b[0;32mNone\u001b[0m\u001b[0;34m,\u001b[0m \u001b[0mY\u001b[0m\u001b[0;34m:\u001b[0m \u001b[0mOptional\u001b[0m\u001b[0;34m[\u001b[0m\u001b[0mOutT\u001b[0m\u001b[0;34m]\u001b[0m \u001b[0;34m=\u001b[0m \u001b[0;32mNone\u001b[0m\u001b[0;34m)\u001b[0m \u001b[0;34m->\u001b[0m \u001b[0;34m\"Model\"\u001b[0m\u001b[0;34m:\u001b[0m\u001b[0;34m\u001b[0m\u001b[0;34m\u001b[0m\u001b[0m\n",
            "\u001b[0;32m/usr/local/lib/python3.8/dist-packages/thinc/layers/chain.py\u001b[0m in \u001b[0;36mforward\u001b[0;34m(model, X, is_train)\u001b[0m\n\u001b[1;32m     53\u001b[0m     \u001b[0mcallbacks\u001b[0m \u001b[0;34m=\u001b[0m \u001b[0;34m[\u001b[0m\u001b[0;34m]\u001b[0m\u001b[0;34m\u001b[0m\u001b[0;34m\u001b[0m\u001b[0m\n\u001b[1;32m     54\u001b[0m     \u001b[0;32mfor\u001b[0m \u001b[0mlayer\u001b[0m \u001b[0;32min\u001b[0m \u001b[0mmodel\u001b[0m\u001b[0;34m.\u001b[0m\u001b[0mlayers\u001b[0m\u001b[0;34m:\u001b[0m\u001b[0;34m\u001b[0m\u001b[0;34m\u001b[0m\u001b[0m\n\u001b[0;32m---> 55\u001b[0;31m         \u001b[0mY\u001b[0m\u001b[0;34m,\u001b[0m \u001b[0minc_layer_grad\u001b[0m \u001b[0;34m=\u001b[0m \u001b[0mlayer\u001b[0m\u001b[0;34m(\u001b[0m\u001b[0mX\u001b[0m\u001b[0;34m,\u001b[0m \u001b[0mis_train\u001b[0m\u001b[0;34m=\u001b[0m\u001b[0mis_train\u001b[0m\u001b[0;34m)\u001b[0m\u001b[0;34m\u001b[0m\u001b[0;34m\u001b[0m\u001b[0m\n\u001b[0m\u001b[1;32m     56\u001b[0m         \u001b[0mcallbacks\u001b[0m\u001b[0;34m.\u001b[0m\u001b[0mappend\u001b[0m\u001b[0;34m(\u001b[0m\u001b[0minc_layer_grad\u001b[0m\u001b[0;34m)\u001b[0m\u001b[0;34m\u001b[0m\u001b[0;34m\u001b[0m\u001b[0m\n\u001b[1;32m     57\u001b[0m         \u001b[0mX\u001b[0m \u001b[0;34m=\u001b[0m \u001b[0mY\u001b[0m\u001b[0;34m\u001b[0m\u001b[0;34m\u001b[0m\u001b[0m\n",
            "\u001b[0;32m/usr/local/lib/python3.8/dist-packages/thinc/model.py\u001b[0m in \u001b[0;36m__call__\u001b[0;34m(self, X, is_train)\u001b[0m\n\u001b[1;32m    289\u001b[0m         \"\"\"Call the model's `forward` function, returning the output and a\n\u001b[1;32m    290\u001b[0m         callback to compute the gradients via backpropagation.\"\"\"\n\u001b[0;32m--> 291\u001b[0;31m         \u001b[0;32mreturn\u001b[0m \u001b[0mself\u001b[0m\u001b[0;34m.\u001b[0m\u001b[0m_func\u001b[0m\u001b[0;34m(\u001b[0m\u001b[0mself\u001b[0m\u001b[0;34m,\u001b[0m \u001b[0mX\u001b[0m\u001b[0;34m,\u001b[0m \u001b[0mis_train\u001b[0m\u001b[0;34m=\u001b[0m\u001b[0mis_train\u001b[0m\u001b[0;34m)\u001b[0m\u001b[0;34m\u001b[0m\u001b[0;34m\u001b[0m\u001b[0m\n\u001b[0m\u001b[1;32m    292\u001b[0m \u001b[0;34m\u001b[0m\u001b[0m\n\u001b[1;32m    293\u001b[0m     \u001b[0;32mdef\u001b[0m \u001b[0minitialize\u001b[0m\u001b[0;34m(\u001b[0m\u001b[0mself\u001b[0m\u001b[0;34m,\u001b[0m \u001b[0mX\u001b[0m\u001b[0;34m:\u001b[0m \u001b[0mOptional\u001b[0m\u001b[0;34m[\u001b[0m\u001b[0mInT\u001b[0m\u001b[0;34m]\u001b[0m \u001b[0;34m=\u001b[0m \u001b[0;32mNone\u001b[0m\u001b[0;34m,\u001b[0m \u001b[0mY\u001b[0m\u001b[0;34m:\u001b[0m \u001b[0mOptional\u001b[0m\u001b[0;34m[\u001b[0m\u001b[0mOutT\u001b[0m\u001b[0;34m]\u001b[0m \u001b[0;34m=\u001b[0m \u001b[0;32mNone\u001b[0m\u001b[0;34m)\u001b[0m \u001b[0;34m->\u001b[0m \u001b[0;34m\"Model\"\u001b[0m\u001b[0;34m:\u001b[0m\u001b[0;34m\u001b[0m\u001b[0;34m\u001b[0m\u001b[0m\n",
            "\u001b[0;32m/usr/local/lib/python3.8/dist-packages/thinc/layers/with_array.py\u001b[0m in \u001b[0;36mforward\u001b[0;34m(model, Xseq, is_train)\u001b[0m\n\u001b[1;32m     30\u001b[0m ) -> Tuple[SeqT, Callable]:\n\u001b[1;32m     31\u001b[0m     \u001b[0;32mif\u001b[0m \u001b[0misinstance\u001b[0m\u001b[0;34m(\u001b[0m\u001b[0mXseq\u001b[0m\u001b[0;34m,\u001b[0m \u001b[0mRagged\u001b[0m\u001b[0;34m)\u001b[0m\u001b[0;34m:\u001b[0m\u001b[0;34m\u001b[0m\u001b[0;34m\u001b[0m\u001b[0m\n\u001b[0;32m---> 32\u001b[0;31m         \u001b[0;32mreturn\u001b[0m \u001b[0mcast\u001b[0m\u001b[0;34m(\u001b[0m\u001b[0mTuple\u001b[0m\u001b[0;34m[\u001b[0m\u001b[0mSeqT\u001b[0m\u001b[0;34m,\u001b[0m \u001b[0mCallable\u001b[0m\u001b[0;34m]\u001b[0m\u001b[0;34m,\u001b[0m \u001b[0m_ragged_forward\u001b[0m\u001b[0;34m(\u001b[0m\u001b[0mmodel\u001b[0m\u001b[0;34m,\u001b[0m \u001b[0mXseq\u001b[0m\u001b[0;34m,\u001b[0m \u001b[0mis_train\u001b[0m\u001b[0;34m)\u001b[0m\u001b[0;34m)\u001b[0m\u001b[0;34m\u001b[0m\u001b[0;34m\u001b[0m\u001b[0m\n\u001b[0m\u001b[1;32m     33\u001b[0m     \u001b[0;32melif\u001b[0m \u001b[0misinstance\u001b[0m\u001b[0;34m(\u001b[0m\u001b[0mXseq\u001b[0m\u001b[0;34m,\u001b[0m \u001b[0mPadded\u001b[0m\u001b[0;34m)\u001b[0m\u001b[0;34m:\u001b[0m\u001b[0;34m\u001b[0m\u001b[0;34m\u001b[0m\u001b[0m\n\u001b[1;32m     34\u001b[0m         \u001b[0;32mreturn\u001b[0m \u001b[0mcast\u001b[0m\u001b[0;34m(\u001b[0m\u001b[0mTuple\u001b[0m\u001b[0;34m[\u001b[0m\u001b[0mSeqT\u001b[0m\u001b[0;34m,\u001b[0m \u001b[0mCallable\u001b[0m\u001b[0;34m]\u001b[0m\u001b[0;34m,\u001b[0m \u001b[0m_padded_forward\u001b[0m\u001b[0;34m(\u001b[0m\u001b[0mmodel\u001b[0m\u001b[0;34m,\u001b[0m \u001b[0mXseq\u001b[0m\u001b[0;34m,\u001b[0m \u001b[0mis_train\u001b[0m\u001b[0;34m)\u001b[0m\u001b[0;34m)\u001b[0m\u001b[0;34m\u001b[0m\u001b[0;34m\u001b[0m\u001b[0m\n",
            "\u001b[0;32m/usr/local/lib/python3.8/dist-packages/thinc/layers/with_array.py\u001b[0m in \u001b[0;36m_ragged_forward\u001b[0;34m(model, Xr, is_train)\u001b[0m\n\u001b[1;32m     85\u001b[0m ) -> Tuple[Ragged, Callable]:\n\u001b[1;32m     86\u001b[0m     \u001b[0mlayer\u001b[0m\u001b[0;34m:\u001b[0m \u001b[0mModel\u001b[0m\u001b[0;34m[\u001b[0m\u001b[0mArrayXd\u001b[0m\u001b[0;34m,\u001b[0m \u001b[0mArrayXd\u001b[0m\u001b[0;34m]\u001b[0m \u001b[0;34m=\u001b[0m \u001b[0mmodel\u001b[0m\u001b[0;34m.\u001b[0m\u001b[0mlayers\u001b[0m\u001b[0;34m[\u001b[0m\u001b[0;36m0\u001b[0m\u001b[0;34m]\u001b[0m\u001b[0;34m\u001b[0m\u001b[0;34m\u001b[0m\u001b[0m\n\u001b[0;32m---> 87\u001b[0;31m     \u001b[0mY\u001b[0m\u001b[0;34m,\u001b[0m \u001b[0mget_dX\u001b[0m \u001b[0;34m=\u001b[0m \u001b[0mlayer\u001b[0m\u001b[0;34m(\u001b[0m\u001b[0mXr\u001b[0m\u001b[0;34m.\u001b[0m\u001b[0mdataXd\u001b[0m\u001b[0;34m,\u001b[0m \u001b[0mis_train\u001b[0m\u001b[0;34m)\u001b[0m\u001b[0;34m\u001b[0m\u001b[0;34m\u001b[0m\u001b[0m\n\u001b[0m\u001b[1;32m     88\u001b[0m \u001b[0;34m\u001b[0m\u001b[0m\n\u001b[1;32m     89\u001b[0m     \u001b[0;32mdef\u001b[0m \u001b[0mbackprop\u001b[0m\u001b[0;34m(\u001b[0m\u001b[0mdYr\u001b[0m\u001b[0;34m:\u001b[0m \u001b[0mRagged\u001b[0m\u001b[0;34m)\u001b[0m \u001b[0;34m->\u001b[0m \u001b[0mRagged\u001b[0m\u001b[0;34m:\u001b[0m\u001b[0;34m\u001b[0m\u001b[0;34m\u001b[0m\u001b[0m\n",
            "\u001b[0;32m/usr/local/lib/python3.8/dist-packages/thinc/model.py\u001b[0m in \u001b[0;36m__call__\u001b[0;34m(self, X, is_train)\u001b[0m\n\u001b[1;32m    289\u001b[0m         \"\"\"Call the model's `forward` function, returning the output and a\n\u001b[1;32m    290\u001b[0m         callback to compute the gradients via backpropagation.\"\"\"\n\u001b[0;32m--> 291\u001b[0;31m         \u001b[0;32mreturn\u001b[0m \u001b[0mself\u001b[0m\u001b[0;34m.\u001b[0m\u001b[0m_func\u001b[0m\u001b[0;34m(\u001b[0m\u001b[0mself\u001b[0m\u001b[0;34m,\u001b[0m \u001b[0mX\u001b[0m\u001b[0;34m,\u001b[0m \u001b[0mis_train\u001b[0m\u001b[0;34m=\u001b[0m\u001b[0mis_train\u001b[0m\u001b[0;34m)\u001b[0m\u001b[0;34m\u001b[0m\u001b[0;34m\u001b[0m\u001b[0m\n\u001b[0m\u001b[1;32m    292\u001b[0m \u001b[0;34m\u001b[0m\u001b[0m\n\u001b[1;32m    293\u001b[0m     \u001b[0;32mdef\u001b[0m \u001b[0minitialize\u001b[0m\u001b[0;34m(\u001b[0m\u001b[0mself\u001b[0m\u001b[0;34m,\u001b[0m \u001b[0mX\u001b[0m\u001b[0;34m:\u001b[0m \u001b[0mOptional\u001b[0m\u001b[0;34m[\u001b[0m\u001b[0mInT\u001b[0m\u001b[0;34m]\u001b[0m \u001b[0;34m=\u001b[0m \u001b[0;32mNone\u001b[0m\u001b[0;34m,\u001b[0m \u001b[0mY\u001b[0m\u001b[0;34m:\u001b[0m \u001b[0mOptional\u001b[0m\u001b[0;34m[\u001b[0m\u001b[0mOutT\u001b[0m\u001b[0;34m]\u001b[0m \u001b[0;34m=\u001b[0m \u001b[0;32mNone\u001b[0m\u001b[0;34m)\u001b[0m \u001b[0;34m->\u001b[0m \u001b[0;34m\"Model\"\u001b[0m\u001b[0;34m:\u001b[0m\u001b[0;34m\u001b[0m\u001b[0;34m\u001b[0m\u001b[0m\n",
            "\u001b[0;32m/usr/local/lib/python3.8/dist-packages/thinc/layers/chain.py\u001b[0m in \u001b[0;36mforward\u001b[0;34m(model, X, is_train)\u001b[0m\n\u001b[1;32m     53\u001b[0m     \u001b[0mcallbacks\u001b[0m \u001b[0;34m=\u001b[0m \u001b[0;34m[\u001b[0m\u001b[0;34m]\u001b[0m\u001b[0;34m\u001b[0m\u001b[0;34m\u001b[0m\u001b[0m\n\u001b[1;32m     54\u001b[0m     \u001b[0;32mfor\u001b[0m \u001b[0mlayer\u001b[0m \u001b[0;32min\u001b[0m \u001b[0mmodel\u001b[0m\u001b[0;34m.\u001b[0m\u001b[0mlayers\u001b[0m\u001b[0;34m:\u001b[0m\u001b[0;34m\u001b[0m\u001b[0;34m\u001b[0m\u001b[0m\n\u001b[0;32m---> 55\u001b[0;31m         \u001b[0mY\u001b[0m\u001b[0;34m,\u001b[0m \u001b[0minc_layer_grad\u001b[0m \u001b[0;34m=\u001b[0m \u001b[0mlayer\u001b[0m\u001b[0;34m(\u001b[0m\u001b[0mX\u001b[0m\u001b[0;34m,\u001b[0m \u001b[0mis_train\u001b[0m\u001b[0;34m=\u001b[0m\u001b[0mis_train\u001b[0m\u001b[0;34m)\u001b[0m\u001b[0;34m\u001b[0m\u001b[0;34m\u001b[0m\u001b[0m\n\u001b[0m\u001b[1;32m     56\u001b[0m         \u001b[0mcallbacks\u001b[0m\u001b[0;34m.\u001b[0m\u001b[0mappend\u001b[0m\u001b[0;34m(\u001b[0m\u001b[0minc_layer_grad\u001b[0m\u001b[0;34m)\u001b[0m\u001b[0;34m\u001b[0m\u001b[0;34m\u001b[0m\u001b[0m\n\u001b[1;32m     57\u001b[0m         \u001b[0mX\u001b[0m \u001b[0;34m=\u001b[0m \u001b[0mY\u001b[0m\u001b[0;34m\u001b[0m\u001b[0;34m\u001b[0m\u001b[0m\n",
            "\u001b[0;32m/usr/local/lib/python3.8/dist-packages/thinc/model.py\u001b[0m in \u001b[0;36m__call__\u001b[0;34m(self, X, is_train)\u001b[0m\n\u001b[1;32m    289\u001b[0m         \"\"\"Call the model's `forward` function, returning the output and a\n\u001b[1;32m    290\u001b[0m         callback to compute the gradients via backpropagation.\"\"\"\n\u001b[0;32m--> 291\u001b[0;31m         \u001b[0;32mreturn\u001b[0m \u001b[0mself\u001b[0m\u001b[0;34m.\u001b[0m\u001b[0m_func\u001b[0m\u001b[0;34m(\u001b[0m\u001b[0mself\u001b[0m\u001b[0;34m,\u001b[0m \u001b[0mX\u001b[0m\u001b[0;34m,\u001b[0m \u001b[0mis_train\u001b[0m\u001b[0;34m=\u001b[0m\u001b[0mis_train\u001b[0m\u001b[0;34m)\u001b[0m\u001b[0;34m\u001b[0m\u001b[0;34m\u001b[0m\u001b[0m\n\u001b[0m\u001b[1;32m    292\u001b[0m \u001b[0;34m\u001b[0m\u001b[0m\n\u001b[1;32m    293\u001b[0m     \u001b[0;32mdef\u001b[0m \u001b[0minitialize\u001b[0m\u001b[0;34m(\u001b[0m\u001b[0mself\u001b[0m\u001b[0;34m,\u001b[0m \u001b[0mX\u001b[0m\u001b[0;34m:\u001b[0m \u001b[0mOptional\u001b[0m\u001b[0;34m[\u001b[0m\u001b[0mInT\u001b[0m\u001b[0;34m]\u001b[0m \u001b[0;34m=\u001b[0m \u001b[0;32mNone\u001b[0m\u001b[0;34m,\u001b[0m \u001b[0mY\u001b[0m\u001b[0;34m:\u001b[0m \u001b[0mOptional\u001b[0m\u001b[0;34m[\u001b[0m\u001b[0mOutT\u001b[0m\u001b[0;34m]\u001b[0m \u001b[0;34m=\u001b[0m \u001b[0;32mNone\u001b[0m\u001b[0;34m)\u001b[0m \u001b[0;34m->\u001b[0m \u001b[0;34m\"Model\"\u001b[0m\u001b[0;34m:\u001b[0m\u001b[0;34m\u001b[0m\u001b[0;34m\u001b[0m\u001b[0m\n",
            "\u001b[0;32m/usr/local/lib/python3.8/dist-packages/thinc/layers/chain.py\u001b[0m in \u001b[0;36mforward\u001b[0;34m(model, X, is_train)\u001b[0m\n\u001b[1;32m     53\u001b[0m     \u001b[0mcallbacks\u001b[0m \u001b[0;34m=\u001b[0m \u001b[0;34m[\u001b[0m\u001b[0;34m]\u001b[0m\u001b[0;34m\u001b[0m\u001b[0;34m\u001b[0m\u001b[0m\n\u001b[1;32m     54\u001b[0m     \u001b[0;32mfor\u001b[0m \u001b[0mlayer\u001b[0m \u001b[0;32min\u001b[0m \u001b[0mmodel\u001b[0m\u001b[0;34m.\u001b[0m\u001b[0mlayers\u001b[0m\u001b[0;34m:\u001b[0m\u001b[0;34m\u001b[0m\u001b[0;34m\u001b[0m\u001b[0m\n\u001b[0;32m---> 55\u001b[0;31m         \u001b[0mY\u001b[0m\u001b[0;34m,\u001b[0m \u001b[0minc_layer_grad\u001b[0m \u001b[0;34m=\u001b[0m \u001b[0mlayer\u001b[0m\u001b[0;34m(\u001b[0m\u001b[0mX\u001b[0m\u001b[0;34m,\u001b[0m \u001b[0mis_train\u001b[0m\u001b[0;34m=\u001b[0m\u001b[0mis_train\u001b[0m\u001b[0;34m)\u001b[0m\u001b[0;34m\u001b[0m\u001b[0;34m\u001b[0m\u001b[0m\n\u001b[0m\u001b[1;32m     56\u001b[0m         \u001b[0mcallbacks\u001b[0m\u001b[0;34m.\u001b[0m\u001b[0mappend\u001b[0m\u001b[0;34m(\u001b[0m\u001b[0minc_layer_grad\u001b[0m\u001b[0;34m)\u001b[0m\u001b[0;34m\u001b[0m\u001b[0;34m\u001b[0m\u001b[0m\n\u001b[1;32m     57\u001b[0m         \u001b[0mX\u001b[0m \u001b[0;34m=\u001b[0m \u001b[0mY\u001b[0m\u001b[0;34m\u001b[0m\u001b[0;34m\u001b[0m\u001b[0m\n",
            "\u001b[0;32m/usr/local/lib/python3.8/dist-packages/thinc/model.py\u001b[0m in \u001b[0;36m__call__\u001b[0;34m(self, X, is_train)\u001b[0m\n\u001b[1;32m    289\u001b[0m         \"\"\"Call the model's `forward` function, returning the output and a\n\u001b[1;32m    290\u001b[0m         callback to compute the gradients via backpropagation.\"\"\"\n\u001b[0;32m--> 291\u001b[0;31m         \u001b[0;32mreturn\u001b[0m \u001b[0mself\u001b[0m\u001b[0;34m.\u001b[0m\u001b[0m_func\u001b[0m\u001b[0;34m(\u001b[0m\u001b[0mself\u001b[0m\u001b[0;34m,\u001b[0m \u001b[0mX\u001b[0m\u001b[0;34m,\u001b[0m \u001b[0mis_train\u001b[0m\u001b[0;34m=\u001b[0m\u001b[0mis_train\u001b[0m\u001b[0;34m)\u001b[0m\u001b[0;34m\u001b[0m\u001b[0;34m\u001b[0m\u001b[0m\n\u001b[0m\u001b[1;32m    292\u001b[0m \u001b[0;34m\u001b[0m\u001b[0m\n\u001b[1;32m    293\u001b[0m     \u001b[0;32mdef\u001b[0m \u001b[0minitialize\u001b[0m\u001b[0;34m(\u001b[0m\u001b[0mself\u001b[0m\u001b[0;34m,\u001b[0m \u001b[0mX\u001b[0m\u001b[0;34m:\u001b[0m \u001b[0mOptional\u001b[0m\u001b[0;34m[\u001b[0m\u001b[0mInT\u001b[0m\u001b[0;34m]\u001b[0m \u001b[0;34m=\u001b[0m \u001b[0;32mNone\u001b[0m\u001b[0;34m,\u001b[0m \u001b[0mY\u001b[0m\u001b[0;34m:\u001b[0m \u001b[0mOptional\u001b[0m\u001b[0;34m[\u001b[0m\u001b[0mOutT\u001b[0m\u001b[0;34m]\u001b[0m \u001b[0;34m=\u001b[0m \u001b[0;32mNone\u001b[0m\u001b[0;34m)\u001b[0m \u001b[0;34m->\u001b[0m \u001b[0;34m\"Model\"\u001b[0m\u001b[0;34m:\u001b[0m\u001b[0;34m\u001b[0m\u001b[0;34m\u001b[0m\u001b[0m\n",
            "\u001b[0;32m/usr/local/lib/python3.8/dist-packages/thinc/layers/maxout.py\u001b[0m in \u001b[0;36mforward\u001b[0;34m(model, X, is_train)\u001b[0m\n\u001b[1;32m     47\u001b[0m     \u001b[0mW\u001b[0m \u001b[0;34m=\u001b[0m \u001b[0mmodel\u001b[0m\u001b[0;34m.\u001b[0m\u001b[0mget_param\u001b[0m\u001b[0;34m(\u001b[0m\u001b[0;34m\"W\"\u001b[0m\u001b[0;34m)\u001b[0m\u001b[0;34m\u001b[0m\u001b[0;34m\u001b[0m\u001b[0m\n\u001b[1;32m     48\u001b[0m     \u001b[0mW\u001b[0m \u001b[0;34m=\u001b[0m \u001b[0mmodel\u001b[0m\u001b[0;34m.\u001b[0m\u001b[0mops\u001b[0m\u001b[0;34m.\u001b[0m\u001b[0mreshape2f\u001b[0m\u001b[0;34m(\u001b[0m\u001b[0mW\u001b[0m\u001b[0;34m,\u001b[0m \u001b[0mnO\u001b[0m \u001b[0;34m*\u001b[0m \u001b[0mnP\u001b[0m\u001b[0;34m,\u001b[0m \u001b[0mnI\u001b[0m\u001b[0;34m)\u001b[0m\u001b[0;34m\u001b[0m\u001b[0;34m\u001b[0m\u001b[0m\n\u001b[0;32m---> 49\u001b[0;31m     \u001b[0mY\u001b[0m \u001b[0;34m=\u001b[0m \u001b[0mmodel\u001b[0m\u001b[0;34m.\u001b[0m\u001b[0mops\u001b[0m\u001b[0;34m.\u001b[0m\u001b[0mgemm\u001b[0m\u001b[0;34m(\u001b[0m\u001b[0mX\u001b[0m\u001b[0;34m,\u001b[0m \u001b[0mW\u001b[0m\u001b[0;34m,\u001b[0m \u001b[0mtrans2\u001b[0m\u001b[0;34m=\u001b[0m\u001b[0;32mTrue\u001b[0m\u001b[0;34m)\u001b[0m\u001b[0;34m\u001b[0m\u001b[0;34m\u001b[0m\u001b[0m\n\u001b[0m\u001b[1;32m     50\u001b[0m     \u001b[0mY\u001b[0m \u001b[0;34m+=\u001b[0m \u001b[0mmodel\u001b[0m\u001b[0;34m.\u001b[0m\u001b[0mops\u001b[0m\u001b[0;34m.\u001b[0m\u001b[0mreshape1f\u001b[0m\u001b[0;34m(\u001b[0m\u001b[0mb\u001b[0m\u001b[0;34m,\u001b[0m \u001b[0mnO\u001b[0m \u001b[0;34m*\u001b[0m \u001b[0mnP\u001b[0m\u001b[0;34m)\u001b[0m\u001b[0;34m\u001b[0m\u001b[0;34m\u001b[0m\u001b[0m\n\u001b[1;32m     51\u001b[0m     \u001b[0mZ\u001b[0m \u001b[0;34m=\u001b[0m \u001b[0mmodel\u001b[0m\u001b[0;34m.\u001b[0m\u001b[0mops\u001b[0m\u001b[0;34m.\u001b[0m\u001b[0mreshape3f\u001b[0m\u001b[0;34m(\u001b[0m\u001b[0mY\u001b[0m\u001b[0;34m,\u001b[0m \u001b[0mY\u001b[0m\u001b[0;34m.\u001b[0m\u001b[0mshape\u001b[0m\u001b[0;34m[\u001b[0m\u001b[0;36m0\u001b[0m\u001b[0;34m]\u001b[0m\u001b[0;34m,\u001b[0m \u001b[0mnO\u001b[0m\u001b[0;34m,\u001b[0m \u001b[0mnP\u001b[0m\u001b[0;34m)\u001b[0m\u001b[0;34m\u001b[0m\u001b[0;34m\u001b[0m\u001b[0m\n",
            "\u001b[0;31mKeyboardInterrupt\u001b[0m: "
          ]
        }
      ],
      "source": [
        "# define a function that returns number of non-proper nouns\n",
        "def noun_count(text, model=nlp):\n",
        "    doc = model(text)\n",
        "    pos= [token.pos_ for token in doc]\n",
        "    return  pos.count('NOUN')\n",
        "\n",
        "\n",
        "# create a new feature for the number of non-proper noun in each tweet\n",
        "train_df['noun_count'] = train_df['text_cleaned'].apply(noun_count)"
      ]
    },
    {
      "cell_type": "code",
      "source": [
        "train_df"
      ],
      "metadata": {
        "id": "-IZHma2q28em"
      },
      "execution_count": null,
      "outputs": []
    },
    {
      "cell_type": "code",
      "execution_count": null,
      "metadata": {
        "id": "MK4sSYIrubc8"
      },
      "outputs": [],
      "source": [
        "import string\n",
        "\n",
        "# define a function that returns the percentage of punctuation\n",
        "def punc_count(text):\n",
        "    total_count = len(text)-text.count(\" \")\n",
        "    punc_count = sum([1 for c in text if c in string.punctuation])\n",
        "    if punc_count!=0 and total_count!=0:\n",
        "        return round(punc_count/total_count*100, 2)\n",
        "    else:\n",
        "        return 0\n",
        "    \n",
        "# create a new feature for the percentage of punctuation in each tweet\n",
        "train_df['punc_count'] = train_df['text_cleaned'].apply(punc_count)"
      ]
    },
    {
      "cell_type": "code",
      "execution_count": null,
      "metadata": {
        "id": "w_ZaYHGOue6B",
        "colab": {
          "base_uri": "https://localhost:8080/",
          "height": 577
        },
        "outputId": "614230bf-dae7-42b3-c5c4-494df44b8d3e"
      },
      "outputs": [
        {
          "output_type": "execute_result",
          "data": {
            "text/plain": [
              "                        id                                               text  \\\n",
              "27222  1584151780190871553              God was with us today 🤣 #INDvsPAK2022   \n",
              "27223  1584151779910254593  Never ever doubt about a quality player like V...   \n",
              "27224  1584151779872473089  Don't ever insult him comparing with anyone. #...   \n",
              "27225  1584151779863764992  What a match 😭😭.. Last over ne to dil jeet lia...   \n",
              "27226  1584151779562119172           Welldone Team India 🇮🇳 \\n\\n#INDvsPAK2022   \n",
              "\n",
              "           username                   hashtags                 created_at  \\\n",
              "27222  MirchiLaddoo           ['INDvsPAK2022']  2022-10-23 11:56:31+00:00   \n",
              "27223   Thisis_Anku           ['INDvsPAK2022']  2022-10-23 11:56:31+00:00   \n",
              "27224   Bihari_Boy_  ['Kohli', 'INDvsPAK2022']  2022-10-23 11:56:31+00:00   \n",
              "27225       reeti_r           ['INDvsPAK2022']  2022-10-23 11:56:31+00:00   \n",
              "27226    RinkuMedia           ['INDvsPAK2022']  2022-10-23 11:56:31+00:00   \n",
              "\n",
              "       user followers count  replycount  retweetcount  likecount  quotecount  \\\n",
              "27222                  3844           1             0          0           0   \n",
              "27223                   144           0             0          0           0   \n",
              "27224                   173           0             0          1           0   \n",
              "27225                   480           0             0          0           0   \n",
              "27226                   674           0             0          1           0   \n",
              "\n",
              "       ...                                       text_cleaned  sent_count  \\\n",
              "27222  ...                           God was with us today  #           1   \n",
              "27223  ...  Never ever doubt about a quality player like V...           1   \n",
              "27224  ...  Don't ever insult him comparing with anyone. #...           2   \n",
              "27225  ...  What a match .. Last over ne to dil jeet lia.....           2   \n",
              "27226  ...                         Welldone Team India  \\n\\n#           1   \n",
              "\n",
              "       word_count char_count hash_count ment_count  all_caps_count word_avg  \\\n",
              "27222           6         18          1          0               0     3.00   \n",
              "27223          11         44          1          0               1     3.91   \n",
              "27224          12         45          2          0               0     5.00   \n",
              "27225          17         60          1          0               0     3.80   \n",
              "27226           4         20          1          0               0     4.50   \n",
              "\n",
              "      propn_count  punc_count  \n",
              "27222           1        5.56  \n",
              "27223           1        2.27  \n",
              "27224           1        8.89  \n",
              "27225           0       15.00  \n",
              "27226           3        5.00  \n",
              "\n",
              "[5 rows x 28 columns]"
            ],
            "text/html": [
              "\n",
              "  <div id=\"df-fcfb885e-ebd0-4862-b768-763861646cbc\">\n",
              "    <div class=\"colab-df-container\">\n",
              "      <div>\n",
              "<style scoped>\n",
              "    .dataframe tbody tr th:only-of-type {\n",
              "        vertical-align: middle;\n",
              "    }\n",
              "\n",
              "    .dataframe tbody tr th {\n",
              "        vertical-align: top;\n",
              "    }\n",
              "\n",
              "    .dataframe thead th {\n",
              "        text-align: right;\n",
              "    }\n",
              "</style>\n",
              "<table border=\"1\" class=\"dataframe\">\n",
              "  <thead>\n",
              "    <tr style=\"text-align: right;\">\n",
              "      <th></th>\n",
              "      <th>id</th>\n",
              "      <th>text</th>\n",
              "      <th>username</th>\n",
              "      <th>hashtags</th>\n",
              "      <th>created_at</th>\n",
              "      <th>user followers count</th>\n",
              "      <th>replycount</th>\n",
              "      <th>retweetcount</th>\n",
              "      <th>likecount</th>\n",
              "      <th>quotecount</th>\n",
              "      <th>...</th>\n",
              "      <th>text_cleaned</th>\n",
              "      <th>sent_count</th>\n",
              "      <th>word_count</th>\n",
              "      <th>char_count</th>\n",
              "      <th>hash_count</th>\n",
              "      <th>ment_count</th>\n",
              "      <th>all_caps_count</th>\n",
              "      <th>word_avg</th>\n",
              "      <th>propn_count</th>\n",
              "      <th>punc_count</th>\n",
              "    </tr>\n",
              "  </thead>\n",
              "  <tbody>\n",
              "    <tr>\n",
              "      <th>27222</th>\n",
              "      <td>1584151780190871553</td>\n",
              "      <td>God was with us today 🤣 #INDvsPAK2022</td>\n",
              "      <td>MirchiLaddoo</td>\n",
              "      <td>['INDvsPAK2022']</td>\n",
              "      <td>2022-10-23 11:56:31+00:00</td>\n",
              "      <td>3844</td>\n",
              "      <td>1</td>\n",
              "      <td>0</td>\n",
              "      <td>0</td>\n",
              "      <td>0</td>\n",
              "      <td>...</td>\n",
              "      <td>God was with us today  #</td>\n",
              "      <td>1</td>\n",
              "      <td>6</td>\n",
              "      <td>18</td>\n",
              "      <td>1</td>\n",
              "      <td>0</td>\n",
              "      <td>0</td>\n",
              "      <td>3.00</td>\n",
              "      <td>1</td>\n",
              "      <td>5.56</td>\n",
              "    </tr>\n",
              "    <tr>\n",
              "      <th>27223</th>\n",
              "      <td>1584151779910254593</td>\n",
              "      <td>Never ever doubt about a quality player like V...</td>\n",
              "      <td>Thisis_Anku</td>\n",
              "      <td>['INDvsPAK2022']</td>\n",
              "      <td>2022-10-23 11:56:31+00:00</td>\n",
              "      <td>144</td>\n",
              "      <td>0</td>\n",
              "      <td>0</td>\n",
              "      <td>0</td>\n",
              "      <td>0</td>\n",
              "      <td>...</td>\n",
              "      <td>Never ever doubt about a quality player like V...</td>\n",
              "      <td>1</td>\n",
              "      <td>11</td>\n",
              "      <td>44</td>\n",
              "      <td>1</td>\n",
              "      <td>0</td>\n",
              "      <td>1</td>\n",
              "      <td>3.91</td>\n",
              "      <td>1</td>\n",
              "      <td>2.27</td>\n",
              "    </tr>\n",
              "    <tr>\n",
              "      <th>27224</th>\n",
              "      <td>1584151779872473089</td>\n",
              "      <td>Don't ever insult him comparing with anyone. #...</td>\n",
              "      <td>Bihari_Boy_</td>\n",
              "      <td>['Kohli', 'INDvsPAK2022']</td>\n",
              "      <td>2022-10-23 11:56:31+00:00</td>\n",
              "      <td>173</td>\n",
              "      <td>0</td>\n",
              "      <td>0</td>\n",
              "      <td>1</td>\n",
              "      <td>0</td>\n",
              "      <td>...</td>\n",
              "      <td>Don't ever insult him comparing with anyone. #...</td>\n",
              "      <td>2</td>\n",
              "      <td>12</td>\n",
              "      <td>45</td>\n",
              "      <td>2</td>\n",
              "      <td>0</td>\n",
              "      <td>0</td>\n",
              "      <td>5.00</td>\n",
              "      <td>1</td>\n",
              "      <td>8.89</td>\n",
              "    </tr>\n",
              "    <tr>\n",
              "      <th>27225</th>\n",
              "      <td>1584151779863764992</td>\n",
              "      <td>What a match 😭😭.. Last over ne to dil jeet lia...</td>\n",
              "      <td>reeti_r</td>\n",
              "      <td>['INDvsPAK2022']</td>\n",
              "      <td>2022-10-23 11:56:31+00:00</td>\n",
              "      <td>480</td>\n",
              "      <td>0</td>\n",
              "      <td>0</td>\n",
              "      <td>0</td>\n",
              "      <td>0</td>\n",
              "      <td>...</td>\n",
              "      <td>What a match .. Last over ne to dil jeet lia.....</td>\n",
              "      <td>2</td>\n",
              "      <td>17</td>\n",
              "      <td>60</td>\n",
              "      <td>1</td>\n",
              "      <td>0</td>\n",
              "      <td>0</td>\n",
              "      <td>3.80</td>\n",
              "      <td>0</td>\n",
              "      <td>15.00</td>\n",
              "    </tr>\n",
              "    <tr>\n",
              "      <th>27226</th>\n",
              "      <td>1584151779562119172</td>\n",
              "      <td>Welldone Team India 🇮🇳 \\n\\n#INDvsPAK2022</td>\n",
              "      <td>RinkuMedia</td>\n",
              "      <td>['INDvsPAK2022']</td>\n",
              "      <td>2022-10-23 11:56:31+00:00</td>\n",
              "      <td>674</td>\n",
              "      <td>0</td>\n",
              "      <td>0</td>\n",
              "      <td>1</td>\n",
              "      <td>0</td>\n",
              "      <td>...</td>\n",
              "      <td>Welldone Team India  \\n\\n#</td>\n",
              "      <td>1</td>\n",
              "      <td>4</td>\n",
              "      <td>20</td>\n",
              "      <td>1</td>\n",
              "      <td>0</td>\n",
              "      <td>0</td>\n",
              "      <td>4.50</td>\n",
              "      <td>3</td>\n",
              "      <td>5.00</td>\n",
              "    </tr>\n",
              "  </tbody>\n",
              "</table>\n",
              "<p>5 rows × 28 columns</p>\n",
              "</div>\n",
              "      <button class=\"colab-df-convert\" onclick=\"convertToInteractive('df-fcfb885e-ebd0-4862-b768-763861646cbc')\"\n",
              "              title=\"Convert this dataframe to an interactive table.\"\n",
              "              style=\"display:none;\">\n",
              "        \n",
              "  <svg xmlns=\"http://www.w3.org/2000/svg\" height=\"24px\"viewBox=\"0 0 24 24\"\n",
              "       width=\"24px\">\n",
              "    <path d=\"M0 0h24v24H0V0z\" fill=\"none\"/>\n",
              "    <path d=\"M18.56 5.44l.94 2.06.94-2.06 2.06-.94-2.06-.94-.94-2.06-.94 2.06-2.06.94zm-11 1L8.5 8.5l.94-2.06 2.06-.94-2.06-.94L8.5 2.5l-.94 2.06-2.06.94zm10 10l.94 2.06.94-2.06 2.06-.94-2.06-.94-.94-2.06-.94 2.06-2.06.94z\"/><path d=\"M17.41 7.96l-1.37-1.37c-.4-.4-.92-.59-1.43-.59-.52 0-1.04.2-1.43.59L10.3 9.45l-7.72 7.72c-.78.78-.78 2.05 0 2.83L4 21.41c.39.39.9.59 1.41.59.51 0 1.02-.2 1.41-.59l7.78-7.78 2.81-2.81c.8-.78.8-2.07 0-2.86zM5.41 20L4 18.59l7.72-7.72 1.47 1.35L5.41 20z\"/>\n",
              "  </svg>\n",
              "      </button>\n",
              "      \n",
              "  <style>\n",
              "    .colab-df-container {\n",
              "      display:flex;\n",
              "      flex-wrap:wrap;\n",
              "      gap: 12px;\n",
              "    }\n",
              "\n",
              "    .colab-df-convert {\n",
              "      background-color: #E8F0FE;\n",
              "      border: none;\n",
              "      border-radius: 50%;\n",
              "      cursor: pointer;\n",
              "      display: none;\n",
              "      fill: #1967D2;\n",
              "      height: 32px;\n",
              "      padding: 0 0 0 0;\n",
              "      width: 32px;\n",
              "    }\n",
              "\n",
              "    .colab-df-convert:hover {\n",
              "      background-color: #E2EBFA;\n",
              "      box-shadow: 0px 1px 2px rgba(60, 64, 67, 0.3), 0px 1px 3px 1px rgba(60, 64, 67, 0.15);\n",
              "      fill: #174EA6;\n",
              "    }\n",
              "\n",
              "    [theme=dark] .colab-df-convert {\n",
              "      background-color: #3B4455;\n",
              "      fill: #D2E3FC;\n",
              "    }\n",
              "\n",
              "    [theme=dark] .colab-df-convert:hover {\n",
              "      background-color: #434B5C;\n",
              "      box-shadow: 0px 1px 3px 1px rgba(0, 0, 0, 0.15);\n",
              "      filter: drop-shadow(0px 1px 2px rgba(0, 0, 0, 0.3));\n",
              "      fill: #FFFFFF;\n",
              "    }\n",
              "  </style>\n",
              "\n",
              "      <script>\n",
              "        const buttonEl =\n",
              "          document.querySelector('#df-fcfb885e-ebd0-4862-b768-763861646cbc button.colab-df-convert');\n",
              "        buttonEl.style.display =\n",
              "          google.colab.kernel.accessAllowed ? 'block' : 'none';\n",
              "\n",
              "        async function convertToInteractive(key) {\n",
              "          const element = document.querySelector('#df-fcfb885e-ebd0-4862-b768-763861646cbc');\n",
              "          const dataTable =\n",
              "            await google.colab.kernel.invokeFunction('convertToInteractive',\n",
              "                                                     [key], {});\n",
              "          if (!dataTable) return;\n",
              "\n",
              "          const docLinkHtml = 'Like what you see? Visit the ' +\n",
              "            '<a target=\"_blank\" href=https://colab.research.google.com/notebooks/data_table.ipynb>data table notebook</a>'\n",
              "            + ' to learn more about interactive tables.';\n",
              "          element.innerHTML = '';\n",
              "          dataTable['output_type'] = 'display_data';\n",
              "          await google.colab.output.renderOutput(dataTable, element);\n",
              "          const docLink = document.createElement('div');\n",
              "          docLink.innerHTML = docLinkHtml;\n",
              "          element.appendChild(docLink);\n",
              "        }\n",
              "      </script>\n",
              "    </div>\n",
              "  </div>\n",
              "  "
            ]
          },
          "metadata": {},
          "execution_count": 36
        }
      ],
      "source": [
        "# check the results\n",
        "train_df.tail()"
      ]
    },
    {
      "cell_type": "code",
      "execution_count": null,
      "metadata": {
        "id": "k6-BBpGUvDUQ"
      },
      "outputs": [],
      "source": [
        "# lemmatixe the text\n",
        "train_df['text_cleaned'] = train_df['text_cleaned'].apply(lambda x: ' '.join([t.lemma_ for t in nlp(x)]))"
      ]
    },
    {
      "cell_type": "code",
      "execution_count": null,
      "metadata": {
        "id": "8lvgTF8uvIOZ"
      },
      "outputs": [],
      "source": [
        "# lowercase the text\n",
        "train_df['text_cleaned'] = [t.lower() for t in train_df['text_cleaned']]"
      ]
    },
    {
      "cell_type": "code",
      "execution_count": null,
      "metadata": {
        "id": "MDZIu2GPvOXf"
      },
      "outputs": [],
      "source": [
        "# define a function that removes repeated characters in elongated words\n",
        "def remove_repeated(text):\n",
        "    elongated= re.compile(r'(\\S*?)([a-z])\\2{2,}')\n",
        "    text = elongated.sub(r'\\1\\2', text)\n",
        "    return text\n",
        "\n",
        "# remove repeated characters in elongated words\n",
        "train_df['text_cleaned'] = train_df['text_cleaned'].apply(remove_repeated)"
      ]
    },
    {
      "cell_type": "code",
      "execution_count": null,
      "metadata": {
        "id": "J0DSi2dCvQEk"
      },
      "outputs": [],
      "source": [
        "# define a function that removes mentions\n",
        "def remove_mention(text):\n",
        "    text = re.sub(r'@\\w+', '', text)\n",
        "    return text\n",
        "\n",
        "# remove mentions\n",
        "train_df['text_cleaned'] = train_df['text_cleaned'].apply(remove_mention)"
      ]
    },
    {
      "cell_type": "code",
      "execution_count": null,
      "metadata": {
        "id": "tz4DPe_5vZvl"
      },
      "outputs": [],
      "source": [
        "# define a function that removes stpwords\n",
        "def remove_stopwords(text):\n",
        "    stopwords = nlp.Defaults.stop_words\n",
        "    text_nostop = ' '.join([token for token in text.split() if token not in stopwords])\n",
        "    return text_nostop\n",
        "\n",
        "# remove repeated characters in elongated words\n",
        "train_df['text_cleaned'] = train_df['text_cleaned'].apply(remove_repeated)"
      ]
    },
    {
      "cell_type": "code",
      "execution_count": null,
      "metadata": {
        "id": "bOWhf4AnvdFn"
      },
      "outputs": [],
      "source": [
        "# define a function to remove punctuation\n",
        "def remove_punct(text):\n",
        "    punct = string.punctuation\n",
        "    text_nospunct = ' '.join([token for token in text.split() if token not in punct])\n",
        "    return text_nospunct\n",
        "\n",
        "# remove punctuation\n",
        "train_df['text_cleaned'] = train_df['text_cleaned'].apply(remove_punct)"
      ]
    },
    {
      "cell_type": "code",
      "execution_count": null,
      "metadata": {
        "id": "J8zh3lR4vesI",
        "colab": {
          "base_uri": "https://localhost:8080/",
          "height": 206
        },
        "outputId": "3bb819a9-fbcb-45ab-d821-72a9bd1f01c4"
      },
      "outputs": [
        {
          "output_type": "execute_result",
          "data": {
            "text/plain": [
              "                    id                                               text  \\\n",
              "1  1584684371512291330  @TheBarmyArmy luv it \\n\\n❤️❤️❤️\\n\\n#INDvPAK \\n...   \n",
              "2  1584684147339296768                                      #INDvsPAK2022   \n",
              "3  1584684139839905792                          No ball thi #INDvsPAK2022   \n",
              "4  1584681884210319360  @mufaddal_vohra @ImRo45 \\n@BCCI \\n\\nWhen will\\...   \n",
              "5  1584680546005037056  What’s your zodiac sign ?And what’s your Fav S...   \n",
              "\n",
              "                                        text_cleaned  \n",
              "1   luv it \\n\\n\\n\\n # indvpak \\n # indvspakmatch ...  \n",
              "2                                                  #  \n",
              "3                                      no ball thi #  \n",
              "4   @ \\n  \\n\\n when will \\n\\n  \\n\\n ever learn ? ...  \n",
              "5  what s your zodiac sign ? and what s your fav ...  "
            ],
            "text/html": [
              "\n",
              "  <div id=\"df-380b8afa-649c-499f-9cf6-8b6e6a271a4a\">\n",
              "    <div class=\"colab-df-container\">\n",
              "      <div>\n",
              "<style scoped>\n",
              "    .dataframe tbody tr th:only-of-type {\n",
              "        vertical-align: middle;\n",
              "    }\n",
              "\n",
              "    .dataframe tbody tr th {\n",
              "        vertical-align: top;\n",
              "    }\n",
              "\n",
              "    .dataframe thead th {\n",
              "        text-align: right;\n",
              "    }\n",
              "</style>\n",
              "<table border=\"1\" class=\"dataframe\">\n",
              "  <thead>\n",
              "    <tr style=\"text-align: right;\">\n",
              "      <th></th>\n",
              "      <th>id</th>\n",
              "      <th>text</th>\n",
              "      <th>text_cleaned</th>\n",
              "    </tr>\n",
              "  </thead>\n",
              "  <tbody>\n",
              "    <tr>\n",
              "      <th>1</th>\n",
              "      <td>1584684371512291330</td>\n",
              "      <td>@TheBarmyArmy luv it \\n\\n❤️❤️❤️\\n\\n#INDvPAK \\n...</td>\n",
              "      <td>luv it \\n\\n\\n\\n # indvpak \\n # indvspakmatch ...</td>\n",
              "    </tr>\n",
              "    <tr>\n",
              "      <th>2</th>\n",
              "      <td>1584684147339296768</td>\n",
              "      <td>#INDvsPAK2022</td>\n",
              "      <td>#</td>\n",
              "    </tr>\n",
              "    <tr>\n",
              "      <th>3</th>\n",
              "      <td>1584684139839905792</td>\n",
              "      <td>No ball thi #INDvsPAK2022</td>\n",
              "      <td>no ball thi #</td>\n",
              "    </tr>\n",
              "    <tr>\n",
              "      <th>4</th>\n",
              "      <td>1584681884210319360</td>\n",
              "      <td>@mufaddal_vohra @ImRo45 \\n@BCCI \\n\\nWhen will\\...</td>\n",
              "      <td>@ \\n  \\n\\n when will \\n\\n  \\n\\n ever learn ? ...</td>\n",
              "    </tr>\n",
              "    <tr>\n",
              "      <th>5</th>\n",
              "      <td>1584680546005037056</td>\n",
              "      <td>What’s your zodiac sign ?And what’s your Fav S...</td>\n",
              "      <td>what s your zodiac sign ? and what s your fav ...</td>\n",
              "    </tr>\n",
              "  </tbody>\n",
              "</table>\n",
              "</div>\n",
              "      <button class=\"colab-df-convert\" onclick=\"convertToInteractive('df-380b8afa-649c-499f-9cf6-8b6e6a271a4a')\"\n",
              "              title=\"Convert this dataframe to an interactive table.\"\n",
              "              style=\"display:none;\">\n",
              "        \n",
              "  <svg xmlns=\"http://www.w3.org/2000/svg\" height=\"24px\"viewBox=\"0 0 24 24\"\n",
              "       width=\"24px\">\n",
              "    <path d=\"M0 0h24v24H0V0z\" fill=\"none\"/>\n",
              "    <path d=\"M18.56 5.44l.94 2.06.94-2.06 2.06-.94-2.06-.94-.94-2.06-.94 2.06-2.06.94zm-11 1L8.5 8.5l.94-2.06 2.06-.94-2.06-.94L8.5 2.5l-.94 2.06-2.06.94zm10 10l.94 2.06.94-2.06 2.06-.94-2.06-.94-.94-2.06-.94 2.06-2.06.94z\"/><path d=\"M17.41 7.96l-1.37-1.37c-.4-.4-.92-.59-1.43-.59-.52 0-1.04.2-1.43.59L10.3 9.45l-7.72 7.72c-.78.78-.78 2.05 0 2.83L4 21.41c.39.39.9.59 1.41.59.51 0 1.02-.2 1.41-.59l7.78-7.78 2.81-2.81c.8-.78.8-2.07 0-2.86zM5.41 20L4 18.59l7.72-7.72 1.47 1.35L5.41 20z\"/>\n",
              "  </svg>\n",
              "      </button>\n",
              "      \n",
              "  <style>\n",
              "    .colab-df-container {\n",
              "      display:flex;\n",
              "      flex-wrap:wrap;\n",
              "      gap: 12px;\n",
              "    }\n",
              "\n",
              "    .colab-df-convert {\n",
              "      background-color: #E8F0FE;\n",
              "      border: none;\n",
              "      border-radius: 50%;\n",
              "      cursor: pointer;\n",
              "      display: none;\n",
              "      fill: #1967D2;\n",
              "      height: 32px;\n",
              "      padding: 0 0 0 0;\n",
              "      width: 32px;\n",
              "    }\n",
              "\n",
              "    .colab-df-convert:hover {\n",
              "      background-color: #E2EBFA;\n",
              "      box-shadow: 0px 1px 2px rgba(60, 64, 67, 0.3), 0px 1px 3px 1px rgba(60, 64, 67, 0.15);\n",
              "      fill: #174EA6;\n",
              "    }\n",
              "\n",
              "    [theme=dark] .colab-df-convert {\n",
              "      background-color: #3B4455;\n",
              "      fill: #D2E3FC;\n",
              "    }\n",
              "\n",
              "    [theme=dark] .colab-df-convert:hover {\n",
              "      background-color: #434B5C;\n",
              "      box-shadow: 0px 1px 3px 1px rgba(0, 0, 0, 0.15);\n",
              "      filter: drop-shadow(0px 1px 2px rgba(0, 0, 0, 0.3));\n",
              "      fill: #FFFFFF;\n",
              "    }\n",
              "  </style>\n",
              "\n",
              "      <script>\n",
              "        const buttonEl =\n",
              "          document.querySelector('#df-380b8afa-649c-499f-9cf6-8b6e6a271a4a button.colab-df-convert');\n",
              "        buttonEl.style.display =\n",
              "          google.colab.kernel.accessAllowed ? 'block' : 'none';\n",
              "\n",
              "        async function convertToInteractive(key) {\n",
              "          const element = document.querySelector('#df-380b8afa-649c-499f-9cf6-8b6e6a271a4a');\n",
              "          const dataTable =\n",
              "            await google.colab.kernel.invokeFunction('convertToInteractive',\n",
              "                                                     [key], {});\n",
              "          if (!dataTable) return;\n",
              "\n",
              "          const docLinkHtml = 'Like what you see? Visit the ' +\n",
              "            '<a target=\"_blank\" href=https://colab.research.google.com/notebooks/data_table.ipynb>data table notebook</a>'\n",
              "            + ' to learn more about interactive tables.';\n",
              "          element.innerHTML = '';\n",
              "          dataTable['output_type'] = 'display_data';\n",
              "          await google.colab.output.renderOutput(dataTable, element);\n",
              "          const docLink = document.createElement('div');\n",
              "          docLink.innerHTML = docLinkHtml;\n",
              "          element.appendChild(docLink);\n",
              "        }\n",
              "      </script>\n",
              "    </div>\n",
              "  </div>\n",
              "  "
            ]
          },
          "metadata": {},
          "execution_count": 47
        }
      ],
      "source": [
        "# check the results\n",
        "train_df[['id', 'text', 'text_cleaned']].head()"
      ]
    },
    {
      "cell_type": "code",
      "source": [
        "train_df[\"sentiment\"].replace({\"Negative\": 0, \"Positive\":1},inplace=True)"
      ],
      "metadata": {
        "id": "eBoR-Vc25mR5"
      },
      "execution_count": null,
      "outputs": []
    },
    {
      "cell_type": "code",
      "source": [
        "# import TfidfVectorizer\n",
        "from sklearn.feature_extraction.text import TfidfVectorizer\n",
        "\n",
        "# instantiate the vectorizer\n",
        "tfidf = TfidfVectorizer(max_features=6000)\n",
        "\n",
        "# fit and transform\n",
        "x_tfidf = tfidf.fit_transform(train_df['text_cleaned']).toarray()"
      ],
      "metadata": {
        "id": "EGQ9mk6S56UY"
      },
      "execution_count": null,
      "outputs": []
    },
    {
      "cell_type": "code",
      "source": [
        "# import the library\n",
        "from sklearn.model_selection import train_test_split\n",
        "random_state=786\n",
        "# select the input/output\n",
        "X = x_tfidf\n",
        "Y = train_df['sentiment']\n",
        "\n",
        "# split the data \n",
        "# the name, x_val, y_val, are usedinstead of x_test, y_test to avoid confusion with our actual test data\n",
        "# which we will be using to make the predictions with the selected model at the end of this notebook.\n",
        "x_train, x_val, y_train, y_val = train_test_split(X, Y, test_size=0.2, random_state=random_state)"
      ],
      "metadata": {
        "id": "xcN8XaxF5lWD"
      },
      "execution_count": null,
      "outputs": []
    },
    {
      "cell_type": "code",
      "execution_count": null,
      "metadata": {
        "id": "QheAWw3owCOG"
      },
      "outputs": [],
      "source": [
        "# create a dictionary containing the names and code of algorithms\n",
        "random_state = 786\n",
        "clfs = {'MNB': MultinomialNB(),\n",
        "        'LR': LogisticRegression(max_iter=10000, random_state=random_state),\n",
        "       'RFC': RandomForestClassifier(random_state=random_state),\n",
        "       'ETC': ExtraTreesClassifier(random_state=random_state),\n",
        "       'BC': BaggingClassifier(random_state=random_state),\n",
        "       'XGBC': XGBClassifier(n_estimators=50, random_state=random_state)}"
      ]
    },
    {
      "cell_type": "code",
      "execution_count": null,
      "metadata": {
        "id": "boxUZ8WEwCyN"
      },
      "outputs": [],
      "source": [
        "# create afunction that builds and  runs multiple classification models\n",
        "def classify(clf, x_train,x_val, y_train, y_val):\n",
        "    y_pred = clf.fit(x_train, y_train).predict(x_val)\n",
        "    train_accuracy = clf.score(x_train,y_train)\n",
        "    val_accuracy = accuracy_score(y_val, y_pred)\n",
        "    f1score = f1_score(y_val, y_pred)\n",
        "    return train_accuracy, val_accuracy, f1score"
      ]
    },
    {
      "cell_type": "code",
      "execution_count": null,
      "metadata": {
        "id": "m326wQ4ww3Js",
        "colab": {
          "base_uri": "https://localhost:8080/"
        },
        "outputId": "2c84f461-b0c8-47b6-90a9-dd41513de2c1"
      },
      "outputs": [
        {
          "output_type": "stream",
          "name": "stdout",
          "text": [
            "For [MNB]-\n",
            "Train acuuracy : 0.87 | Val accuracy : 0.84 | F1 Score : 0.82\n",
            "\n",
            "For [LR]-\n",
            "Train acuuracy : 0.91 | Val accuracy : 0.89 | F1 Score : 0.87\n",
            "\n",
            "For [RFC]-\n",
            "Train acuuracy : 1.0 | Val accuracy : 0.88 | F1 Score : 0.87\n",
            "\n",
            "For [ETC]-\n",
            "Train acuuracy : 1.0 | Val accuracy : 0.89 | F1 Score : 0.88\n",
            "\n",
            "For [BC]-\n",
            "Train acuuracy : 0.99 | Val accuracy : 0.89 | F1 Score : 0.87\n",
            "\n",
            "For [XGBC]-\n",
            "Train acuuracy : 0.83 | Val accuracy : 0.82 | F1 Score : 0.77\n",
            "\n"
          ]
        }
      ],
      "source": [
        "# create lists to store scores to build a dataframe later on\n",
        "val_accuracy_series = []\n",
        "f1score_series = []\n",
        "\n",
        "# run the models with classify() function we created above(this takes some times)\n",
        "for name, clf in clfs.items():\n",
        "    i_train_accuracy, i_val_accuracy, i_f1score = classify(clf, x_train, x_val, y_train, y_val)\n",
        "    \n",
        "    # append the scores to the lists\n",
        "    val_accuracy_series.append(i_val_accuracy)\n",
        "    f1score_series.append(i_f1score)\n",
        "    \n",
        "    # print out the scores\n",
        "    print('For [{}]-\\nTrain acuuracy : {} | Val accuracy : {} | F1 Score : {}\\n'.format(name,\n",
        "                                                                                  round(i_train_accuracy,2),\n",
        "                                                                                  round(i_val_accuracy,2),\n",
        "                                                                                  round(i_f1score,2)))\n",
        "    "
      ]
    },
    {
      "cell_type": "code",
      "execution_count": null,
      "metadata": {
        "id": "Fi0KW3C7w678"
      },
      "outputs": [],
      "source": [
        "# create a dataframe with the scores\n",
        "performance_df = pd.DataFrame({'Algorithm': clfs.keys(),\n",
        "                         'Accuracy': val_accuracy_series,\n",
        "                         'F1score': f1score_series}).round(2).sort_values('F1score', ascending=False)"
      ]
    },
    {
      "cell_type": "code",
      "execution_count": null,
      "metadata": {
        "id": "y0g3iLScw70b",
        "colab": {
          "base_uri": "https://localhost:8080/",
          "height": 238
        },
        "outputId": "9374b103-2aff-4fe1-9dfb-9baa02175d4b"
      },
      "outputs": [
        {
          "output_type": "execute_result",
          "data": {
            "text/plain": [
              "  Algorithm  Accuracy  F1score\n",
              "3       ETC      0.89     0.88\n",
              "1        LR      0.89     0.87\n",
              "2       RFC      0.88     0.87\n",
              "4        BC      0.89     0.87\n",
              "0       MNB      0.84     0.82\n",
              "5      XGBC      0.82     0.77"
            ],
            "text/html": [
              "\n",
              "  <div id=\"df-881bf9e9-c28c-4d13-8df0-a26299258371\">\n",
              "    <div class=\"colab-df-container\">\n",
              "      <div>\n",
              "<style scoped>\n",
              "    .dataframe tbody tr th:only-of-type {\n",
              "        vertical-align: middle;\n",
              "    }\n",
              "\n",
              "    .dataframe tbody tr th {\n",
              "        vertical-align: top;\n",
              "    }\n",
              "\n",
              "    .dataframe thead th {\n",
              "        text-align: right;\n",
              "    }\n",
              "</style>\n",
              "<table border=\"1\" class=\"dataframe\">\n",
              "  <thead>\n",
              "    <tr style=\"text-align: right;\">\n",
              "      <th></th>\n",
              "      <th>Algorithm</th>\n",
              "      <th>Accuracy</th>\n",
              "      <th>F1score</th>\n",
              "    </tr>\n",
              "  </thead>\n",
              "  <tbody>\n",
              "    <tr>\n",
              "      <th>3</th>\n",
              "      <td>ETC</td>\n",
              "      <td>0.89</td>\n",
              "      <td>0.88</td>\n",
              "    </tr>\n",
              "    <tr>\n",
              "      <th>1</th>\n",
              "      <td>LR</td>\n",
              "      <td>0.89</td>\n",
              "      <td>0.87</td>\n",
              "    </tr>\n",
              "    <tr>\n",
              "      <th>2</th>\n",
              "      <td>RFC</td>\n",
              "      <td>0.88</td>\n",
              "      <td>0.87</td>\n",
              "    </tr>\n",
              "    <tr>\n",
              "      <th>4</th>\n",
              "      <td>BC</td>\n",
              "      <td>0.89</td>\n",
              "      <td>0.87</td>\n",
              "    </tr>\n",
              "    <tr>\n",
              "      <th>0</th>\n",
              "      <td>MNB</td>\n",
              "      <td>0.84</td>\n",
              "      <td>0.82</td>\n",
              "    </tr>\n",
              "    <tr>\n",
              "      <th>5</th>\n",
              "      <td>XGBC</td>\n",
              "      <td>0.82</td>\n",
              "      <td>0.77</td>\n",
              "    </tr>\n",
              "  </tbody>\n",
              "</table>\n",
              "</div>\n",
              "      <button class=\"colab-df-convert\" onclick=\"convertToInteractive('df-881bf9e9-c28c-4d13-8df0-a26299258371')\"\n",
              "              title=\"Convert this dataframe to an interactive table.\"\n",
              "              style=\"display:none;\">\n",
              "        \n",
              "  <svg xmlns=\"http://www.w3.org/2000/svg\" height=\"24px\"viewBox=\"0 0 24 24\"\n",
              "       width=\"24px\">\n",
              "    <path d=\"M0 0h24v24H0V0z\" fill=\"none\"/>\n",
              "    <path d=\"M18.56 5.44l.94 2.06.94-2.06 2.06-.94-2.06-.94-.94-2.06-.94 2.06-2.06.94zm-11 1L8.5 8.5l.94-2.06 2.06-.94-2.06-.94L8.5 2.5l-.94 2.06-2.06.94zm10 10l.94 2.06.94-2.06 2.06-.94-2.06-.94-.94-2.06-.94 2.06-2.06.94z\"/><path d=\"M17.41 7.96l-1.37-1.37c-.4-.4-.92-.59-1.43-.59-.52 0-1.04.2-1.43.59L10.3 9.45l-7.72 7.72c-.78.78-.78 2.05 0 2.83L4 21.41c.39.39.9.59 1.41.59.51 0 1.02-.2 1.41-.59l7.78-7.78 2.81-2.81c.8-.78.8-2.07 0-2.86zM5.41 20L4 18.59l7.72-7.72 1.47 1.35L5.41 20z\"/>\n",
              "  </svg>\n",
              "      </button>\n",
              "      \n",
              "  <style>\n",
              "    .colab-df-container {\n",
              "      display:flex;\n",
              "      flex-wrap:wrap;\n",
              "      gap: 12px;\n",
              "    }\n",
              "\n",
              "    .colab-df-convert {\n",
              "      background-color: #E8F0FE;\n",
              "      border: none;\n",
              "      border-radius: 50%;\n",
              "      cursor: pointer;\n",
              "      display: none;\n",
              "      fill: #1967D2;\n",
              "      height: 32px;\n",
              "      padding: 0 0 0 0;\n",
              "      width: 32px;\n",
              "    }\n",
              "\n",
              "    .colab-df-convert:hover {\n",
              "      background-color: #E2EBFA;\n",
              "      box-shadow: 0px 1px 2px rgba(60, 64, 67, 0.3), 0px 1px 3px 1px rgba(60, 64, 67, 0.15);\n",
              "      fill: #174EA6;\n",
              "    }\n",
              "\n",
              "    [theme=dark] .colab-df-convert {\n",
              "      background-color: #3B4455;\n",
              "      fill: #D2E3FC;\n",
              "    }\n",
              "\n",
              "    [theme=dark] .colab-df-convert:hover {\n",
              "      background-color: #434B5C;\n",
              "      box-shadow: 0px 1px 3px 1px rgba(0, 0, 0, 0.15);\n",
              "      filter: drop-shadow(0px 1px 2px rgba(0, 0, 0, 0.3));\n",
              "      fill: #FFFFFF;\n",
              "    }\n",
              "  </style>\n",
              "\n",
              "      <script>\n",
              "        const buttonEl =\n",
              "          document.querySelector('#df-881bf9e9-c28c-4d13-8df0-a26299258371 button.colab-df-convert');\n",
              "        buttonEl.style.display =\n",
              "          google.colab.kernel.accessAllowed ? 'block' : 'none';\n",
              "\n",
              "        async function convertToInteractive(key) {\n",
              "          const element = document.querySelector('#df-881bf9e9-c28c-4d13-8df0-a26299258371');\n",
              "          const dataTable =\n",
              "            await google.colab.kernel.invokeFunction('convertToInteractive',\n",
              "                                                     [key], {});\n",
              "          if (!dataTable) return;\n",
              "\n",
              "          const docLinkHtml = 'Like what you see? Visit the ' +\n",
              "            '<a target=\"_blank\" href=https://colab.research.google.com/notebooks/data_table.ipynb>data table notebook</a>'\n",
              "            + ' to learn more about interactive tables.';\n",
              "          element.innerHTML = '';\n",
              "          dataTable['output_type'] = 'display_data';\n",
              "          await google.colab.output.renderOutput(dataTable, element);\n",
              "          const docLink = document.createElement('div');\n",
              "          docLink.innerHTML = docLinkHtml;\n",
              "          element.appendChild(docLink);\n",
              "        }\n",
              "      </script>\n",
              "    </div>\n",
              "  </div>\n",
              "  "
            ]
          },
          "metadata": {},
          "execution_count": 64
        }
      ],
      "source": [
        "performance_df"
      ]
    },
    {
      "cell_type": "code",
      "execution_count": null,
      "metadata": {
        "id": "uMFm2MqZw-c6",
        "colab": {
          "base_uri": "https://localhost:8080/",
          "height": 426
        },
        "outputId": "84d17fff-628c-47dd-dfe6-9ff15d8135b9"
      },
      "outputs": [
        {
          "output_type": "execute_result",
          "data": {
            "text/plain": [
              "   Algorithm  variable  value\n",
              "0        ETC  Accuracy   0.89\n",
              "1         LR  Accuracy   0.89\n",
              "2        RFC  Accuracy   0.88\n",
              "3         BC  Accuracy   0.89\n",
              "4        MNB  Accuracy   0.84\n",
              "5       XGBC  Accuracy   0.82\n",
              "6        ETC   F1score   0.88\n",
              "7         LR   F1score   0.87\n",
              "8        RFC   F1score   0.87\n",
              "9         BC   F1score   0.87\n",
              "10       MNB   F1score   0.82\n",
              "11      XGBC   F1score   0.77"
            ],
            "text/html": [
              "\n",
              "  <div id=\"df-3ea45313-2c19-4cb2-aa5c-4e62fb3511b7\">\n",
              "    <div class=\"colab-df-container\">\n",
              "      <div>\n",
              "<style scoped>\n",
              "    .dataframe tbody tr th:only-of-type {\n",
              "        vertical-align: middle;\n",
              "    }\n",
              "\n",
              "    .dataframe tbody tr th {\n",
              "        vertical-align: top;\n",
              "    }\n",
              "\n",
              "    .dataframe thead th {\n",
              "        text-align: right;\n",
              "    }\n",
              "</style>\n",
              "<table border=\"1\" class=\"dataframe\">\n",
              "  <thead>\n",
              "    <tr style=\"text-align: right;\">\n",
              "      <th></th>\n",
              "      <th>Algorithm</th>\n",
              "      <th>variable</th>\n",
              "      <th>value</th>\n",
              "    </tr>\n",
              "  </thead>\n",
              "  <tbody>\n",
              "    <tr>\n",
              "      <th>0</th>\n",
              "      <td>ETC</td>\n",
              "      <td>Accuracy</td>\n",
              "      <td>0.89</td>\n",
              "    </tr>\n",
              "    <tr>\n",
              "      <th>1</th>\n",
              "      <td>LR</td>\n",
              "      <td>Accuracy</td>\n",
              "      <td>0.89</td>\n",
              "    </tr>\n",
              "    <tr>\n",
              "      <th>2</th>\n",
              "      <td>RFC</td>\n",
              "      <td>Accuracy</td>\n",
              "      <td>0.88</td>\n",
              "    </tr>\n",
              "    <tr>\n",
              "      <th>3</th>\n",
              "      <td>BC</td>\n",
              "      <td>Accuracy</td>\n",
              "      <td>0.89</td>\n",
              "    </tr>\n",
              "    <tr>\n",
              "      <th>4</th>\n",
              "      <td>MNB</td>\n",
              "      <td>Accuracy</td>\n",
              "      <td>0.84</td>\n",
              "    </tr>\n",
              "    <tr>\n",
              "      <th>5</th>\n",
              "      <td>XGBC</td>\n",
              "      <td>Accuracy</td>\n",
              "      <td>0.82</td>\n",
              "    </tr>\n",
              "    <tr>\n",
              "      <th>6</th>\n",
              "      <td>ETC</td>\n",
              "      <td>F1score</td>\n",
              "      <td>0.88</td>\n",
              "    </tr>\n",
              "    <tr>\n",
              "      <th>7</th>\n",
              "      <td>LR</td>\n",
              "      <td>F1score</td>\n",
              "      <td>0.87</td>\n",
              "    </tr>\n",
              "    <tr>\n",
              "      <th>8</th>\n",
              "      <td>RFC</td>\n",
              "      <td>F1score</td>\n",
              "      <td>0.87</td>\n",
              "    </tr>\n",
              "    <tr>\n",
              "      <th>9</th>\n",
              "      <td>BC</td>\n",
              "      <td>F1score</td>\n",
              "      <td>0.87</td>\n",
              "    </tr>\n",
              "    <tr>\n",
              "      <th>10</th>\n",
              "      <td>MNB</td>\n",
              "      <td>F1score</td>\n",
              "      <td>0.82</td>\n",
              "    </tr>\n",
              "    <tr>\n",
              "      <th>11</th>\n",
              "      <td>XGBC</td>\n",
              "      <td>F1score</td>\n",
              "      <td>0.77</td>\n",
              "    </tr>\n",
              "  </tbody>\n",
              "</table>\n",
              "</div>\n",
              "      <button class=\"colab-df-convert\" onclick=\"convertToInteractive('df-3ea45313-2c19-4cb2-aa5c-4e62fb3511b7')\"\n",
              "              title=\"Convert this dataframe to an interactive table.\"\n",
              "              style=\"display:none;\">\n",
              "        \n",
              "  <svg xmlns=\"http://www.w3.org/2000/svg\" height=\"24px\"viewBox=\"0 0 24 24\"\n",
              "       width=\"24px\">\n",
              "    <path d=\"M0 0h24v24H0V0z\" fill=\"none\"/>\n",
              "    <path d=\"M18.56 5.44l.94 2.06.94-2.06 2.06-.94-2.06-.94-.94-2.06-.94 2.06-2.06.94zm-11 1L8.5 8.5l.94-2.06 2.06-.94-2.06-.94L8.5 2.5l-.94 2.06-2.06.94zm10 10l.94 2.06.94-2.06 2.06-.94-2.06-.94-.94-2.06-.94 2.06-2.06.94z\"/><path d=\"M17.41 7.96l-1.37-1.37c-.4-.4-.92-.59-1.43-.59-.52 0-1.04.2-1.43.59L10.3 9.45l-7.72 7.72c-.78.78-.78 2.05 0 2.83L4 21.41c.39.39.9.59 1.41.59.51 0 1.02-.2 1.41-.59l7.78-7.78 2.81-2.81c.8-.78.8-2.07 0-2.86zM5.41 20L4 18.59l7.72-7.72 1.47 1.35L5.41 20z\"/>\n",
              "  </svg>\n",
              "      </button>\n",
              "      \n",
              "  <style>\n",
              "    .colab-df-container {\n",
              "      display:flex;\n",
              "      flex-wrap:wrap;\n",
              "      gap: 12px;\n",
              "    }\n",
              "\n",
              "    .colab-df-convert {\n",
              "      background-color: #E8F0FE;\n",
              "      border: none;\n",
              "      border-radius: 50%;\n",
              "      cursor: pointer;\n",
              "      display: none;\n",
              "      fill: #1967D2;\n",
              "      height: 32px;\n",
              "      padding: 0 0 0 0;\n",
              "      width: 32px;\n",
              "    }\n",
              "\n",
              "    .colab-df-convert:hover {\n",
              "      background-color: #E2EBFA;\n",
              "      box-shadow: 0px 1px 2px rgba(60, 64, 67, 0.3), 0px 1px 3px 1px rgba(60, 64, 67, 0.15);\n",
              "      fill: #174EA6;\n",
              "    }\n",
              "\n",
              "    [theme=dark] .colab-df-convert {\n",
              "      background-color: #3B4455;\n",
              "      fill: #D2E3FC;\n",
              "    }\n",
              "\n",
              "    [theme=dark] .colab-df-convert:hover {\n",
              "      background-color: #434B5C;\n",
              "      box-shadow: 0px 1px 3px 1px rgba(0, 0, 0, 0.15);\n",
              "      filter: drop-shadow(0px 1px 2px rgba(0, 0, 0, 0.3));\n",
              "      fill: #FFFFFF;\n",
              "    }\n",
              "  </style>\n",
              "\n",
              "      <script>\n",
              "        const buttonEl =\n",
              "          document.querySelector('#df-3ea45313-2c19-4cb2-aa5c-4e62fb3511b7 button.colab-df-convert');\n",
              "        buttonEl.style.display =\n",
              "          google.colab.kernel.accessAllowed ? 'block' : 'none';\n",
              "\n",
              "        async function convertToInteractive(key) {\n",
              "          const element = document.querySelector('#df-3ea45313-2c19-4cb2-aa5c-4e62fb3511b7');\n",
              "          const dataTable =\n",
              "            await google.colab.kernel.invokeFunction('convertToInteractive',\n",
              "                                                     [key], {});\n",
              "          if (!dataTable) return;\n",
              "\n",
              "          const docLinkHtml = 'Like what you see? Visit the ' +\n",
              "            '<a target=\"_blank\" href=https://colab.research.google.com/notebooks/data_table.ipynb>data table notebook</a>'\n",
              "            + ' to learn more about interactive tables.';\n",
              "          element.innerHTML = '';\n",
              "          dataTable['output_type'] = 'display_data';\n",
              "          await google.colab.output.renderOutput(dataTable, element);\n",
              "          const docLink = document.createElement('div');\n",
              "          docLink.innerHTML = docLinkHtml;\n",
              "          element.appendChild(docLink);\n",
              "        }\n",
              "      </script>\n",
              "    </div>\n",
              "  </div>\n",
              "  "
            ]
          },
          "metadata": {},
          "execution_count": 65
        }
      ],
      "source": [
        "performance_df1 = pd.melt(performance_df, id_vars='Algorithm')\n",
        "performance_df1"
      ]
    },
    {
      "cell_type": "code",
      "execution_count": null,
      "metadata": {
        "id": "BTowAZylw_5Z",
        "colab": {
          "base_uri": "https://localhost:8080/",
          "height": 601
        },
        "outputId": "b86d8fb9-6126-4e37-f834-116d55c29562"
      },
      "outputs": [
        {
          "output_type": "display_data",
          "data": {
            "text/plain": [
              "<Figure size 691.2x576 with 6 Axes>"
            ],
            "image/png": "[encoded data removed]"
          },
          "metadata": {
            "needs_background": "light"
          }
        }
      ],
      "source": [
        "g = sns.catplot(data=performance_df1, col='Algorithm', y='value', x='variable', kind='bar', height=8, aspect=0.2)\n",
        "g.set_axis_labels(\"\", \"Score\")\n",
        "g.set(ylim=(0, 1))\n",
        "g.set_xticklabels(rotation=45)\n",
        "plt.show()"
      ]
    },
    {
      "cell_type": "code",
      "execution_count": null,
      "metadata": {
        "id": "vkfpM4qkxBlc",
        "colab": {
          "base_uri": "https://localhost:8080/"
        },
        "outputId": "47e738e7-3ffe-413d-a318-70a5f05fd29e"
      },
      "outputs": [
        {
          "output_type": "execute_result",
          "data": {
            "text/plain": [
              "VotingClassifier(estimators=[('LM',\n",
              "                              LogisticRegression(max_iter=10000,\n",
              "                                                 random_state=786)),\n",
              "                             ('RFC', RandomForestClassifier(random_state=786)),\n",
              "                             ('NB', MultinomialNB())],\n",
              "                 voting='soft')"
            ]
          },
          "metadata": {},
          "execution_count": 67
        }
      ],
      "source": [
        "# Applying Voting Classifier on top 3 models\n",
        "mnb = MultinomialNB()\n",
        "RFC =RandomForestClassifier(random_state=random_state)\n",
        "lr = LogisticRegression(max_iter=10000, random_state=random_state)\n",
        "\n",
        "from sklearn.ensemble import VotingClassifier\n",
        "voting = VotingClassifier(estimators=[('LM', lr), ('RFC', RFC), ('NB', mnb)], voting='soft')\n",
        "voting.fit(x_train,y_train)"
      ]
    },
    {
      "cell_type": "code",
      "execution_count": null,
      "metadata": {
        "id": "Q1hUfPPcxDHr",
        "colab": {
          "base_uri": "https://localhost:8080/"
        },
        "outputId": "ad3f2512-3f39-47f0-a57a-ab2c5805bb85"
      },
      "outputs": [
        {
          "output_type": "stream",
          "name": "stdout",
          "text": [
            "Accuracy 0.8868894601542416\n",
            "F1score 0.8752025931928686\n"
          ]
        }
      ],
      "source": [
        "y_pred = voting.predict(x_val)\n",
        "print('Accuracy', accuracy_score(y_val, y_pred))\n",
        "print('F1score', f1_score(y_val, y_pred))"
      ]
    },
    {
      "cell_type": "code",
      "execution_count": null,
      "metadata": {
        "id": "mxojl5UJxFMI",
        "colab": {
          "base_uri": "https://localhost:8080/"
        },
        "outputId": "bf72f56f-8a5f-440b-8708-c1c55a2c6a3e"
      },
      "outputs": [
        {
          "output_type": "execute_result",
          "data": {
            "text/plain": [
              "StackingClassifier(estimators=[('LM',\n",
              "                                LogisticRegression(max_iter=10000,\n",
              "                                                   random_state=786)),\n",
              "                               ('RFC',\n",
              "                                RandomForestClassifier(random_state=786)),\n",
              "                               ('NB', MultinomialNB())],\n",
              "                   final_estimator=RandomForestClassifier())"
            ]
          },
          "metadata": {},
          "execution_count": 69
        }
      ],
      "source": [
        "# Applying Stacking classifier on top 3 model\n",
        "estimators=[('LM', lr), ('RFC', RFC), ('NB', mnb)]\n",
        "final_estimator = RandomForestClassifier()\n",
        "from sklearn.ensemble import StackingClassifier\n",
        "stacking = StackingClassifier(estimators = estimators, final_estimator=final_estimator)\n",
        "stacking.fit(x_train,y_train)"
      ]
    },
    {
      "cell_type": "code",
      "source": [],
      "metadata": {
        "id": "ZnjwPJCoscVH"
      },
      "execution_count": null,
      "outputs": []
    },
    {
      "cell_type": "code",
      "execution_count": null,
      "metadata": {
        "id": "sFRvtxt6yu48",
        "colab": {
          "base_uri": "https://localhost:8080/"
        },
        "outputId": "f99133bc-f81e-42df-b6ed-b89f6251c565"
      },
      "outputs": [
        {
          "output_type": "stream",
          "name": "stdout",
          "text": [
            "Accuracy 0.8920308483290489\n",
            "F1score 0.8822587104525432\n"
          ]
        }
      ],
      "source": [
        "y_pred = stacking.predict(x_val)\n",
        "print('Accuracy', accuracy_score(y_val, y_pred))\n",
        "print('F1score', f1_score(y_val, y_pred))"
      ]
    },
    {
      "cell_type": "code",
      "execution_count": null,
      "metadata": {
        "id": "9Yag2TgAy7ri",
        "colab": {
          "base_uri": "https://localhost:8080/"
        },
        "outputId": "a4848e30-0aa8-4e1e-b0ec-220c35975964"
      },
      "outputs": [
        {
          "output_type": "stream",
          "name": "stdout",
          "text": [
            "(27226, 6000) (523, 6000)\n"
          ]
        }
      ],
      "source": [
        "# fit the cleaned text to vectorizer\n",
        "train_tfidf = tfidf.fit_transform(train_df['text_cleaned'])\n",
        "test_tfidf = tfidf.transform(test_data['text'])\n",
        "\n",
        "# store the labels\n",
        "y_train = train_df['sentiment']\n",
        "\n",
        "# check the shape\n",
        "print(train_tfidf.shape, test_tfidf.shape)"
      ]
    },
    {
      "cell_type": "code",
      "source": [
        "print(train_tfidf)"
      ],
      "metadata": {
        "colab": {
          "base_uri": "https://localhost:8080/"
        },
        "id": "tsvD9DAAPW3O",
        "outputId": "35e0c72e-22b7-4b33-f29f-bbd9dffda5e5"
      },
      "execution_count": null,
      "outputs": [
        {
          "output_type": "stream",
          "name": "stdout",
          "text": [
            "  (0, 2503)\t0.35664421702569715\n",
            "  (0, 2498)\t0.33629161452922157\n",
            "  (0, 2626)\t0.30227114468082533\n",
            "  (0, 3344)\t0.8175237045815861\n",
            "  (2, 5376)\t0.7555619636605154\n",
            "  (2, 486)\t0.4651400150494215\n",
            "  (2, 3801)\t0.46127094583258754\n",
            "  (3, 3193)\t0.6120948860491437\n",
            "  (3, 1675)\t0.399256945343654\n",
            "  (3, 5845)\t0.3859956963342718\n",
            "  (3, 5814)\t0.4372276230653313\n",
            "  (3, 2498)\t0.3546449916570111\n",
            "  (4, 5707)\t0.058939267121168586\n",
            "  (4, 5946)\t0.2507135998206403\n",
            "  (4, 5538)\t0.1758352583695191\n",
            "  (4, 92)\t0.2640508117603879\n",
            "  (4, 5225)\t0.22383113397449605\n",
            "  (4, 4435)\t0.245953342834668\n",
            "  (4, 5499)\t0.1854032866924691\n",
            "  (4, 5533)\t0.25653968351418055\n",
            "  (4, 1768)\t0.23536700215515544\n",
            "  (4, 220)\t0.0802514138802234\n",
            "  (4, 4920)\t0.6835676217268442\n",
            "  (4, 5976)\t0.26012435912733306\n",
            "  (4, 5801)\t0.1596254435835277\n",
            "  :\t:\n",
            "  (27222, 1675)\t0.274491686140574\n",
            "  (27223, 2557)\t0.5581008367106444\n",
            "  (27223, 1119)\t0.4126219560636262\n",
            "  (27223, 5866)\t0.27827571122768974\n",
            "  (27223, 3054)\t0.15330277249543237\n",
            "  (27223, 260)\t0.4170755427816203\n",
            "  (27223, 1505)\t0.24290259661508815\n",
            "  (27223, 3820)\t0.22273140115067291\n",
            "  (27223, 2174)\t0.2390953322712911\n",
            "  (27223, 1675)\t0.2785640520986979\n",
            "  (27224, 3241)\t0.5158711873323782\n",
            "  (27224, 2719)\t0.3325152849421346\n",
            "  (27224, 3752)\t0.3331556367932867\n",
            "  (27224, 1441)\t0.40599326825822846\n",
            "  (27224, 1488)\t0.19224499392917885\n",
            "  (27224, 2124)\t0.2409028991792061\n",
            "  (27224, 2465)\t0.16878792111149427\n",
            "  (27224, 5441)\t0.169212541229268\n",
            "  (27224, 3915)\t0.25023665999172195\n",
            "  (27224, 3167)\t0.2604756899895761\n",
            "  (27224, 3484)\t0.17789799741182327\n",
            "  (27224, 5801)\t0.1823705887837075\n",
            "  (27225, 5792)\t0.8752467715778469\n",
            "  (27225, 5299)\t0.3937173299198359\n",
            "  (27225, 2465)\t0.280944394788989\n"
          ]
        }
      ]
    },
    {
      "cell_type": "code",
      "source": [
        "test_data[\"sentiment\"]"
      ],
      "metadata": {
        "colab": {
          "base_uri": "https://localhost:8080/"
        },
        "id": "vlHATYFIQABd",
        "outputId": "bd69a138-9247-4879-ec63-640615ab2aaa"
      },
      "execution_count": null,
      "outputs": [
        {
          "output_type": "execute_result",
          "data": {
            "text/plain": [
              "0      1\n",
              "1      0\n",
              "2      1\n",
              "3      0\n",
              "4      0\n",
              "      ..\n",
              "518    0\n",
              "519    0\n",
              "520    0\n",
              "521    1\n",
              "522    1\n",
              "Name: sentiment, Length: 523, dtype: int64"
            ]
          },
          "metadata": {},
          "execution_count": 129
        }
      ]
    },
    {
      "cell_type": "code",
      "execution_count": null,
      "metadata": {
        "id": "XjJx5ggLy9MH",
        "colab": {
          "base_uri": "https://localhost:8080/"
        },
        "outputId": "9d4fc69d-fd0b-4e5a-a0ad-8103450d296a"
      },
      "outputs": [
        {
          "output_type": "stream",
          "name": "stdout",
          "text": [
            "Accuracy 0.8948374760994264\n",
            "F1score 0.8801742919389979\n",
            "Fit time: 0.81 secs | Predict time: 0.0 secs\n"
          ]
        }
      ],
      "source": [
        "final_model = LogisticRegression(max_iter=10000, random_state=random_state)\n",
        "\n",
        "# fit the model and check the processing time\n",
        "import time\n",
        "start = time.time()\n",
        "final_model.fit(train_tfidf, y_train)\n",
        "end = time.time()\n",
        "fit_time = end - start\n",
        "\n",
        "# make predictions and check the processing time\n",
        "start = time.time()\n",
        "final_pred = final_model.predict(test_tfidf)\n",
        "end = time.time()\n",
        "pred_time = end - start\n",
        "\n",
        "# check accuracy\n",
        "print('Accuracy', accuracy_score(test_data[\"sentiment\"], final_pred))\n",
        "print('F1score', f1_score(test_data[\"sentiment\"], final_pred))\n",
        "\n",
        "print('Fit time: {} secs | Predict time: {} secs'.format(round(fit_time, 2), round(pred_time, 2)))"
      ]
    },
    {
      "cell_type": "code",
      "source": [
        "train_df.loc[train_df[\"emotion\"]!=\"Not classified\"][[\"text\",\"sentiment\",\"emotion\"]]"
      ],
      "metadata": {
        "colab": {
          "base_uri": "https://localhost:8080/",
          "height": 424
        },
        "id": "UvNcRygkQqA9",
        "outputId": "9e54eb0d-b2c2-41dd-8be6-ebdba2af6489"
      },
      "execution_count": null,
      "outputs": [
        {
          "output_type": "execute_result",
          "data": {
            "text/plain": [
              "                                                    text  sentiment   emotion\n",
              "4      @mufaddal_vohra @ImRo45 \\n@BCCI \\n\\nWhen will\\...          0      Fear\n",
              "5      What’s your zodiac sign ?And what’s your Fav S...          1  Surprise\n",
              "6      @adidoescricket @TheRealPCB \\n@ICC\\n\\nHe will ...          1     Happy\n",
              "7      @RJ_Balaji  kirukku koodhian.. Spoiled the imp...          1  Surprise\n",
              "8      Bhai log hum hindu hein isiliye toh Pakistan a...          0  Surprise\n",
              "...                                                  ...        ...       ...\n",
              "27219  #INDvsPAK2022 #Worlds2022 #WorldCup2022  All h...          0  Surprise\n",
              "27221      Badhai ho #INDvsPAK2022 #indvspak #ViratKohli          0  Surprise\n",
              "27222              God was with us today 🤣 #INDvsPAK2022          1      Fear\n",
              "27224  Don't ever insult him comparing with anyone. #...          1     Happy\n",
              "27226           Welldone Team India 🇮🇳 \\n\\n#INDvsPAK2022          0       NaN\n",
              "\n",
              "[14269 rows x 3 columns]"
            ],
            "text/html": [
              "\n",
              "  <div id=\"df-8cf80bb3-bfff-4873-91ba-b998cc78c353\">\n",
              "    <div class=\"colab-df-container\">\n",
              "      <div>\n",
              "<style scoped>\n",
              "    .dataframe tbody tr th:only-of-type {\n",
              "        vertical-align: middle;\n",
              "    }\n",
              "\n",
              "    .dataframe tbody tr th {\n",
              "        vertical-align: top;\n",
              "    }\n",
              "\n",
              "    .dataframe thead th {\n",
              "        text-align: right;\n",
              "    }\n",
              "</style>\n",
              "<table border=\"1\" class=\"dataframe\">\n",
              "  <thead>\n",
              "    <tr style=\"text-align: right;\">\n",
              "      <th></th>\n",
              "      <th>text</th>\n",
              "      <th>sentiment</th>\n",
              "      <th>emotion</th>\n",
              "    </tr>\n",
              "  </thead>\n",
              "  <tbody>\n",
              "    <tr>\n",
              "      <th>4</th>\n",
              "      <td>@mufaddal_vohra @ImRo45 \\n@BCCI \\n\\nWhen will\\...</td>\n",
              "      <td>0</td>\n",
              "      <td>Fear</td>\n",
              "    </tr>\n",
              "    <tr>\n",
              "      <th>5</th>\n",
              "      <td>What’s your zodiac sign ?And what’s your Fav S...</td>\n",
              "      <td>1</td>\n",
              "      <td>Surprise</td>\n",
              "    </tr>\n",
              "    <tr>\n",
              "      <th>6</th>\n",
              "      <td>@adidoescricket @TheRealPCB \\n@ICC\\n\\nHe will ...</td>\n",
              "      <td>1</td>\n",
              "      <td>Happy</td>\n",
              "    </tr>\n",
              "    <tr>\n",
              "      <th>7</th>\n",
              "      <td>@RJ_Balaji  kirukku koodhian.. Spoiled the imp...</td>\n",
              "      <td>1</td>\n",
              "      <td>Surprise</td>\n",
              "    </tr>\n",
              "    <tr>\n",
              "      <th>8</th>\n",
              "      <td>Bhai log hum hindu hein isiliye toh Pakistan a...</td>\n",
              "      <td>0</td>\n",
              "      <td>Surprise</td>\n",
              "    </tr>\n",
              "    <tr>\n",
              "      <th>...</th>\n",
              "      <td>...</td>\n",
              "      <td>...</td>\n",
              "      <td>...</td>\n",
              "    </tr>\n",
              "    <tr>\n",
              "      <th>27219</th>\n",
              "      <td>#INDvsPAK2022 #Worlds2022 #WorldCup2022  All h...</td>\n",
              "      <td>0</td>\n",
              "      <td>Surprise</td>\n",
              "    </tr>\n",
              "    <tr>\n",
              "      <th>27221</th>\n",
              "      <td>Badhai ho #INDvsPAK2022 #indvspak #ViratKohli</td>\n",
              "      <td>0</td>\n",
              "      <td>Surprise</td>\n",
              "    </tr>\n",
              "    <tr>\n",
              "      <th>27222</th>\n",
              "      <td>God was with us today 🤣 #INDvsPAK2022</td>\n",
              "      <td>1</td>\n",
              "      <td>Fear</td>\n",
              "    </tr>\n",
              "    <tr>\n",
              "      <th>27224</th>\n",
              "      <td>Don't ever insult him comparing with anyone. #...</td>\n",
              "      <td>1</td>\n",
              "      <td>Happy</td>\n",
              "    </tr>\n",
              "    <tr>\n",
              "      <th>27226</th>\n",
              "      <td>Welldone Team India 🇮🇳 \\n\\n#INDvsPAK2022</td>\n",
              "      <td>0</td>\n",
              "      <td>NaN</td>\n",
              "    </tr>\n",
              "  </tbody>\n",
              "</table>\n",
              "<p>14269 rows × 3 columns</p>\n",
              "</div>\n",
              "      <button class=\"colab-df-convert\" onclick=\"convertToInteractive('df-8cf80bb3-bfff-4873-91ba-b998cc78c353')\"\n",
              "              title=\"Convert this dataframe to an interactive table.\"\n",
              "              style=\"display:none;\">\n",
              "        \n",
              "  <svg xmlns=\"http://www.w3.org/2000/svg\" height=\"24px\"viewBox=\"0 0 24 24\"\n",
              "       width=\"24px\">\n",
              "    <path d=\"M0 0h24v24H0V0z\" fill=\"none\"/>\n",
              "    <path d=\"M18.56 5.44l.94 2.06.94-2.06 2.06-.94-2.06-.94-.94-2.06-.94 2.06-2.06.94zm-11 1L8.5 8.5l.94-2.06 2.06-.94-2.06-.94L8.5 2.5l-.94 2.06-2.06.94zm10 10l.94 2.06.94-2.06 2.06-.94-2.06-.94-.94-2.06-.94 2.06-2.06.94z\"/><path d=\"M17.41 7.96l-1.37-1.37c-.4-.4-.92-.59-1.43-.59-.52 0-1.04.2-1.43.59L10.3 9.45l-7.72 7.72c-.78.78-.78 2.05 0 2.83L4 21.41c.39.39.9.59 1.41.59.51 0 1.02-.2 1.41-.59l7.78-7.78 2.81-2.81c.8-.78.8-2.07 0-2.86zM5.41 20L4 18.59l7.72-7.72 1.47 1.35L5.41 20z\"/>\n",
              "  </svg>\n",
              "      </button>\n",
              "      \n",
              "  <style>\n",
              "    .colab-df-container {\n",
              "      display:flex;\n",
              "      flex-wrap:wrap;\n",
              "      gap: 12px;\n",
              "    }\n",
              "\n",
              "    .colab-df-convert {\n",
              "      background-color: #E8F0FE;\n",
              "      border: none;\n",
              "      border-radius: 50%;\n",
              "      cursor: pointer;\n",
              "      display: none;\n",
              "      fill: #1967D2;\n",
              "      height: 32px;\n",
              "      padding: 0 0 0 0;\n",
              "      width: 32px;\n",
              "    }\n",
              "\n",
              "    .colab-df-convert:hover {\n",
              "      background-color: #E2EBFA;\n",
              "      box-shadow: 0px 1px 2px rgba(60, 64, 67, 0.3), 0px 1px 3px 1px rgba(60, 64, 67, 0.15);\n",
              "      fill: #174EA6;\n",
              "    }\n",
              "\n",
              "    [theme=dark] .colab-df-convert {\n",
              "      background-color: #3B4455;\n",
              "      fill: #D2E3FC;\n",
              "    }\n",
              "\n",
              "    [theme=dark] .colab-df-convert:hover {\n",
              "      background-color: #434B5C;\n",
              "      box-shadow: 0px 1px 3px 1px rgba(0, 0, 0, 0.15);\n",
              "      filter: drop-shadow(0px 1px 2px rgba(0, 0, 0, 0.3));\n",
              "      fill: #FFFFFF;\n",
              "    }\n",
              "  </style>\n",
              "\n",
              "      <script>\n",
              "        const buttonEl =\n",
              "          document.querySelector('#df-8cf80bb3-bfff-4873-91ba-b998cc78c353 button.colab-df-convert');\n",
              "        buttonEl.style.display =\n",
              "          google.colab.kernel.accessAllowed ? 'block' : 'none';\n",
              "\n",
              "        async function convertToInteractive(key) {\n",
              "          const element = document.querySelector('#df-8cf80bb3-bfff-4873-91ba-b998cc78c353');\n",
              "          const dataTable =\n",
              "            await google.colab.kernel.invokeFunction('convertToInteractive',\n",
              "                                                     [key], {});\n",
              "          if (!dataTable) return;\n",
              "\n",
              "          const docLinkHtml = 'Like what you see? Visit the ' +\n",
              "            '<a target=\"_blank\" href=https://colab.research.google.com/notebooks/data_table.ipynb>data table notebook</a>'\n",
              "            + ' to learn more about interactive tables.';\n",
              "          element.innerHTML = '';\n",
              "          dataTable['output_type'] = 'display_data';\n",
              "          await google.colab.output.renderOutput(dataTable, element);\n",
              "          const docLink = document.createElement('div');\n",
              "          docLink.innerHTML = docLinkHtml;\n",
              "          element.appendChild(docLink);\n",
              "        }\n",
              "      </script>\n",
              "    </div>\n",
              "  </div>\n",
              "  "
            ]
          },
          "metadata": {},
          "execution_count": 132
        }
      ]
    },
    {
      "cell_type": "code",
      "source": [
        "countplot_sns(train_df[\"emotion\"],\"Emotion Classification\")"
      ],
      "metadata": {
        "colab": {
          "base_uri": "https://localhost:8080/",
          "height": 458
        },
        "id": "HLrHQ0yPRa7h",
        "outputId": "d4054dd6-4797-4e7d-94d2-92747256d520"
      },
      "execution_count": null,
      "outputs": [
        {
          "output_type": "display_data",
          "data": {
            "text/plain": [
              "<Figure size 864x504 with 1 Axes>"
            ],
            "image/png": "[encoded data removed]"
          },
          "metadata": {
            "needs_background": "light"
          }
        }
      ]
    },
    {
      "cell_type": "code",
      "execution_count": null,
      "metadata": {
        "id": "8SLgqEF8y-9V"
      },
      "outputs": [],
      "source": [
        "# create a dataframe for submission\n",
        "submission = test_df[['id']].reset_index(drop=True)\n",
        "submission['target'] = final_pred.astype('int64')\n",
        "\n",
        "# check the dataframe\n",
        "submission1=submission.iloc[:3263, :]\n",
        "submission1"
      ]
    },
    {
      "cell_type": "code",
      "execution_count": null,
      "metadata": {
        "id": "IjlTYmUezAMj"
      },
      "outputs": [],
      "source": [
        "# export the dataframe as a csv file\n",
        "submission1.to_csv('submission.csv', index=False)"
      ]
    }
  ],
  "metadata": {
    "colab": {
      "provenance": []
    },
    "kernelspec": {
      "display_name": "Python 3",
      "name": "python3"
    },
    "language_info": {
      "name": "python"
    }
  },
  "nbformat": 4,
  "nbformat_minor": 0
}